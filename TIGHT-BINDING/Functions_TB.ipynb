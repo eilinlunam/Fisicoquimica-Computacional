{
 "cells": [
  {
   "cell_type": "markdown",
   "metadata": {},
   "source": [
    "# TIGHT BINDING Functions"
   ]
  },
  {
   "cell_type": "code",
   "execution_count": 1,
   "metadata": {},
   "outputs": [],
   "source": [
    "# Importando paquetes\n",
    "%matplotlib inline\n",
    "import numpy as np\n",
    "import pandas as pd\n",
    "from math import sqrt\n",
    "from importnb import Notebook\n",
    "import matplotlib.pyplot as plt\n",
    "with Notebook(): import class_punto_cuantico\n",
    "from class_punto_cuantico import punto_cuantico"
   ]
  },
  {
   "cell_type": "code",
   "execution_count": 2,
   "metadata": {},
   "outputs": [],
   "source": [
    "#-----------------------------------------------------------------\n",
    "# Funcion que genera una matriz de distancias entre los Carbonos.\n",
    "#-----------------------------------------------------------------\n",
    "# input:\n",
    "#   atom: vector de 1s y 0s --> 'C'=1, 'H'=0.\n",
    "#   coords: matriz de coordenadas: [[x], [y], [z]]\n",
    "# output:\n",
    "#   R: Matriz de distancias entre carbonos.\n",
    "def getMatrizDistancias(atom,coords, r=False):\n",
    "    atom, coords = np.array(atom), np.array(coords)\n",
    "    x,y,z=coords\n",
    "    x, y, z = x[atom==1.], y[atom==1.], z[atom==1.] #Extrayendo C.\n",
    "    X1, X2 = np.meshgrid(x,x)\n",
    "    Y1, Y2 = np.meshgrid(y,y)\n",
    "    Z1, Z2 = np.meshgrid(z,z)\n",
    "    R = np.sqrt((X2-X1)**2+(Y2-Y1)**2+(Z2-Z1)**2)\n",
    "    if r==True: return R, Z2-Z1\n",
    "    return R\n",
    "\n",
    "#-----------------------------------------------------------------\n",
    "# Funcion que obtiene la matriz T para 1 punto cuantico.\n",
    "#-----------------------------------------------------------------\n",
    "# input:\n",
    "#   t: parametro t. (t=-2.8 si no se especifica).\n",
    "#   atom: vector de 1s y 0s --> 'C'=1, 'H'=0.\n",
    "#   coords: matriz de coordenadas: [[x], [y], [z]]\n",
    "# output:\n",
    "#   T: Matriz t.\n",
    "def getT(atom,coords, t=-2.8):\n",
    "    D = getMatrizDistancias(atom, coords)\n",
    "    D[abs(D-1.44)>0.5]=0.\n",
    "    D[D>0.]=t\n",
    "    return np.array(D)\n",
    "\n",
    "#---------------------------------------------------------------------\n",
    "# Funcion que obtiene la matriz H para 2 puntos cuanticos superpuestos.\n",
    "#---------------------------------------------------------------------\n",
    "# input:\n",
    "#   t, gamma, Beta: parametros. (-3.16, -0.39, 3.0) Si no se especifican.\n",
    "#   atom: vector de 1s y 0s --> 'C'=1, 'H'=0.\n",
    "#   coords: matriz de coordenadas: [[x], [y], [z]]\n",
    "# output:\n",
    "#   H: Matriz H\n",
    "def getH(atom, coords, t=-3.16, gamma=-0.39, Beta=3.):\n",
    "    D,r = getMatrizDistancias(atom, coords, r=True)\n",
    "    H = np.zeros((len(D), len(D)))\n",
    "    H[(abs(r)<1e-2)&(abs(D-1.44)<1e-2)]=t\n",
    "    H[abs(r)>3.] = gamma*np.exp(-Beta*abs(D[abs(r)>3.]-3.3))\n",
    "    return H"
   ]
  },
  {
   "cell_type": "code",
   "execution_count": 3,
   "metadata": {},
   "outputs": [
    {
     "data": {
      "image/png": "[encoded data removed]",
      "text/plain": [
       "<Figure size 390x360 with 1 Axes>"
      ]
     },
     "metadata": {
      "needs_background": "light"
     },
     "output_type": "display_data"
    }
   ],
   "source": [
    "#--------------------------------------------------------------------\n",
    "# Ejemplo de como generar y almacenar los datos de\n",
    "# de un Punto cuantico Triangular.\n",
    "#--------------------------------------------------------------------\n",
    "# input:\n",
    "#      n: Tamano punto cuantico triangular.\n",
    "#    ang: Angulo de rotacion. (Opcional)-Por defecto: 0.0\n",
    "#      d: Distancia en z. (Opcional)-Por defecto: 0.0\n",
    "#   addH: True para agregar Hidrogenos, False e.o.c.\n",
    "#         (Opcional)-Por defecto: False.\n",
    "PCT = punto_cuantico(6, ang=np.pi/4, d=0.0, addH=True).Triangular()\n",
    "atom = PCT.atomos # Vector de atomos.\n",
    "coords = PCT.coords  # Matriz de Coordenadas de C+H [[x],[y],[z]]\n",
    "coordsC = PCT.coordsC # Matriz de Coordenadas de Carbonos [[Cx], [Cy], [Cz]]\n",
    "coordsH = PCT.coordsH # Matriz de Coordenadas de Hidrogenos [[Hx], [Hy], [Hz]]\n",
    "N  = PCT.N  # Cantidad de atomos totales H+C.\n",
    "nC = PCT.nC # Cantidad de Carbonos\n",
    "nH = PCT.nH # Cantidad de Hidrogenos\n",
    "PCT.graph() # Grafica"
   ]
  },
  {
   "cell_type": "code",
   "execution_count": 4,
   "metadata": {},
   "outputs": [
    {
     "data": {
      "image/png": "[encoded data removed]",
      "text/plain": [
       "<Figure size 390x360 with 1 Axes>"
      ]
     },
     "metadata": {
      "needs_background": "light"
     },
     "output_type": "display_data"
    }
   ],
   "source": [
    "#--------------------------------------------------------------------\n",
    "# Ejemplo de como generar y almacenar los datos de\n",
    "# de un Punto cuantico Hexagonal.\n",
    "#--------------------------------------------------------------------\n",
    "# input:\n",
    "#      n: Tamano punto cuantico hecagonal.\n",
    "#    ang: Angulo de rotacion. (Opcional)-Por defecto: 0.0\n",
    "#      d: Distancia en z. (Opcional)-Por defecto: 0.0\n",
    "#   addH: True para agregar Hidrogenos, False si no.\n",
    "#         (Opcional)-Por defecto: False.\n",
    "PCH = punto_cuantico(7, ang=np.pi/4, d=0.0, addH=True).Hexagonal()\n",
    "atom = PCH.atomos\n",
    "coords = PCH.coords  # Matriz de Coordenadas de C+H [[x],[y],[z]]\n",
    "coordsC = PCH.coordsC # Matriz de Coordenadas de Carbonos [[Cx], [Cy], [Cz]]\n",
    "coordsH = PCH.coordsH # Matriz de Coordenadas de Hidrogenos [[Hx], [Hy], [Hz]]\n",
    "N  = PCH.N  # Cantidad de atomos totales H+C.\n",
    "nC = PCH.nC # Cantidad de Carbonos\n",
    "nH = PCH.nH # Cantidad de Hidrogenos\n",
    "PCH.graph() # Grafica"
   ]
  },
  {
   "cell_type": "code",
   "execution_count": 5,
   "metadata": {},
   "outputs": [
    {
     "name": "stdout",
     "output_type": "stream",
     "text": [
      "#Carbonos=46.000000\n",
      "Sum(Diag(P))=46.000000\n"
     ]
    },
    {
     "data": {
      "image/png": "[encoded data removed]",
      "text/plain": [
       "<Figure size 440x360 with 2 Axes>"
      ]
     },
     "metadata": {
      "needs_background": "light"
     },
     "output_type": "display_data"
    }
   ],
   "source": [
    "#-----------------------------------------------------------------------------------\n",
    "# Funcion que calcula la densidad de carga de 1 punto cuantico TRIANGULAR con n impar.\n",
    "# Nota: Esta funcion necesita correcciones y mejoras.\n",
    "#------------------------------------------------------------------------------------\n",
    "# input:\n",
    "#   t, gamma, Beta: parametros. (-3.16, -0.39, 3.0) Si no se especifican.\n",
    "#   atom: vector de 1s y 0s --> 'C'=1, 'H'=0.\n",
    "#   coords: matriz de coordenadas: [[x], [y], [z]]\n",
    "# output:\n",
    "#   P: Matriz de densidad de carga\n",
    "def ChargeDensity(atom, coords):\n",
    "    T = getT(atom, coords)\n",
    "    E, eigvec = np.linalg.eigh(T)\n",
    "    nC = len(T) # Num Carbonos\n",
    "    N = nC//2 # Num de ocupacion\n",
    "    P = np.zeros((nC,nC))\n",
    "    for t in range(nC):\n",
    "        for u in range(nC):\n",
    "            suma = 0.\n",
    "            for i in range(N):\n",
    "                suma += eigvec[i][t]*eigvec[i][u]\n",
    "            P[t,u] = 2*suma\n",
    "    print(\"#Carbonos=%f\"%(nC))\n",
    "    print(\"Sum(Diag(P))=%f\"%np.sum(np.diag(P)))\n",
    "    return P\n",
    "\n",
    "#-----------------------------------------------------------------------------------\n",
    "# Ejemplo:\n",
    "#-----------------------------------------------------------------------------------\n",
    "n=5\n",
    "plt.figure(figsize=(4.4,3.6), dpi=100)\n",
    "plt.title(\"Charge Density\\n Punto Cuántico Triangular n=\"+str(n), \n",
    "          fontsize=9)\n",
    "PCT = punto_cuantico(n, ang=0.0, d=0.0, addH=False).Triangular()\n",
    "atom, coords = PCT.atomos, PCT.coords  \n",
    "#................................\n",
    "P = ChargeDensity(atom,coords)\n",
    "#................................\n",
    "x = plt.pcolor(P)\n",
    "plt.colorbar(x)\n",
    "plt.show()"
   ]
  },
  {
   "cell_type": "code",
   "execution_count": 6,
   "metadata": {},
   "outputs": [
    {
     "data": {
      "image/png": "[encoded data removed]",
      "text/plain": [
       "<Figure size 440x360 with 1 Axes>"
      ]
     },
     "metadata": {
      "needs_background": "light"
     },
     "output_type": "display_data"
    }
   ],
   "source": [
    "#-----------------------------------------------------------------------------------\n",
    "# Funcion que obtiene las coordenadas de los Carbonos con dos vecinos.\n",
    "#------------------------------------------------------------------------------------\n",
    "# input:\n",
    "#   parametro t (Opcional)\n",
    "#   atom: vector de 1s y 0s --> 'C'=1, 'H'=0.\n",
    "#   coords: matriz de coordenadas: [[x], [y], [z]]\n",
    "# output:\n",
    "#   bordes: matriz de coordenadas.\n",
    "def coords_bordes(atom,coords, t=-2.8):\n",
    "    T = getT(atom, coords, t=t)\n",
    "    m,p = T.shape\n",
    "    coords = np.transpose(coords)\n",
    "    bordes=[]\n",
    "    for i in range(m):\n",
    "        Nvecinos = list(T[i]).count(t)\n",
    "        if Nvecinos==2:\n",
    "            bordes+=[coords[i]]\n",
    "    return np.transpose(bordes)\n",
    "\n",
    "#-----------------------------------------------------------------------------------\n",
    "# Ejemplo:\n",
    "#-----------------------------------------------------------------------------------\n",
    "n=5\n",
    "plt.figure(figsize=(4.4,3.6), dpi=100)\n",
    "plt.title(\"Punto Cuántico n=\"+str(n), \n",
    "          fontsize=9)\n",
    "PCH = punto_cuantico(n, ang=0.0, d=0.0, addH=False).Hexagonal()\n",
    "atom, coords = PCH.atomos, PCH.coords  \n",
    "#................................\n",
    "x,y,z=coords_bordes(atom, coords)\n",
    "#................................\n",
    "plt.plot(coords[0],coords[1],'yo')\n",
    "plt.plot(x,y,'*r', ms=12)\n",
    "plt.show()"
   ]
  },
  {
   "cell_type": "code",
   "execution_count": 7,
   "metadata": {},
   "outputs": [
    {
     "data": {
      "image/png": "[encoded data removed]",
      "text/plain": [
       "<Figure size 440x360 with 1 Axes>"
      ]
     },
     "metadata": {
      "needs_background": "light"
     },
     "output_type": "display_data"
    }
   ],
   "source": [
    "#------------------------------------------------\n",
    "# Funcion que lee un archivo \"xyz\" y genera \n",
    "# guarda un vector de atomos y coordenadas.\n",
    "#------------------------------------------------\n",
    "# input:\n",
    "#   archivo: Nombre del archivo (str)\n",
    "# output:\n",
    "#   atom: vector de 1s y 0s --> 'C'=1, 'H'=0.\n",
    "#   coords: matriz de coordenadas: [[x], [y], [z]]\n",
    "def readfile(archivo):\n",
    "    file = open(archivo, \"r\")\n",
    "    lines = file.readlines()\n",
    "    atom, coords = [], []\n",
    "    for line in lines[2:]:\n",
    "        A, x, y, z= line.split()\n",
    "        coords.append([x,y,z])\n",
    "        if A == 'C': A = 1\n",
    "        else: A = 0\n",
    "        atom.append(A)\n",
    "    file.close()\n",
    "    coords = np.transpose(coords)\n",
    "    return np.array(atom), np.array(coords, dtype=float)\n",
    "\n",
    "#-----------------------------------------------------------------------------------\n",
    "# Ejemplo:\n",
    "#-----------------------------------------------------------------------------------\n",
    "plt.figure(figsize=(4.4,3.6), dpi=100)\n",
    "plt.title(\"Punto Cuántico n=\"+str(n), \n",
    "          fontsize=9)\n",
    "#..................................................\n",
    "atom, coords = readfile(\"benzene.xyz\")\n",
    "#...................................................\n",
    "plt.plot(coords[0][atom==1],coords[1][atom==1],'ro')\n",
    "plt.plot(coords[0][atom==0],coords[1][atom==0],'y.')\n",
    "plt.show()"
   ]
  },
  {
   "cell_type": "code",
   "execution_count": 8,
   "metadata": {
    "scrolled": false
   },
   "outputs": [
    {
     "name": "stdout",
     "output_type": "stream",
     "text": [
      "64\n",
      "XYZ\n",
      "C\t0\t5.76\t0.0\n",
      "C\t-1.2470765814495914\t5.04\t0.0\n",
      "C\t1.2470765814495914\t5.04\t0.0\n",
      "C\t-1.2470765814495914\t3.6\t0.0\n",
      "C\t1.2470765814495914\t3.6\t0.0\n",
      "C\t-2.494153162899183\t2.88\t0.0\n",
      "C\t0.0\t2.88\t0.0\n",
      "C\t2.494153162899183\t2.88\t0.0\n",
      "continua...\n"
     ]
    }
   ],
   "source": [
    "#------------------------------------------------\n",
    "# Funcion que escrive un archivo \"xyz\" a partir\n",
    "# de un vector de atomos y coordenadas.\n",
    "#------------------------------------------------\n",
    "# input:\n",
    "#   atom: vector de 1s y 0s --> 'C'=1, 'H'=0.\n",
    "#   coords: matriz de coordenadas: [[x], [y], [z]]\n",
    "#   filename: Nombre del archivo (str)\n",
    "# output:\n",
    "#   archivo.\n",
    "def write_coords(atom, coords, filename):\n",
    "    x,y,z = coords\n",
    "    f = open(filename, \"w\")\n",
    "    f.write(str(len(atom))+\"\\n\")\n",
    "    f.write(\"XYZ\"+\"\\n\")\n",
    "    for i in range(len(atom)):\n",
    "        if atom[i]==1: a=\"C\"\n",
    "        else: a=\"H\"\n",
    "        f.write( a+\"\\t\"\n",
    "                  +str(x[i])+\"\\t\"\n",
    "                  +str(y[i])+\"\\t\"\n",
    "                  +str(z[i])+\"\\n\")\n",
    "    f.close()\n",
    "    return \n",
    "\n",
    "#-----------------------------------------------------------------------------------\n",
    "# Ejemplo:\n",
    "#-----------------------------------------------------------------------------------\n",
    "PCH = punto_cuantico(2, ang=0.0, d=0.0, addH=True, CH=1).Hexagonal()\n",
    "atom, coords = PCH.atomos, PCH.coords \n",
    "#..................................................\n",
    "write_coords(atom,coords,\"hexagono-2.xyz\")\n",
    "#...................................................\n",
    "! head -10 \"hexagono-5.xyz\"\n",
    "print(\"continua...\")"
   ]
  },
  {
   "cell_type": "markdown",
   "metadata": {},
   "source": [
    "<img src=\"picture.png\"\n",
    "     alt=\"Markdown Monster icon\"\n",
    "     style=\"float: left; margin-right: 3px;\" />"
   ]
  },
  {
   "cell_type": "markdown",
   "metadata": {},
   "source": [
    "### Adjuntando funciones para hacer gráficas.\n",
    "(Ignorar)."
   ]
  },
  {
   "cell_type": "code",
   "execution_count": 9,
   "metadata": {},
   "outputs": [],
   "source": [
    "def grafica1(E,x,y,atom):\n",
    "    fig,(ax1,ax2) = plt.subplots(figsize=(8,3), dpi=100, ncols=2)\n",
    "    ax1.set_title(u\"Energías Benceno\", fontsize=10, color='r')\n",
    "    ax2.set_title(u\"Benceno\", fontsize=10, color='r')\n",
    "    ax1.plot(E, 'o-')\n",
    "    ax2.plot(x[atom==1.],y[atom==1.], 'or', ms=20)\n",
    "    ax2.plot(x[atom!=1.],y[atom!=1.], 'oy', ms=15)\n",
    "    plt.show()\n",
    "    \n",
    "def grafica2(n, E, eigvec, x, y, atom, eig):\n",
    "    fig,(ax1,ax2) = plt.subplots(figsize=(8,2.5), dpi=110, ncols=2)\n",
    "    ax1.set_title(u\"Energías Triangular n=\"+str(n), fontsize=10, color='r')\n",
    "    ax2.set_title(u\"Punto Cuántico Triangular n=\"+str(n)+\n",
    "                  \"\\nvector propio=\"+str(eig), fontsize=10, color='r')\n",
    "    ax1.plot(E, 'b.-')\n",
    "    Factor = np.array([eigvec[i][eig]*eigvec[i][eig] for i in range(len(E))])\n",
    "    C = ax2.scatter(x[atom==1], y[atom==1], s=Factor*2000, c=E, cmap='jet')\n",
    "    ax1.grid(alpha=0.4)\n",
    "    cbar = fig.colorbar(C, label=u\"Energías\")\n",
    "    [ax2.text(x[i], y[i], str(i), fontsize=7) for i in range(len(x[atom==1]))]\n",
    "    plt.show()\n",
    "    \n",
    "def grafica3(i,E,x,y,atom):\n",
    "    fig,(ax1,ax2) = plt.subplots(figsize=(8,2.5), dpi=110, ncols=2)\n",
    "    ax1.set_title(u\"Energías Triangular n=\"+str(i), fontsize=10, color='r')\n",
    "    ax2.set_title(u\"Punto Cuántico Triangular n=\"+str(i), fontsize=10, color='r')\n",
    "    ax1.plot(E, 'b.-', ms=20/i)\n",
    "    ax2.plot(x[atom==0], y[atom==0], '.', c='gray', ms=7-0.1*i)\n",
    "    x,y=x[atom==1],y[atom==1]\n",
    "    C = ax2.scatter(x, y, c='r', cmap='jet', s=100/i)\n",
    "    ax1.grid(alpha=0.4)\n",
    "    if i<10: [ax2.text(x[j]+0.1, y[j], str(j), fontsize=9-0.2*i) for j in range(len(x))]\n",
    "    plt.show()"
   ]
  },
  {
   "cell_type": "code",
   "execution_count": null,
   "metadata": {},
   "outputs": [],
   "source": []
  }
 ],
 "metadata": {
  "kernelspec": {
   "display_name": "Python 3",
   "language": "python",
   "name": "python3"
  },
  "language_info": {
   "codemirror_mode": {
    "name": "ipython",
    "version": 3
   },
   "file_extension": ".py",
   "mimetype": "text/x-python",
   "name": "python",
   "nbconvert_exporter": "python",
   "pygments_lexer": "ipython3",
   "version": "3.6.9"
  }
 },
 "nbformat": 4,
 "nbformat_minor": 2
}
