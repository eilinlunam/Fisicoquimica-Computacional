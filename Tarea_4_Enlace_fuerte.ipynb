{
 "cells": [
  {
   "cell_type": "markdown",
   "metadata": {},
   "source": [
    "# Aproximación de enlace fuerte\n",
    "\n",
    "Siempre pretendemos resolver\n",
    "\n",
    "$$ \\hat{H} | \\psi \\rangle = E | \\psi \\rangle $$\n",
    "\n",
    "La función de onda la escribimos como una combinación de orbitales atómicos para el carbono, $s_p^3$, $s$. $p_x$, $p_y$, $p_z$.\n",
    "\n",
    "$$ \\psi = \\sum_{i=1}^{n} c_i \\phi (\\vec{r} - R_i) $$\n",
    "\n",
    "donde n es el número de átomos que tengo,\n",
    "\n",
    "$$ \\sum_{i}^{n} c_i \\hat{H} \\phi ( \\vec{r} - \\vec{R}_i) = E \\sum_{i=1}^{n} c_i \\phi_i (\\vec{r} - \\vec{R}_i) $$\n",
    "\n",
    "Multiplicamos a izquierda por $\\phi^{*} (\\vec{r} - \\vec{R}_j)$ e integramos en todo el espacio:\n",
    "\n",
    "$$ \\sum_{i=1}^{n} c_i \\int \\phi^{*}_j(\\vec{r}-\\vec{R}_j)  \\hat{H} \\phi(\\vec{r}-\\vec{R}_i) d\\vec{r} = E \\sum_{i=1}^{n} c_i \\int \\phi^{*} (\\vec{r}-\\vec{R}_j) \\phi(\\vec{r}-\\vec{R}_i) d\\vec{r}$$\n",
    "\n",
    "Los orbitales atómicos son ortonormales entre sí\n",
    "\n",
    "$$ \\int \\phi^{*} (\\vec{r} - \\vec{R}_j) \\phi((\\vec{r} - \\vec{R}_j) d\\vec{r} = \\delta_{ij}$$\n",
    "\n",
    "$$ \\sum_{i=1} c_i \\int \\phi^{*} (\\vec{r} - \\vec{R}_j) \\hat{H} \\phi(\\vec{r} - \\vec{R}_i) d\\vec{r} = E c_j $$\n",
    "\n",
    "Aoproximación:\n",
    "\n",
    "1 a primeros vecinos:\n",
    "\n",
    "$$ C_1 t + C_5 t = E C_0 $$\n",
    "$$ C_0 t + C_2 t = E C_1 $$\n",
    "$$ C_1 t + C_3 t = E C_2 $$\n",
    "$$ C_2 t + C_4 t = E C_3 $$\n",
    "$$ C_3 t + C_5 t = E C_4 $$\n",
    "$$ C_0 t + C_4 t = E C_5 $$\n",
    "\n",
    "$$ \\left( \\begin{matrix}\n",
    "0 && t && 0 && 0 && 0 && t \\\\\n",
    "t && 0 && t && 0 && 0 && 0 \\\\\n",
    "0 && t && 0 && t && 0 && 0 \\\\\n",
    "0 && 0 && t && 0 && t && 0 \\\\\n",
    "0 && 0 && 0 && t && 0 && t \\\\\n",
    "t && 0 && 0 && 0 && t && 0 \\\\\n",
    "\\end{matrix}  \\right) \\left( \\begin{matrix} c_0 \\\\ c_1 \\\\ c_2 \\\\ c_3 \\\\ c_4 \\\\ c_5 \\\\ \\end{matrix} \\right) = E \\left( \\begin{matrix} c_0 \\\\ c_1 \\\\ c_2 \\\\ c_3 \\\\ c_4 \\\\ c_5 \\\\ \\end{matrix} \\right) $$\n",
    "\n",
    "\n",
    "Los valores de t, los podemos determinar desde experimentos desde otros cálculos. Dado el valor de t determinar E.\n",
    "\n",
    "t = -2.7"
   ]
  },
  {
   "cell_type": "code",
   "execution_count": 1,
   "metadata": {},
   "outputs": [
    {
     "data": {
      "text/plain": [
       "array([-5.4, -2.7, -2.7,  2.7,  2.7,  5.4])"
      ]
     },
     "execution_count": 1,
     "metadata": {},
     "output_type": "execute_result"
    }
   ],
   "source": [
    "# Importando paquetes\n",
    "import pandas as pd\n",
    "import numpy as np\n",
    "\n",
    "# Funcion que lee un archivo y genera un vector de atomos\n",
    "# y coordenadas.\n",
    "def readfile(archivo):\n",
    "    file = open(archivo, \"r\")\n",
    "    lines = file.readlines()\n",
    "    atom=[]\n",
    "    coords=[]\n",
    "    for line in lines[2:]:\n",
    "        A, x, y, z = line.split()\n",
    "        coords.append([x,y,z])\n",
    "        atom.append(A)\n",
    "    coords = np.array(coords, dtype=float)\n",
    "    file.close()\n",
    "    return atom,coords\n",
    "\n",
    "# Funcion que genera una matriz de distancias entre los Carbonos.\n",
    "def getMatrizDistancias(atom,coords):\n",
    "    C = pd.DataFrame(coords, columns=['x', 'y', 'z'], index=atom)\n",
    "    Cs = C[C.index=='C'] \n",
    "    X1, X2 = np.meshgrid(Cs.x,Cs.x)\n",
    "    Y1, Y2 = np.meshgrid(Cs.y,Cs.y)\n",
    "    Z1, Z2 = np.meshgrid(Cs.z,Cs.z)\n",
    "    D = np.sqrt((X2-X1)**2+(Y2-Y1)**2+(Z2-Z1)**2)\n",
    "    return D\n",
    "\n",
    "def getT(file, t):\n",
    "    atom, coords = readfile(file)\n",
    "    D = getMatrizDistancias(atom, coords)\n",
    "    np.fill_diagonal(D, 1000)\n",
    "    D = pd.DataFrame(D) \n",
    "    Dmin = np.min(D)\n",
    "    D[D>round(Dmin,2)]=0.\n",
    "    D[D>0.]=t\n",
    "    return np.array(D)\n",
    "\n",
    "t = -2.7\n",
    "T = getT('benzene.xyz', t)\n",
    "E, eigvec = np.linalg.eig(T)\n",
    "np.sort(E)"
   ]
  },
  {
   "cell_type": "code",
   "execution_count": 2,
   "metadata": {},
   "outputs": [
    {
     "data": {
      "text/plain": [
       "[<matplotlib.lines.Line2D at 0x7f2646655860>]"
      ]
     },
     "execution_count": 2,
     "metadata": {},
     "output_type": "execute_result"
    },
    {
     "data": {
      "image/png": "[encoded data removed]",
      "text/plain": [
       "<Figure size 324x288 with 1 Axes>"
      ]
     },
     "metadata": {
      "needs_background": "light"
     },
     "output_type": "display_data"
    }
   ],
   "source": [
    "%matplotlib inline\n",
    "import matplotlib.pyplot as plt\n",
    "a, coor = readfile('benzene.xyz')\n",
    "C = pd.DataFrame(coor, columns=['x', 'y', 'z'], index=a)\n",
    "Cs = C[C.index=='C'] \n",
    "Hs = C[C.index=='H'] \n",
    "plt.figure(figsize=(4.5,4))\n",
    "plt.plot(Cs.x, Cs.y, 'o', ms=20)\n",
    "plt.plot(Hs.x, Hs.y, 'o', c='blue', ms=25)"
   ]
  },
  {
   "cell_type": "code",
   "execution_count": null,
   "metadata": {},
   "outputs": [],
   "source": []
  }
 ],
 "metadata": {
  "kernelspec": {
   "display_name": "Python 2",
   "language": "python",
   "name": "python2"
  },
  "language_info": {
   "codemirror_mode": {
    "name": "ipython",
    "version": 3
   },
   "file_extension": ".py",
   "mimetype": "text/x-python",
   "name": "python",
   "nbconvert_exporter": "python",
   "pygments_lexer": "ipython3",
   "version": "3.6.9"
  }
 },
 "nbformat": 4,
 "nbformat_minor": 2
}
