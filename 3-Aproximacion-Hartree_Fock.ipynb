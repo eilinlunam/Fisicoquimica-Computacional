{
 "cells": [
  {
   "cell_type": "markdown",
   "metadata": {},
   "source": [
    "$$ \\hat{H} = -\\frac{1}{2} \\sum_{i=1}^{n} \\nabla_i^2 + \\sum_{i,I} \\frac{Z_I}{|{\\vec{R}_I-\\vec{r}_i}|} + \\frac{1}{2} \\sum_{i,j} \\frac{1}{|\\vec{r}_i - \\vec{r_j} |} $$\n",
    "\n",
    "$$ E, \\psi ( \\vec{r}_1, \\vec{r}_2, ... \\vec{r}_n, \\vec{R}_1,... \\vec{r}_N)  $$\n",
    "\n",
    "# <center> Aproximación de Hartree-Fock </center>\n",
    "\n",
    "**¿Cuál es la forma de la función de onda?**\n",
    "\n",
    "1) El sistema es un sistema fermiónico.\n",
    "Un ejemplo de sistemas fermiónicos, son los electrones, por tanto, cumplen con el principio de exclusón de Pauli, \"*Dos fenómenos no pueden estar en el mismo estado cuántico*\".\n",
    "\n",
    "**Tarea** Modelo atómico de Bohr.\n",
    "\n",
    "$$ E_n = \\frac{-R_y}{n^2}, \\ n=1,2,3...$$\n",
    "\n",
    "La consecuencia de P.E.P, es que la función de onda del sistema tiene que ser antisimétrica, bajo el intercambio de partículas.\n",
    "\n",
    "$$ \\psi (\\vec{r}_1, \\vec{r}_2, ..., \\vec{r}_i, \\vec{r}_j, ... \\vec{r}_n) = -\\psi (\\vec{r}_1, \\vec{r}_2, ..., \\vec{r}_i, \\vec{r}_j, ... \\vec{r}_n)$$\n",
    "\n",
    "Si eliminamos la interacción, electrón-electrón:\n",
    "$$ \\hat{H} = -\\frac{1}{2} \\sum_{i=1}^{n} \\nabla_i^2 + \\sum_{i,I} \\frac{Z_I}{|{\\vec{R}_I-\\vec{r}_i}|} $$\n",
    "\n",
    "$$ \\hat{H} = \\hat{h}_1 + \\hat{h}_2 + \\hat{h}_3 + ... + \\hat{h}_n, $$\n",
    "\n",
    "donde,\n",
    "\n",
    "$$ \\hat{h}_i = -\\frac{1}{2} \\nabla_i^2 + \\sum_{I} \\frac{Z_I}{|\\vec{r}_i-\\vec{R}_I|} $$\n",
    "\n",
    "Para este caso:\n",
    "\n",
    "$$ \\hat{H} = \\sum_{i=1}^{n} \\hat{h}_i $$\n",
    "\n",
    "$$ \\hat{H}| \\psi \\rangle = E | \\psi \\rangle $$\n",
    "\n",
    "$$ \\sum _{i=1}^{n} \\hat{h}_i \\psi(\\vec{r}_1,  ..., \\vec{r}_n) = E \\psi(\\vec{r}_1) $$\n",
    "\n",
    "$$\\hat{h}_1 \\psi(\\vec{r}_1, ..., \\vec{r}_n ) + \\hat{h}_2 \\psi(\\vec{r}_1, ..., \\vec{r}_n ) + ... + \\hat{h}_n \\psi(\\vec{r}_1, ..., \\vec{r}_n ) = E \\psi(\\vec{r}_1, ..., \\vec{r}_n ) $$\n",
    "\n",
    "+ Como la ecuación es separable:\n",
    "\n",
    "$$ \\psi (\\vec{r}_1, ..., \\vec{r}_n) = \\phi_1(\\vec{r}_1) \\phi_2(\\vec{r}_2) ... \\phi_n(\\vec{r}_n) $$ \n",
    "\n",
    "$$ \\hat{h}_i \\phi_i (\\vec{r}_i) = \\epsilon_i \\phi_i (\\vec{r}_i ) $$\n",
    "\n",
    "$$ E = \\sum_{i=1} \\epsilon_i $$"
   ]
  },
  {
   "cell_type": "markdown",
   "metadata": {},
   "source": [
    "# <center> Átomo de Helio </center>\n",
    "\n",
    "$$ \\hat{H} = -\\frac{1}{2} \\nabla_1^2 - \\frac{1}{2} \\nabla_2 ^2 - \\frac{Z}{|\\vec{r}_1 - \\vec{R}|} - \\frac{Z}{|\\vec{r}_2 - \\vec{R}|} + \\frac{1}{|\\vec{r}_1 - \\vec{r}_2|} $$\n",
    "\n",
    "Si tomamos el punto de referencia en el núcleo\n",
    "\n",
    "$$ \\hat{H} = \\left( -\\frac{1}{2} \\nabla_1^2 - \\frac{Z}{|\\vec{r}_1|} \\right) + \\left( -\\frac{1}{2} \\nabla_2^2 - \\frac{Z}{|\\vec{r}_2|} \\right) + \\frac{1}{r_{12}} $$\n",
    "\n",
    "donde $ r_{12} = | \\vec{r}_1 - \\vec{r}_2 | $\n",
    "\n",
    "$$ \\hat{H} = \\hat{h}_1 + \\hat{h}_2 + \\frac{1}{r_{12}} $$\n",
    "\n",
    "Queremos calculat la energía del sistema:\n",
    "\n",
    "$$ \\therefore E = \\langle \\psi | \\hat{H} | \\psi \\rangle $$\n",
    "\n",
    "Suponemos que nuestras funciones de onda,\n",
    "\n",
    "$$ \\psi = \\frac{1}{\\sqrt{2}} \\left| \\begin{matrix}\n",
    "\\chi_a(1) && \\chi_b(1) \\\\\n",
    "\\chi_a(2) && \\chi_b(2) \\\\\n",
    "\\end{matrix} \\right|  $$\n",
    "\n",
    "$$ \\psi = \\frac{1}{\\sqrt{2}} \\left( \\chi_a(1) \\chi_b(2) - \\chi_b(1) \\chi_a(2) \\right) $$\n",
    "\n",
    "cada función,\n",
    "\n",
    "$$ \\chi_a(1) = \\psi(\\vec{r}_1) \\alpha(1) $$\n",
    "$$ \\chi_b(1) = \\psi(\\vec{r}_1) \\beta(1) $$\n",
    "\n",
    "$$ \\langle \\psi(\\vec{r}_1) | \\psi(\\vec{r}_1) \\rangle = \\int \\psi^{*} (\\vec{r}_1) \\psi (\\vec{r}_1) d \\vec{r}_1 = 1 $$\n",
    "\n",
    "Los componentes de spin también son ortonormales,\n",
    "\n",
    "$$ \\langle \\alpha(1) | \\alpha(1) \\rangle = 1 $$\n",
    "$$ \\langle \\beta(1) | \\beta(1) \\rangle = 1 $$\n",
    "$$ \\langle \\alpha(1) | \\beta(1) \\rangle = 0 $$\n",
    "$$ \\langle \\beta(1) | \\alpha(1) \\rangle = 0 $$\n",
    "\n",
    "$$ E = \\langle \\psi | \\hat{H} | \\psi \\rangle = \\langle \\psi | \\hat{h}_1 | \\psi \\rangle + \\langle \\psi | \\hat{h}_2 | \\psi \\rangle + \\left \\langle \\psi \\left| \\frac{1}{r_{12}} \\right| \\psi \\right \\rangle $$\n",
    "\n",
    "$$  \\begin {matrix}\n",
    "h_1 \n",
    "&& = \\frac{1}{2}  \\big \\{ \\langle \\chi_a(1) | \\hat{h}_1 | \\chi_a(1) \\rangle \\langle \\chi_b(2) | \\chi_b(2) \\rangle \\\\\n",
    "&& - \\langle \\chi_a(1) | \\hat{h}_1 | \\chi_b(1) \\rangle \\langle \\chi_b(2) | \\chi_a(2) \\rangle \\\\\n",
    "&& - \\langle \\chi_b(1) | \\hat{h}_1 | \\chi_a(1) \\rangle \\langle \\chi_a(2) | \\chi_b(2) \\rangle \\\\\n",
    "&& + \\langle \\chi_b(1) | \\hat{h}_1 | \\chi_b(1) \\rangle \\langle \\chi_a(2) | \\chi_a(2) \\rangle \\big \\}\n",
    "\\end{matrix}\n",
    "$$ \n",
    "\n",
    "$$ h_1 = \\frac{1}{2} \\big \\{ \\langle \\chi_a(1) | \\hat{h}_1 | \\chi_a(1) \\rangle +\n",
    "\\langle  \\chi_b(1) | \\hat{h}_1 | \\chi_b (1) \\rangle \\big \\} $$\n",
    "\n",
    "como tenemos $\\chi_a(1)=\\psi(\\vec{r}_1) \\alpha(1) $\n",
    "\n",
    "$$ h_1 = \\frac{1}{2} \\big \\{ \\langle \\psi(\\vec{r}_1) | \\hat{h}_1 | \\psi(\\vec{r}_1) \\rangle \\langle \\alpha(1) | \\alpha(1) \\rangle + \\langle \\psi(\\vec{r}_1) | \\hat{h}_1 | \\psi(\\vec{r}_1) \\rangle \\langle \\beta(1) | \\beta(1) \\rangle \\big \\}$$\n",
    "\n",
    "$$ \\therefore h_1 = \\langle \\psi(\\vec{r}_1) | \\hat{h}_1 | \\psi(\\vec{r}_1) \\rangle $$\n",
    "\n",
    "análogamente,\n",
    "\n",
    "$$ h_2 = \\langle \\psi(\\vec{r}_2 ) | \\hat{h}_2 | \\psi(\\vec{r}_2) \\rangle $$\n",
    "\n",
    "solo nos falta calcular,\n",
    "\n",
    "$$ \\left \\langle \\psi \\left| \\frac{1}{r_{12}} \\right| \\psi \\right \\rangle $$   \n",
    "\n",
    "  \n",
    "\n",
    "$$ \\begin {matrix}  \n",
    "\\left \\langle \\psi \\left| \\frac{1}{r_{12}} \\right| \\psi \\right \\rangle \n",
    "&& = \\frac{1}{2} \\big \\{ \n",
    "    \\left \\langle \\chi_a (1) \\chi_b(2) \\left| \\frac{1}{r_{12}} \\right| \\chi_a(1) \\chi_b(2) \\right \\rangle \\\\\n",
    "&& - \\left \\langle \\chi_a(1) \\chi_b(2) \\left| \\frac{1}{r_{12}} \\right| \\chi_a(2) \\chi_b(1) \\right \\rangle \\\\\n",
    "&& - \\left \\langle \\chi_a(2) \\chi_b(1) \\left| \\frac{1}{r_{12}} \\right| \\chi_a(1) \\chi_b(2) \\right \\rangle \\\\\n",
    "&& + \\left \\langle \\chi_a(2) \\chi_b(1) \\left| \\frac{1}{r_{12}} \\right| \\chi_a(2) \\chi_b(1) \\right \\rangle \\big \\} \n",
    "\\end {matrix} $$ \n",
    "\n",
    "El término,\n",
    "\n",
    "$$ \\left \\langle \\chi_a (1) \\chi_b(2) \\left| \\frac{1}{r_{12}} \\right| \\chi_a(1) \\chi_b(2) \\right \\rangle \n",
    "= \\int \\int \\chi^{*}_a (1) \\chi^{*} _b (2) \\frac{1}{r_{12}} \\chi_a (1) \\chi_b(2) d \\vec{r}_1 d\\vec{r}_2 $$\n",
    "\n",
    "Definimos una notación nueva\n",
    "\n",
    "$$ \\left[ ab | cd \\right] = \\int \\int \\chi_a^{*} (1) \\chi_b (1) \\frac{1}{r_{12}} \\chi_c ^{*}(2) \\chi_d (2) d \\vec{r}_1 d \\vec{r}_2 $$ \n",
    "\n",
    "Empleando esta notación reescribimos el siguiente término\n",
    "\n",
    "$$ \\left \\langle \\psi \\left| \\frac{1}{r_{12}} \\right| \\psi \\right \\rangle \n",
    "= \\frac{1}{2} \\big \\{ [aa|bb] - [ab|ba] - [ba|ab] + [bb|aa] \\big \\} $$\n",
    "\n",
    "$$ [aa | bb] = \\int \\int \\chi_a^{*} \\chi_a (1) \\frac{1}{r_{12}} \\chi_b^{*} (2) \\chi_b(2) d\\vec{r}_1 d\\vec{r}_2 = [bb | aa]$$\n",
    "\n",
    "$$ \\left \\langle \\psi \\left| \\frac{1}{r_{12}} \\right| \\psi \\right \\rangle  = [aa|bb] - [ab|ba] $$\n",
    "\n",
    "Finalmente \n",
    "\n",
    "$$ \\left \\langle \\psi \\left| \\frac{1}{r_{12}} \\right| \\psi \\right \\rangle = \\langle \\psi \\psi | \\psi \\psi \\rangle = \\int \\int \\psi^{*} (\\vec{r}_1 ) \\psi (\\vec{r}_1) \\frac{1}{r_{12}} \\psi^{*} (\\vec{r}_2) \\psi (\\vec{r}_2) d\\vec{r}_1 d\\vec{r}_2 $$\n",
    "\n",
    "$$ E = h_1 + h_2 + \\langle \\psi \\psi | \\psi \\psi \\rangle $$\n",
    "\n",
    "Para implementar el cálculo, tomamos un \n",
    "\n",
    "$$ \\phi (\\vec{r}, \\theta, \\phi) = 2 \\zeta ^ {-3/2} e^{-\\zeta r / a_0 } Y_0^0 (\\theta, \\phi) $$\n",
    "\n",
    "Pero nosotros tomaremos,\n",
    "\n",
    "$$ \\phi (\\vec{r}, \\theta, \\phi) = 2 \\zeta ^ {-3/2} e^{-\\zeta r} Y_0^0 (\\theta, \\phi) $$\n",
    "\n",
    "Con:\n",
    "\n",
    "$$ Y_0^0 (\\theta, \\phi) = \\frac{1}{2} \\sqrt{\\frac{1}{\\pi}} $$"
   ]
  },
  {
   "cell_type": "code",
   "execution_count": 1,
   "metadata": {},
   "outputs": [],
   "source": [
    "# Importando paquetes\n",
    "%matplotlib inline\n",
    "from sympy import *\n",
    "import numpy as np\n",
    "import matplotlib.pyplot as plt\n",
    "init_printing(use_unicode=True)\n",
    "from IPython.display import display, Latex, Markdown"
   ]
  },
  {
   "cell_type": "code",
   "execution_count": 2,
   "metadata": {},
   "outputs": [],
   "source": [
    "# Estableciendo parámetros.\n",
    "Z = 2.0\n",
    "a0 = 1.0\n",
    "\n",
    "# Estableciendo símbolos de Sympy.\n",
    "zeta = symbols('zeta')\n",
    "r,  theta,  phi  = symbols('r  theta  phi')\n",
    "r1,  theta1,  phi1  = symbols('r1  theta1  phi1')\n",
    "r2,  theta2,  phi2  = symbols('r2  theta2  phi2')"
   ]
  },
  {
   "cell_type": "code",
   "execution_count": 3,
   "metadata": {},
   "outputs": [
    {
     "data": {
      "text/latex": [
       "$$\\psi(r,\\phi,\\theta) =\\frac{1.0 \\zeta^{\\frac{3}{2}} e^{- r \\zeta}}{\\sqrt{\\pi}}$$"
      ],
      "text/plain": [
       "<IPython.core.display.Latex object>"
      ]
     },
     "metadata": {},
     "output_type": "display_data"
    }
   ],
   "source": [
    "# Estableciendo función psi(r,theta,phi).\n",
    "def psi(r,zeta):\n",
    "    Yoo = 1/2 * sqrt(1/pi)\n",
    "    return 2*zeta**(Rational(3,2))*exp(-zeta*r)*Yoo\n",
    "\n",
    "display(Latex('$$\\psi(r,\\phi,\\\\theta) ='+\n",
    "              latex(simplify(psi(r,zeta)))+'$$'))"
   ]
  },
  {
   "cell_type": "code",
   "execution_count": 4,
   "metadata": {
    "scrolled": true
   },
   "outputs": [
    {
     "data": {
      "text/latex": [
       "$$h_1=h_2=\\zeta \\left(0.5 \\zeta - 2.0\\right)$$"
      ],
      "text/plain": [
       "<IPython.core.display.Latex object>"
      ]
     },
     "metadata": {},
     "output_type": "display_data"
    }
   ],
   "source": [
    "# Hallando phi* h phi\n",
    "def psi_h_psi(r,zeta):\n",
    "    nabla2 = 1/r**2 * diff(r**2*diff(psi(r,zeta),r),r)  # Laplaciano de psi\n",
    "    return psi(r,zeta) * (-0.5*nabla2 - Z*psi(r,zeta)/r)\n",
    "\n",
    "# Integrando  phi* h phi en coordenadas esféricas\n",
    "def integrando1(r,zeta):\n",
    "    Idr = integrate(psi_h_psi(r,zeta) * r**2 * sin(phi), (r, 0, oo))\n",
    "    Idphi = integrate(Idr.args[0][0], (phi, 0, pi))\n",
    "    Idtheta = integrate( Idphi, (theta, 0, 2*pi))\n",
    "    return Idtheta\n",
    "    \n",
    "# h1 = h2 = h\n",
    "def h(r,zeta1):\n",
    "    return integrando1(r,zeta).subs({zeta:zeta1})\n",
    "\n",
    "display(Latex('$$h_1=h_2='+latex(simplify(h(r,zeta)))+'$$'))"
   ]
  },
  {
   "cell_type": "markdown",
   "metadata": {},
   "source": [
    "Se hace complejo hallar la integral:\n",
    "\n",
    "$$ ( \\psi \\psi | \\psi \\psi) = \\left<\\psi(\\vec{r_1})\\psi(\\vec{r_2}) \\left| \\frac{1}{r_{12}} \\right| \\psi(\\vec{r_1}) \\psi(\\vec{r_2}) \\right>$$\n",
    "\n",
    "$$ \\frac{\\zeta^3}{\\pi^2}\\int_0^{2\\pi} \\int_0^\\pi \\int_0^\\infty \\int_0^{2\\pi} \\int_0^\\pi \\int_0^\\infty \\frac{e^{-2\\zeta (r_1+r_2)}}{\\sqrt{r_1^2 + r_2^2 - 2r_1 r_2 cos(A)}} r_1^2 r_2^2 \\sin{\\phi_1} \\sin{\\phi_2} dr_1 d\\phi_1 d\\theta_1 dr_2 d\\phi_2 d\\theta_2\\$$\n",
    "\n",
    "$$cos(A)=[\\cos{(\\theta_2)}\\cos{(\\theta_1)} + \\sin{(\\theta_1)}\\sin{(\\theta_2)}\\cos{(\\phi_2-\\phi_1)}]$$\n",
    "\n",
    "Pero al reducir para los valores con $l \\neq 0$ y $m \\neq 0$ debido a la condición de ortormalidad de los armónicos esféricos se tiene:\n",
    "\n",
    "$$ (4 \\pi) ^2 \\left(\\frac{\\zeta^3}{\\pi}\\right)^2 \\int_0^\\infty e^{-2\\zeta r_2} r_2^2 \\left[ \\int_0^{r_2} \\frac{e^{-2 \\zeta r_1} r_1^2}{r_2} dr_1  + \\int_{r_2}^{\\infty} \\frac{e^{-2 \\zeta r_1} r_1^2}{r_1} dr_1 \\right]  dr_2 $$\n",
    "\n",
    "### Referencia:\n",
    "https://www.physik.fu-berlin.de/einrichtungen/ag/ag-heyne/docs/teaching/SoSe08/Amol1/AMol_Teil2.pdf  \n",
    "Pág 152,   [pág 4 del PDF]"
   ]
  },
  {
   "cell_type": "code",
   "execution_count": 5,
   "metadata": {},
   "outputs": [
    {
     "data": {
      "text/latex": [
       "$$ \\frac{1}{r_{12}}=\\frac{5}{8}\\zeta $$"
      ],
      "text/plain": [
       "<IPython.core.display.Latex object>"
      ]
     },
     "metadata": {},
     "output_type": "display_data"
    }
   ],
   "source": [
    "# Hallando phi* 1/r12 phi\n",
    "def psi_r12_psi(r1,r2,zeta):\n",
    "    psi1 = psi(r1,zeta)*psi(r1,zeta)\n",
    "    psi2 = psi(r2,zeta)*psi(r2,zeta)\n",
    "    cosA = cos(theta2)*cos(theta1) + sin(theta1)*sin(theta2)*cos(phi2-phi1)\n",
    "    r12 = sqrt(r1**2 + r2**2 - 2*r1*r2*cosA)\n",
    "    return psi1* 1/r12 * psi2\n",
    "\n",
    "# Integrando  phi* 1/r12 phi en coordenadas esféricas\n",
    "def integrando2(r1,r2,zeta):\n",
    "    psi = lambda r, zeta: 2*zeta**(Rational(3,2))*exp(-zeta*r)\n",
    "    psi1 = psi(r1,zeta)*psi(r1,zeta)\n",
    "    psi2 = psi(r2,zeta)*psi(r2,zeta)\n",
    "    I1 = integrate(psi1 * r1**2/r2, (r1,0,r2))\n",
    "    I2 = integrate(psi1 * r1**2/r1, r1) # Integral (r1, r2, oo)\n",
    "    I3 = integrate(psi2 * r2**2 * (I1-I2.subs(r1,r2)), (r2, 0, oo))\n",
    "    Yoo = 1/2 * sqrt(1/pi)\n",
    "    return (4*pi)**2*(Yoo)**4*I3\n",
    "\n",
    "# 1/r12 \n",
    "def r12(r1,r2,zeta1):\n",
    "    return integrando2(r1,r2,zeta1)\n",
    "\n",
    "display(Latex('$$ \\\\frac{1}{r_{12}}='+latex(Rational(r12(r1,r2,1)))+'\\zeta $$'))"
   ]
  },
  {
   "cell_type": "code",
   "execution_count": 6,
   "metadata": {},
   "outputs": [],
   "source": [
    "# Energia total = h1 + h2 + 1/r12\n",
    "def Energia(zeta):\n",
    "    return h(r,zeta)+h(r,zeta)+r12(r1,r2,zeta)"
   ]
  },
  {
   "cell_type": "code",
   "execution_count": 7,
   "metadata": {
    "scrolled": false
   },
   "outputs": [],
   "source": [
    "# Graficando:\n",
    "zetas = np.linspace(1.2, 2.5, 25)\n",
    "z = [Rational(z).limit_denominator(100) for z in zetas] # El progrma solo funciona \n",
    "                                                         # ingresando zetas fraccionarios.\n",
    "E = [Energia(Rational(z).limit_denominator(100)) for z in zetas]"
   ]
  },
  {
   "cell_type": "code",
   "execution_count": 9,
   "metadata": {},
   "outputs": [
    {
     "data": {
      "image/png": "[encoded data removed]",
      "text/plain": [
       "<Figure size 432x288 with 1 Axes>"
      ]
     },
     "metadata": {
      "needs_background": "light"
     },
     "output_type": "display_data"
    }
   ],
   "source": [
    "plt.plot(z,E)\n",
    "plt.xlabel('$\\zeta$', usetex=True)\n",
    "plt.ylabel('Energy')\n",
    "plt.xlim(1.2,2.5)\n",
    "plt.grid()\n",
    "plt.show()"
   ]
  },
  {
   "cell_type": "code",
   "execution_count": 11,
   "metadata": {
    "scrolled": false
   },
   "outputs": [
    {
     "name": "stdout",
     "output_type": "stream",
     "text": [
      "Con zeta=1.688 se obtiene un valor aprox de energia de -2.848 Eh\n"
     ]
    }
   ],
   "source": [
    "# Hallando zeta que minimiza la energia mediante la grafica.\n",
    "i = E.index(min(E)) \n",
    "zmin = z[i]\n",
    "print(r\"Con zeta=%.3f se obtiene un valor aprox de energia de %.3f Eh\"%(zmin,E[i]))"
   ]
  },
  {
   "cell_type": "code",
   "execution_count": null,
   "metadata": {},
   "outputs": [],
   "source": []
  }
 ],
 "metadata": {
  "kernelspec": {
   "display_name": "Python 2",
   "language": "python",
   "name": "python2"
  },
  "language_info": {
   "codemirror_mode": {
    "name": "ipython",
    "version": 3
   },
   "file_extension": ".py",
   "mimetype": "text/x-python",
   "name": "python",
   "nbconvert_exporter": "python",
   "pygments_lexer": "ipython3",
   "version": "3.6.9"
  }
 },
 "nbformat": 4,
 "nbformat_minor": 2
}
