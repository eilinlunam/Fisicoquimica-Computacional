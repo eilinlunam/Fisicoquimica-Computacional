{
 "cells": [
  {
   "cell_type": "markdown",
   "metadata": {},
   "source": [
    "# TAREA 3\n",
    "\n",
    "Eilin Luna Moreno  \n",
    "15/Agosto/2019  \n",
    "\n",
    "# Hartree Fock\n",
    "\n",
    "\n",
    "$$ \\hat{H} = -\\frac{1}{2} \\sum_{i=1}^{n} \\nabla_i^2 + \\sum_{i,I} \\frac{Z_I}{|{\\vec{R}_I-\\vec{r}_i}|} + \\frac{1}{2} \\sum_{i,j} \\frac{1}{|\\vec{r}_i - \\vec{r_j} |} $$\n",
    "\n",
    "$$ E, \\psi ( \\vec{r}_1, \\vec{r}_2, ... \\vec{r}_n, \\vec{R}_1,... \\vec{r}_N)  $$\n",
    "\n",
    "## Aproximación de Hartree-Fock\n",
    "\n",
    "¿Cuál es la forma de la función de onda?\n",
    "\n",
    "1) El sistema es un sistema fermiónico.\n",
    "Un ejemplo de sistemas fermiónicos, son los electrones, por tanto, cumplen con el principio de exclusón de Pauli, \"*Dos fenómenos no pueden estar en el mismo estado cuántico*\".\n",
    "\n",
    "**Tarea** Modelo atómico de Bohr.\n",
    "\n",
    "$$ E_n = \\frac{-R_y}{n^2}, \\ n=1,2,3...$$\n",
    "\n",
    "La consecuencia de P.E.P, es que la función de onda del sistema tiene que ser antisimétrica, bajo el intercambio de partículas.\n",
    "\n",
    "$$ \\psi (\\vec{r}_1, \\vec{r}_2, ..., \\vec{r}_i, \\vec{r}_j, ... \\vec{r}_n) = -\\psi (\\vec{r}_1, \\vec{r}_2, ..., \\vec{r}_i, \\vec{r}_j, ... \\vec{r}_n)$$\n",
    "\n",
    "Si eliminamos la interacción, electrón-electrón:\n",
    "$$ \\hat{H} = -\\frac{1}{2} \\sum_{i=1}^{n} \\nabla_i^2 + \\sum_{i,I} \\frac{Z_I}{|{\\vec{R}_I-\\vec{r}_i}|} $$\n",
    "\n",
    "$$ \\hat{H} = \\hat{h}_1 + \\hat{h}_2 + \\hat{h}_3 + ... + \\hat{h}_n, $$\n",
    "\n",
    "donde,\n",
    "\n",
    "$$ \\hat{h}_i = -\\frac{1}{2} \\nabla_i^2 + \\sum_{I} \\frac{Z_I}{|\\vec{r}_i-\\vec{R}_I|} $$\n",
    "\n",
    "Para este caso:\n",
    "\n",
    "$$ \\hat{H} = \\sum_{i=1}^{n} \\hat{h}_i $$\n",
    "\n",
    "$$ \\hat{H}| \\psi \\rangle = E | \\psi \\rangle $$\n",
    "\n",
    "$$ \\sum _{i=1}^{n} \\hat{h}_i \\psi(\\vec{r}_1,  ..., \\vec{r}_n) = E \\psi(\\vec{r}_1) $$\n",
    "\n",
    "$$\\hat{h}_1 \\psi(\\vec{r}_1, ..., \\vec{r}_n ) + \\hat{h}_2 \\psi(\\vec{r}_1, ..., \\vec{r}_n ) + ... + \\hat{h}_n \\psi(\\vec{r}_1, ..., \\vec{r}_n ) = E \\psi(\\vec{r}_1, ..., \\vec{r}_n ) $$\n",
    "\n",
    "+ Como la ecuación es separable:\n",
    "\n",
    "$$ \\psi (\\vec{r}_1, ..., \\vec{r}_n) = \\phi_1(\\vec{r}_1) \\phi_2(\\vec{r}_2) ... \\phi_n(\\vec{r}_n) $$ \n",
    "\n",
    "$$ \\hat{h}_i \\phi_i (\\vec{r}_i) = \\epsilon_i \\phi_i (\\vec{r}_i ) $$\n",
    "\n",
    "$$ E = \\sum_{i=1} \\epsilon_i $$"
   ]
  },
  {
   "cell_type": "markdown",
   "metadata": {},
   "source": [
    "# Átomo de Helio\n",
    "\n",
    "$$ \\hat{H} = -\\frac{1}{2} \\nabla_1^2 - \\frac{1}{2} \\nabla_2 ^2 - \\frac{Z}{|\\vec{r}_1 - \\vec{R}|} - \\frac{Z}{|\\vec{r}_2 - \\vec{R}|} + \\frac{1}{|\\vec{r}_1 - \\vec{r}_2|} $$\n",
    "\n",
    "Si tomamos el punto de referencia en el núcleo\n",
    "\n",
    "$$ \\hat{H} = \\left( -\\frac{1}{2} \\nabla_1^2 - \\frac{Z}{|\\vec{r}_1|} \\right) + \\left( -\\frac{1}{2} \\nabla_2^2 - \\frac{Z}{|\\vec{r}_2|} \\right) + \\frac{1}{r_{12}} $$\n",
    "\n",
    "donde $ r_{12} = | \\vec{r}_1 - \\vec{r}_2 | $\n",
    "\n",
    "$$ \\hat{H} = \\hat{h}_1 + \\hat{h}_2 + \\frac{1}{r_{12}} $$\n",
    "\n",
    "Queremos calculat la energía del sistema:\n",
    "\n",
    "$$ \\therefore E = \\langle \\psi | \\hat{H} | \\psi \\rangle $$\n",
    "\n",
    "Suponemos que nuestras funciones de onda,\n",
    "\n",
    "$$ \\psi = \\frac{1}{\\sqrt{2}} \\left| \\begin{matrix}\n",
    "\\chi_a(1) && \\chi_b(1) \\\\\n",
    "\\chi_a(2) && \\chi_b(2) \\\\\n",
    "\\end{matrix} \\right|  $$\n",
    "\n",
    "$$ \\psi = \\frac{1}{\\sqrt{2}} \\left( \\chi_a(1) \\chi_b(2) - \\chi_b(1) \\chi_a(2) \\right) $$\n",
    "\n",
    "cada función,\n",
    "\n",
    "$$ \\chi_a(1) = \\psi(\\vec{r}_1) \\alpha(1) $$\n",
    "$$ \\chi_b(1) = \\psi(\\vec{r}_1) \\beta(1) $$\n",
    "\n",
    "$$ \\langle \\psi(\\vec{r}_1) | \\psi(\\vec{r}_1) \\rangle = \\int \\psi^{*} (\\vec{r}_1) \\psi (\\vec{r}_1) d \\vec{r}_1 = 1 $$\n",
    "\n",
    "Los componentes de spin también son ortonormales,\n",
    "\n",
    "$$ \\langle \\alpha(1) | \\alpha(1) \\rangle = 1 $$\n",
    "$$ \\langle \\beta(1) | \\beta(1) \\rangle = 1 $$\n",
    "$$ \\langle \\alpha(1) | \\beta(1) \\rangle = 0 $$\n",
    "$$ \\langle \\beta(1) | \\alpha(1) \\rangle = 0 $$\n",
    "\n",
    "$$ E = \\langle \\psi | \\hat{H} | \\psi \\rangle = \\langle \\psi | \\hat{h}_1 | \\psi \\rangle + \\langle \\psi | \\hat{h}_2 | \\psi \\rangle + \\left \\langle \\psi \\left| \\frac{1}{r_{12}} \\right| \\psi \\right \\rangle $$\n",
    "\n",
    "$$  \\begin {matrix}\n",
    "h_1 \n",
    "&& = \\frac{1}{2}  \\big \\{ \\langle \\chi_a(1) | \\hat{h}_1 | \\chi_a(1) \\rangle \\langle \\chi_b(2) | \\chi_b(2) \\rangle \\\\\n",
    "&& - \\langle \\chi_a(1) | \\hat{h}_1 | \\chi_b(1) \\rangle \\langle \\chi_b(2) | \\chi_a(2) \\rangle \\\\\n",
    "&& - \\langle \\chi_b(1) | \\hat{h}_1 | \\chi_a(1) \\rangle \\langle \\chi_a(2) | \\chi_b(2) \\rangle \\\\\n",
    "&& + \\langle \\chi_b(1) | \\hat{h}_1 | \\chi_b(1) \\rangle \\langle \\chi_a(2) | \\chi_a(2) \\rangle \\big \\}\n",
    "\\end{matrix}\n",
    "$$ \n",
    "\n",
    "$$ h_1 = \\frac{1}{2} \\big \\{ \\langle \\chi_a(1) | \\hat{h}_1 | \\chi_a(1) \\rangle +\n",
    "\\langle  \\chi_b(1) | \\hat{h}_1 | \\chi_b (1) \\rangle \\big \\} $$\n",
    "\n",
    "como tenemos $\\chi_a(1)=\\psi(\\vec{r}_1) \\alpha(1) $\n",
    "\n",
    "$$ h_1 = \\frac{1}{2} \\big \\{ \\langle \\psi(\\vec{r}_1) | \\hat{h}_1 | \\psi(\\vec{r}_1) \\rangle \\langle \\alpha(1) | \\alpha(1) \\rangle + \\langle \\psi(\\vec{r}_1) | \\hat{h}_1 | \\psi(\\vec{r}_1) \\rangle \\langle \\beta(1) | \\beta(1) \\rangle \\big \\}$$\n",
    "\n",
    "$$ \\therefore h_1 = \\langle \\psi(\\vec{r}_1) | \\hat{h}_1 | \\psi(\\vec{r}_1) \\rangle $$\n",
    "\n",
    "análogamente,\n",
    "\n",
    "$$ h_2 = \\langle \\psi(\\vec{r}_2 ) | \\hat{h}_2 | \\psi(\\vec{r}_2) \\rangle $$\n",
    "\n",
    "solo nos falta calcular,\n",
    "\n",
    "$$ \\left \\langle \\psi \\left| \\frac{1}{r_{12}} \\right| \\psi \\right \\rangle $$   \n",
    "\n",
    "  \n",
    "\n",
    "$$ \\begin {matrix}  \n",
    "\\left \\langle \\psi \\left| \\frac{1}{r_{12}} \\right| \\psi \\right \\rangle \n",
    "&& = \\frac{1}{2} \\big \\{ \n",
    "    \\left \\langle \\chi_a (1) \\chi_b(2) \\left| \\frac{1}{r_{12}} \\right| \\chi_a(1) \\chi_b(2) \\right \\rangle \\\\\n",
    "&& - \\left \\langle \\chi_a(1) \\chi_b(2) \\left| \\frac{1}{r_{12}} \\right| \\chi_a(2) \\chi_b(1) \\right \\rangle \\\\\n",
    "&& - \\left \\langle \\chi_a(2) \\chi_b(1) \\left| \\frac{1}{r_{12}} \\right| \\chi_a(1) \\chi_b(2) \\right \\rangle \\\\\n",
    "&& + \\left \\langle \\chi_a(2) \\chi_b(1) \\left| \\frac{1}{r_{12}} \\right| \\chi_a(2) \\chi_b(1) \\right \\rangle \\big \\} \n",
    "\\end {matrix} $$ \n",
    "\n",
    "El término,\n",
    "\n",
    "$$ \\left \\langle \\chi_a (1) \\chi_b(2) \\left| \\frac{1}{r_{12}} \\right| \\chi_a(1) \\chi_b(2) \\right \\rangle \n",
    "= \\int \\int \\chi^{*}_a (1) \\chi^{*} _b (2) \\frac{1}{r_{12}} \\chi_a (1) \\chi_b(2) d \\vec{r}_1 d\\vec{r}_2 $$\n",
    "\n",
    "Definimos una notación nueva\n",
    "\n",
    "$$ \\left[ ab | cd \\right] = \\int \\int \\chi_a^{*} (1) \\chi_b (1) \\frac{1}{r_{12}} \\chi_c ^{*}(2) \\chi_d (2) d \\vec{r}_1 d \\vec{r}_2 $$ \n",
    "\n",
    "Empleando esta notaciñon reescribimos el siguiente término\n",
    "\n",
    "$$ \\left \\langle \\psi \\left| \\frac{1}{r_{12}} \\right| \\psi \\right \\rangle \n",
    "= \\frac{1}{2} \\big \\{ [aa|bb] - [ab|ba] - [ba|ab] + [bb|aa] \\big \\} $$\n",
    "\n",
    "$$ [aa | bb] = \\int \\int \\chi_a^{*} \\chi_a (1) \\frac{1}{r_{12}} \\chi_b^{*} (2) \\chi_b(2) d\\vec{r}_1 d\\vec{r}_2 = [bb | aa]$$\n",
    "\n",
    "$$ \\left \\langle \\psi \\left| \\frac{1}{r_{12}} \\right| \\psi \\right \\rangle  = [aa|bb] - [ab|ba] $$\n",
    "\n",
    "Finalmente \n",
    "\n",
    "$$ \\left \\langle \\psi \\left| \\frac{1}{r_{12}} \\right| \\psi \\right \\rangle = \\langle \\psi \\psi | \\psi \\psi \\rangle = \\int \\int \\psi^{*} (\\vec{r}_1 ) \\psi (\\vec{r}_1) \\frac{1}{r_{12}} \\psi^{*} (\\vec{r}_2) \\psi (\\vec{r}_2) d\\vec{r}_1 d\\vec{r}_2 $$\n",
    "\n",
    "$$ E = h_1 + h_2 + \\langle \\psi \\psi | \\psi \\psi \\rangle $$\n",
    "\n",
    "Para implementar el cálculo, tomamos un \n",
    "\n",
    "$$ \\phi (\\vec{r}, \\theta, \\phi) = 2 \\zeta ^ {-3/2} e^{-\\zeta r / a_0 } Y_0^0 (\\theta, \\phi) $$\n",
    "\n",
    "Pero nosotros tomaremos,\n",
    "\n",
    "$$ \\phi (\\vec{r}, \\theta, \\phi) = 2 \\zeta ^ {-3/2} e^{-\\zeta r} Y_0^0 (\\theta, \\phi) $$\n",
    "\n",
    "Con:\n",
    "\n",
    "$$ Y_0^0 (\\theta, \\phi) = \\frac{1}{2} \\sqrt{\\frac{1}{\\pi}} $$"
   ]
  },
  {
   "cell_type": "markdown",
   "metadata": {},
   "source": [
    "# INTENTO CON SYMPY"
   ]
  },
  {
   "cell_type": "code",
   "execution_count": 1,
   "metadata": {},
   "outputs": [],
   "source": [
    "from sympy import *\n",
    "init_printing(use_unicode=True)"
   ]
  },
  {
   "cell_type": "code",
   "execution_count": 2,
   "metadata": {},
   "outputs": [],
   "source": [
    "# Estableciendo parámetros.\n",
    "Z = 2.0\n",
    "a0 = 1.0\n",
    "𝜁 = symbols('𝜁')\n",
    "r = symbols('r')\n",
    "r1 = symbols('r1')\n",
    "r2 = symbols('r2')\n",
    "\n",
    "# Definiendo función 𝜓(𝑟,𝜃,𝜙).\n",
    "def 𝜓1(r):    \n",
    "    Yoo = 1/2 * sqrt(1/pi)\n",
    "    return 2*𝜁**(3/2)*exp(-𝜁*r)*Yoo\n",
    "𝜓 = 𝜓1(r)\n",
    "\n",
    "# Hallando h1 = h2\n",
    "Δ2𝜓 = 1/r**2 * diff(r**2*diff(𝜓,r),r) # Gradiente de 𝜓\n",
    "h𝜓 = -0.5*Δ2𝜓 - Z*𝜓/r  # Aplicando operador a 𝜓\n",
    "h = integrate(𝜓*h𝜓, (r,0,oo))\n",
    "\n",
    "# Hallando 1/r12\n",
    "A = 𝜓1(r1)*𝜓1(r1) * 1/abs(r1-r2) * 𝜓1(r2)*𝜓1(r2) \n",
    "r12 = integrate (integrate(A, (r1, 0, oo)), (r2, 0, oo))\n",
    "\n",
    "# La energia es:\n",
    "E = h + h + r12"
   ]
  },
  {
   "cell_type": "code",
   "execution_count": 3,
   "metadata": {},
   "outputs": [
    {
     "data": {
      "image/png": "[encoded data removed]",
      "text/latex": [
       "$\\displaystyle - \\frac{2.0 𝜁^{1.5} \\int\\limits_{0}^{\\infty} \\frac{\\left(0.25 r 𝜁^{3.5} + 1.0 𝜁^{1.5} - 0.5 𝜁^{2.5}\\right) e^{- 2.0 r 𝜁}}{r}\\, dr}{\\pi}$"
      ],
      "text/plain": [
       "          ∞                                                  \n",
       "          ⌠                                                  \n",
       "          ⎮ ⎛        3.5        1.5        2.5⎞  -2.0⋅r⋅𝜁    \n",
       "      1.5 ⎮ ⎝0.25⋅r⋅𝜁    + 1.0⋅𝜁    - 0.5⋅𝜁   ⎠⋅ℯ            \n",
       "-2.0⋅𝜁   ⋅⎮ ───────────────────────────────────────────── dr \n",
       "          ⎮                       r                          \n",
       "          ⌡                                                  \n",
       "          0                                                  \n",
       "─────────────────────────────────────────────────────────────\n",
       "                              π                              "
      ]
     },
     "execution_count": 3,
     "metadata": {},
     "output_type": "execute_result"
    }
   ],
   "source": [
    "simplify(h)"
   ]
  },
  {
   "cell_type": "code",
   "execution_count": 4,
   "metadata": {},
   "outputs": [
    {
     "data": {
      "image/png": "[encoded data removed]",
      "text/latex": [
       "$\\displaystyle \\frac{1.0 𝜁^{6.0} \\int\\limits_{0}^{\\infty} e^{- 2.0 r_{2} 𝜁} \\int\\limits_{0}^{\\infty} \\frac{e^{- 2.0 r_{1} 𝜁}}{\\left|{r_{1} - r_{2}}\\right|}\\, dr_{1}\\, dr_{2}}{\\pi^{2}}$"
      ],
      "text/plain": [
       "         ∞                                    \n",
       "         ⌠                                    \n",
       "         ⎮            ∞                       \n",
       "         ⎮            ⌠                       \n",
       "         ⎮            ⎮  -2.0⋅r₁⋅𝜁            \n",
       "     6.0 ⎮  -2.0⋅r₂⋅𝜁 ⎮ ℯ                     \n",
       "1.0⋅𝜁   ⋅⎮ ℯ         ⋅⎮ ────────── d(r₁) d(r₂)\n",
       "         ⎮            ⎮ │r₁ - r₂│             \n",
       "         ⎮            ⌡                       \n",
       "         ⎮            0                       \n",
       "         ⌡                                    \n",
       "         0                                    \n",
       "──────────────────────────────────────────────\n",
       "                       2                      \n",
       "                      π                       "
      ]
     },
     "execution_count": 4,
     "metadata": {},
     "output_type": "execute_result"
    }
   ],
   "source": [
    "simplify(r12)"
   ]
  },
  {
   "cell_type": "code",
   "execution_count": 5,
   "metadata": {},
   "outputs": [
    {
     "data": {
      "image/png": "[encoded data removed]",
      "text/latex": [
       "$\\displaystyle \\frac{- 4.0 \\pi 𝜁^{1.5} \\int\\limits_{0}^{\\infty} \\frac{\\left(0.25 r 𝜁^{3.5} + 1.0 𝜁^{1.5} - 0.5 𝜁^{2.5}\\right) e^{- 2.0 r 𝜁}}{r}\\, dr + 1.0 𝜁^{6.0} \\int\\limits_{0}^{\\infty} e^{- 2.0 r_{2} 𝜁} \\int\\limits_{0}^{\\infty} \\frac{e^{- 2.0 r_{1} 𝜁}}{\\left|{r_{1} - r_{2}}\\right|}\\, dr_{1}\\, dr_{2}}{\\pi^{2}}$"
      ],
      "text/plain": [
       "                                                                           ∞  \n",
       "                                                                           ⌠  \n",
       "             ∞                                                             ⎮  \n",
       "             ⌠                                                             ⎮  \n",
       "             ⎮ ⎛        3.5        1.5        2.5⎞  -2.0⋅r⋅𝜁               ⎮  \n",
       "         1.5 ⎮ ⎝0.25⋅r⋅𝜁    + 1.0⋅𝜁    - 0.5⋅𝜁   ⎠⋅ℯ                   6.0 ⎮  \n",
       "- 4.0⋅π⋅𝜁   ⋅⎮ ───────────────────────────────────────────── dr + 1.0⋅𝜁   ⋅⎮ ℯ\n",
       "             ⎮                       r                                     ⎮  \n",
       "             ⌡                                                             ⎮  \n",
       "             0                                                             ⎮  \n",
       "                                                                           ⌡  \n",
       "                                                                           0  \n",
       "──────────────────────────────────────────────────────────────────────────────\n",
       "                                                        2                     \n",
       "                                                       π                      \n",
       "\n",
       "                                  \n",
       "                                  \n",
       "          ∞                       \n",
       "          ⌠                       \n",
       "          ⎮  -2.0⋅r₁⋅𝜁            \n",
       "-2.0⋅r₂⋅𝜁 ⎮ ℯ                     \n",
       "         ⋅⎮ ────────── d(r₁) d(r₂)\n",
       "          ⎮ │r₁ - r₂│             \n",
       "          ⌡                       \n",
       "          0                       \n",
       "                                  \n",
       "                                  \n",
       "──────────────────────────────────\n",
       "                                  \n",
       "                                  "
      ]
     },
     "execution_count": 5,
     "metadata": {},
     "output_type": "execute_result"
    }
   ],
   "source": [
    "simplify(E)"
   ]
  },
  {
   "cell_type": "markdown",
   "metadata": {},
   "source": [
    "# INTENTO CON MÉTODOS NUMÉRICOS"
   ]
  },
  {
   "cell_type": "code",
   "execution_count": 7,
   "metadata": {},
   "outputs": [],
   "source": [
    "from sympy import exp, diff, symbols\n",
    "from scipy import integrate\n",
    "from scipy.misc import derivative\n",
    "import numpy as np"
   ]
  },
  {
   "cell_type": "code",
   "execution_count": 19,
   "metadata": {},
   "outputs": [],
   "source": [
    "# Estableciendo parámetros.\n",
    "#-------------------------------------------------\n",
    "Z = 2.0\n",
    "a0 = 1.0\n",
    "\n",
    "# Definiendo función 𝜓(𝑟,𝜃,𝜙).\n",
    "#-------------------------------------------------\n",
    "def 𝜓(r,𝜁):    \n",
    "    Yoo = 1/2 * np.sqrt(1/np.pi)\n",
    "    return 2*𝜁**(3/2)*exp(-𝜁*r/a0)*Yoo\n",
    "\n",
    "\n",
    "# Calculando h1 = h2\n",
    "#-------------------------------------------------\n",
    "# Definiendo el laplaciano^2 de 𝜓(𝑟,𝜃,𝜙).\n",
    "def Δ2𝜓(r1,𝜁):\n",
    "    r = symbols('r')\n",
    "    Δ2𝜓 = 1/r**2 * diff(r**2*diff(𝜓(r,𝜁),r),r)\n",
    "    return float(Δ2𝜓.subs({r:r1}))\n",
    "\n",
    "# Aplicando h a 𝜓\n",
    "def h𝜓(r,𝜁):\n",
    "    return -0.5*Δ2𝜓(r,𝜁) - Z*𝜓(r,𝜁)/r\n",
    "\n",
    "# Multiplicando por 𝜓* a la izquierda.\n",
    "def 𝜓h𝜓(r,𝜁):\n",
    "    return 𝜓(r,𝜁)*h𝜓(r,𝜁)\n",
    "\n",
    "# Integrando 𝜓h𝜓\n",
    "def h(𝜁):\n",
    "    return integrate.quad(𝜓h𝜓, 0, np.inf, args=(𝜁))[0]\n",
    "\n",
    "\n",
    "# Calculando valor de 1/r12\n",
    "#-------------------------------------------------\n",
    "# Calculando 𝜓1*𝜓1 |1/r12| 𝜓2*𝜓2\n",
    "def 𝜓r12𝜓(r1,r2, 𝜁):\n",
    "    𝜓1 = 𝜓(r1,𝜁)*𝜓(r1,𝜁)\n",
    "    𝜓2 = 𝜓(r2,𝜁)*𝜓(r2,𝜁)\n",
    "    #r12 = abs(r1-r2) \n",
    "    r12=1\n",
    "    return 𝜓1 * 1/r12 * 𝜓2\n",
    "\n",
    "# Integrando <𝜓1*𝜓1 |1/r12| 𝜓2*𝜓2>\n",
    "def r12(𝜁):\n",
    "    return integrate.nquad(𝜓r12𝜓, \n",
    "                           [[0.0, np.inf],[0.0, np.inf]],\n",
    "                           args=[𝜁])[0]\n",
    "\n",
    "# Calculando la Energía\n",
    "#-------------------------------------------------\n",
    "def E(𝜁):\n",
    "    return h(𝜁)+h(𝜁)+r12(𝜁)"
   ]
  },
  {
   "cell_type": "code",
   "execution_count": 20,
   "metadata": {},
   "outputs": [
    {
     "name": "stderr",
     "output_type": "stream",
     "text": [
      "/home/eilinluna/miniconda3/lib/python3.6/site-packages/ipykernel_launcher.py:31: IntegrationWarning: Extremely bad integrand behavior occurs at some points of the\n",
      "  integration interval.\n"
     ]
    }
   ],
   "source": [
    "n=10\n",
    "𝜁 = np.linspace(1.2,2.5,n)\n",
    "energias = []\n",
    "for i in range(n):\n",
    "    energias += [E(𝜁[i])]"
   ]
  },
  {
   "cell_type": "code",
   "execution_count": 21,
   "metadata": {},
   "outputs": [
    {
     "data": {
      "text/plain": [
       "[<matplotlib.lines.Line2D at 0x7fa65a451a58>]"
      ]
     },
     "execution_count": 21,
     "metadata": {},
     "output_type": "execute_result"
    },
    {
     "data": {
      "image/png": "[encoded data removed]",
      "text/plain": [
       "<Figure size 432x288 with 1 Axes>"
      ]
     },
     "metadata": {
      "needs_background": "light"
     },
     "output_type": "display_data"
    }
   ],
   "source": [
    "import matplotlib.pyplot as plt\n",
    "plt.plot(𝜁, energias)"
   ]
  },
  {
   "cell_type": "code",
   "execution_count": 22,
   "metadata": {},
   "outputs": [
    {
     "data": {
      "image/png": "[encoded data removed]",
      "text/latex": [
       "$\\displaystyle 1.488888888888889$"
      ],
      "text/plain": [
       "1.488888888888889"
      ]
     },
     "execution_count": 22,
     "metadata": {},
     "output_type": "execute_result"
    }
   ],
   "source": [
    "𝜁[energias.index(min(energias))]"
   ]
  },
  {
   "cell_type": "code",
   "execution_count": 23,
   "metadata": {},
   "outputs": [
    {
     "data": {
      "image/png": "[encoded data removed]",
      "text/latex": [
       "$\\displaystyle -39.427184953312526$"
      ],
      "text/plain": [
       "-39.427184953312526"
      ]
     },
     "execution_count": 23,
     "metadata": {},
     "output_type": "execute_result"
    }
   ],
   "source": [
    "min(energias)"
   ]
  },
  {
   "cell_type": "code",
   "execution_count": null,
   "metadata": {},
   "outputs": [],
   "source": []
  }
 ],
 "metadata": {
  "kernelspec": {
   "display_name": "Python 2",
   "language": "python",
   "name": "python2"
  },
  "language_info": {
   "codemirror_mode": {
    "name": "ipython",
    "version": 3
   },
   "file_extension": ".py",
   "mimetype": "text/x-python",
   "name": "python",
   "nbconvert_exporter": "python",
   "pygments_lexer": "ipython3",
   "version": "3.6.7"
  }
 },
 "nbformat": 4,
 "nbformat_minor": 2
}
