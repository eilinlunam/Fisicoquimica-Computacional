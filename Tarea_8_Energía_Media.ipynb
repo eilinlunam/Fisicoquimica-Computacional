{
 "cells": [
  {
   "cell_type": "code",
   "execution_count": 62,
   "metadata": {
    "scrolled": false
   },
   "outputs": [],
   "source": [
    "%matplotlib inline\n",
    "import numpy as np\n",
    "import matplotlib.pyplot as plt\n",
    "from random import uniform,randint\n",
    "\n",
    "def  deltaE(n, kbT):\n",
    "    n_p=max(n+(-1)**randint(0,1),0)\n",
    "    dE= hw*(n_p+0.5)-hw*(n+0.5)\n",
    "    if  dE <= 0.0:\n",
    "        return n_p\n",
    "    else:\n",
    "        r=uniform(0.,1.)\n",
    "        if np.exp(-dE/kbT) >= r:\n",
    "            return n_p\n",
    "        else:\n",
    "            return  n\n",
    "\n",
    "def Em(n, hw, kbT, nsample):\n",
    "    sts=[]\n",
    "    nsteps = 500\n",
    "    ct=0\n",
    "    for i in range(nsample):\n",
    "        n=deltaE(n, kbT)\n",
    "        if ct ==nsteps:\n",
    "            sts.append(n)\n",
    "            ct=0\n",
    "        ct+=1\n",
    "    pr=np.unique(sts,return_counts=True)\n",
    "\n",
    "    Em = [hw*(pr[0][i]+0.5)*pr[1][i]/len(sts) for i in range(np.shape(pr)[1])]\n",
    "    return sum(Em)\n",
    "\n",
    "hw =1.2\n",
    "kbT =0.5\n",
    "nsample =1000\n",
    "n=0"
   ]
  },
  {
   "cell_type": "code",
   "execution_count": null,
   "metadata": {},
   "outputs": [],
   "source": [
    "kbT = np.linspace(0.1, 1.0, 20)\n",
    "nsample = [10000]\n",
    "E2=[]\n",
    "for j in nsample:\n",
    "    for i in kbT:\n",
    "        E1 = [Em(n, hw, i, j) for k in range(10)]\n",
    "        E1 = np.sum(E1)/10\n",
    "        E2+=[E1]\n",
    "    #E = [Em(n, hw, i, j) for i in kbT]\n",
    "    #plt.show()"
   ]
  },
  {
   "cell_type": "code",
   "execution_count": null,
   "metadata": {},
   "outputs": [
    {
     "name": "stdout",
     "output_type": "stream",
     "text": [
      "0\n",
      "1\n"
     ]
    }
   ],
   "source": [
    "kbT = np.linspace(0.1, 1.0, 20)\n",
    "E1 = []\n",
    "for i in range(20):\n",
    "    print(i)\n",
    "    E1 += [Em1(hw, kbT[i])]"
   ]
  },
  {
   "cell_type": "code",
   "execution_count": 73,
   "metadata": {},
   "outputs": [
    {
     "data": {
      "text/plain": [
       "Text(0.5, 1.0, 'n=10000')"
      ]
     },
     "execution_count": 73,
     "metadata": {},
     "output_type": "execute_result"
    },
    {
     "data": {
      "image/png": "[encoded data removed]",
      "text/plain": [
       "<Figure size 432x288 with 1 Axes>"
      ]
     },
     "metadata": {
      "needs_background": "light"
     },
     "output_type": "display_data"
    }
   ],
   "source": [
    "plt.plot(np.linspace(0.1, 1.0, 20), E2, 'r')\n",
    "plt.plot(np.linspace(0.1, 1.0, 10), E1)\n",
    "plt.xlabel(\"kbT\")\n",
    "plt.ylabel(\"Em\")\n",
    "plt.title(\"n=\"+str(j))"
   ]
  },
  {
   "cell_type": "code",
   "execution_count": 69,
   "metadata": {},
   "outputs": [],
   "source": [
    "### from sympy import *\n",
    "from sympy import summation, exp, oo\n",
    "\n",
    "hw = 1.2\n",
    "kbT = 5.0\n",
    "\n",
    "def Em1(hw, kbT):\n",
    "    i = Symbol('i', integer=True)\n",
    "    Z = summation(exp(-hw*(i+0.5)/kbT), (i, 0, oo))\n",
    "    E = summation(exp(-hw*(i+0.5)/kbT)*hw*(i+0.5), (i, 0, oo))\n",
    "    Emed= E.evalf()/Z.evalf()\n",
    "    return Emed"
   ]
  }
 ],
 "metadata": {
  "kernelspec": {
   "display_name": "Python 3",
   "language": "python",
   "name": "python3"
  },
  "language_info": {
   "codemirror_mode": {
    "name": "ipython",
    "version": 3
   },
   "file_extension": ".py",
   "mimetype": "text/x-python",
   "name": "python",
   "nbconvert_exporter": "python",
   "pygments_lexer": "ipython3",
   "version": "3.6.9"
  }
 },
 "nbformat": 4,
 "nbformat_minor": 2
}
