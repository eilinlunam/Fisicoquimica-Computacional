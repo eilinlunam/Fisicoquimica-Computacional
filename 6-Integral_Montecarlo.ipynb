{
 "cells": [
  {
   "cell_type": "markdown",
   "metadata": {},
   "source": [
    "## Integral Montecarlo\n",
    "\n",
    "Es un método que utiliza números aleatorios para calcular numéricamente expresiones matemáticamente complejas y  difíciles de evaluar con exactitud, o que no pueden resolverse analíticamente. La denominación Monte Carlo fue popularizado por los científicos Stanislaw Ulam, Enrico Fermi, John von Neumann, and Nicholas Metropolis, entre otros, quienes ya trabajaban sobre muestreo estadístico. Hace referencia al Casino de Montecarlo en Mónaco.Este método es al cálculo de integrales especialmente de alta  dimensión, ya sea porque no es posible calcularlas en forma exacta o es muy difícil su cómputo con el grado de precisión deseado. "
   ]
  },
  {
   "cell_type": "markdown",
   "metadata": {},
   "source": [
    "## Ejercicio \n",
    "\n",
    "A continuación se resolvieron las integrales formuladas y resueltas simbólicamente en el método variacional y se procedieron a resolver numéricamente mediante este método, los resultados fueron similares."
   ]
  },
  {
   "cell_type": "code",
   "execution_count": 1,
   "metadata": {},
   "outputs": [],
   "source": [
    "import random\n",
    "import numpy as np\n",
    "%matplotlib inline\n",
    "import matplotlib.pyplot as plt"
   ]
  },
  {
   "cell_type": "code",
   "execution_count": 2,
   "metadata": {},
   "outputs": [
    {
     "name": "stdout",
     "output_type": "stream",
     "text": [
      "La minima Et es:-0.49999145946162715\n"
     ]
    },
    {
     "data": {
      "image/png": "[encoded data removed]",
      "text/plain": [
       "<Figure size 432x324 with 1 Axes>"
      ]
     },
     "metadata": {
      "needs_background": "light"
     },
     "output_type": "display_data"
    }
   ],
   "source": [
    "mu = 1.0  # Masa reducida\n",
    "l = 0.0 # Numero cuantico angular\n",
    "Z = 1.0 # Masa atómica\n",
    "\n",
    "def Et(alpha):\n",
    "    n_samples = 10000 \n",
    "    ls=5.\n",
    "\n",
    "    # Integral R*R\n",
    "    r=np.random.uniform(0.,ls,n_samples)\n",
    "    f= r**2 * np.exp(-2*alpha*r)\n",
    "    fmed=np.sum(f)/n_samples\n",
    "    intval1 = fmed*(ls-0.0)\n",
    "    \n",
    "    # Integral RHR\n",
    "    R = np.exp(-alpha*r)\n",
    "    d1R = -alpha*np.exp(-alpha*r)\n",
    "    d2R = alpha**2 * np.exp(-alpha*r)\n",
    "    RHR = r**2 * R * (-1/(2*mu)*(d2R + 2/r*d1R) + l*(l+l)/(2*mu**2)*R - Z/r*R)\n",
    "    fmed=np.sum(RHR)/n_samples\n",
    "    intval2 = fmed*(ls-0.0)\n",
    "    \n",
    "    return intval2/intval1\n",
    "\n",
    "x = np.linspace(0.1,3.0,100)\n",
    "y= [Et(i) for i in x]\n",
    "\n",
    "pos = y.index(min(y))\n",
    "print(\"La minima Et es:\"+ str(y[pos]))\n",
    "\n",
    "plt.figure(figsize=(6,4.5))\n",
    "plt.plot(x,y)\n",
    "plt.xlabel('alpha', fontsize=12)\n",
    "plt.ylabel('Energía de Prueba', fontsize=12)\n",
    "plt.grid()\n",
    "plt.show()"
   ]
  },
  {
   "cell_type": "code",
   "execution_count": null,
   "metadata": {},
   "outputs": [],
   "source": []
  }
 ],
 "metadata": {
  "kernelspec": {
   "display_name": "Python 3",
   "language": "python",
   "name": "python3"
  },
  "language_info": {
   "codemirror_mode": {
    "name": "ipython",
    "version": 3
   },
   "file_extension": ".py",
   "mimetype": "text/x-python",
   "name": "python",
   "nbconvert_exporter": "python",
   "pygments_lexer": "ipython3",
   "version": "3.6.9"
  }
 },
 "nbformat": 4,
 "nbformat_minor": 2
}
