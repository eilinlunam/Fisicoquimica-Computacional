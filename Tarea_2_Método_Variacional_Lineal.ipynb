{
 "cells": [
  {
   "cell_type": "markdown",
   "metadata": {
    "colab_type": "text",
    "id": "view-in-github"
   },
   "source": [
    "<a href=\"https://colab.research.google.com/github/eilinluna16/Fisicoquimica-Computacional/blob/master/Tarea_2_M%C3%A9todo_Variacional_Lineal.ipynb\" target=\"_parent\"><img src=\"https://colab.research.google.com/assets/colab-badge.svg\" alt=\"Open In Colab\"/></a>"
   ]
  },
  {
   "cell_type": "markdown",
   "metadata": {
    "colab_type": "text",
    "id": "AfVdF5cgQ4u6"
   },
   "source": [
    " # TAREA 2\n",
    " \n",
    " Eilin Luna Moreno  \n",
    " 30-Julio-2019\n",
    " \n",
    " # Método Variacional Generalizado\n",
    " \n",
    " Sean$\\phi_1,\\phi_2,...,\\phi_n$ funciones linealmente independientes. Construimos la función de prueba $\\phi$ combiando linealmente las $\\phi_i$ funciones:\n",
    " \n",
    " $$ \\phi =  c_1 \\phi_1 + c_2 \\phi_2 + ... + c_n \\phi_n = \\sum_j c_i \\phi_i $$\n",
    " \n",
    " ## Pozo de potenciales\n",
    " \n",
    "Se llama partícula en una caja o partícula en un pozo de potencial infinito a un sistema físico en el que una partícula se mueve sometida a potencial cero entre dos paredes de potencial infinito.  El movimiento de la partícula está confinado entre ambas paredes, sin pérdida de energía en las colisiones.\n",
    "\n",
    "![imagen](http://www.quimicafisica.com/sites/default/files/images/mecanica-cuantica/particula-en-caja/particula-caja-wiki.png)\n",
    " \n",
    " \n",
    "**Ejemplo:**\n",
    " \n",
    " $$ V(x) = \n",
    " \\left \\{  \n",
    " \\begin{matrix} \n",
    "0        &     \\frac{-l}{2} \\leq x \\leq \\frac{l}{2} \\\\\n",
    "V_0   &      x > \\frac{l}{2} \\quad x < -\\frac{l}{2}\n",
    "\\end{matrix} \n",
    "\\right.  $$\n",
    "\n",
    "$$ - \\frac{\\hbar^2}{2m} \\nabla^2 \\psi(x) + V(x) \\psi(x) = E \\psi(x) $$\n",
    "\n",
    "Como $\\nabla^2$ es el laplaciano,\n",
    "\n",
    "$$ \\nabla^2 = \\frac{\\partial^2}{\\partial x^2} + \\frac{\\partial^2}{\\partial y^2} + \\frac{\\partial^2}{\\partial z^2}$$\n",
    "\n",
    "$$ - \\frac{\\hbar^2}{2m} \\frac{d^2}{dx^2} \\psi(x) + V(x) \\psi(x) = E \\psi(x) $$\n",
    "\n",
    "Aplicaremos el método variacional generalizado:\n",
    "\n",
    "$$ \\psi(x) = \\sum_{j} C_j  e^{i k_j x}$$\n",
    "\n",
    "\n",
    "**Veamos ¿qué son los $k_j$?**\n",
    "\n",
    "Que una función de onda sea de cuadrado integrable significa\n",
    "\n",
    "$$ \\int_v \\psi^{*} (\\vec{r}) \\psi (\\vec{r}) d \\vec{r} = N^2 $$\n",
    "\n",
    "Si se toman normalizadas N=1\n",
    "\n",
    "$$ \\psi \\left(-\\frac{l}{2}\\right) = \\psi \\left(\\frac{l}{2}\\right) $$\n",
    "\n",
    "$$ \\sum_j C_j e^{-ik_j \\frac{L}{2}} = \\sum_j C_j e^{i k j \\frac{L}{2} }$$\n",
    "\n",
    "$$ \\sum C_j \\left(e^{i k_j \\frac{L}{2}}  -  e^{-i k_j \\frac{L}{2}} \\right) = 0$$\n",
    "\n",
    "$$ e^{\\pm i \\theta} = \\cos{\\theta} \\pm i \\sin{\\theta} $$\n",
    "\n",
    "$$ \\sum_j C_j \\left( \\cos {k_j \\frac{L}{2}} + i \\sin{k_j \\frac{L}{2}} -\\cos{k_j \\frac{L}{2}} + i \\sin {k_j \\frac{L}{2}} \\right) = 0$$\n",
    "\n",
    "$$ \\sum_j C_j 2 i \\sin {k_j  \\frac{L}{2}} = 0$$\n",
    "\n",
    "$$ \\sin {k_j \\frac{L}{2}} = 0$$\n",
    "\n",
    "$$ k_j \\frac{L}{2} = j \\pi$$\n",
    "\n",
    "$$ k_j = \\frac{2\\pi j}{L}$$\n",
    "\n",
    "Para el pozo de potencial, tenemos:\n",
    "\n",
    "$$ - \\frac{\\hbar^2}{2m} \\frac{d^2}{dx^2} \\psi(x) + V(x) \\psi(x) = E \\psi(x) $$\n",
    "\n",
    "$$ \\psi (x) = \\sum_j C_j e^{i k_j x}$$ $$con\\ k_j=\\frac{2\\pi j}{L}$$\n",
    "\n",
    "$$ \\frac{\\hbar^2}{2m}  \\sum_j C_j k_j^2 e^{i k_j x}  + \\sum_j C_j V(x) e^{i k_j x} = E \\sum_j C_j e^{i k_j x} $$\n",
    "\n",
    "Multiplicamos a la izquierda por $ e^{-i k_i x} $\n",
    "\n",
    "$$ \\frac{\\hbar^2}{2m}  \\sum_j C_j k_j^2 \\int dx e^{i (k_j - k_i) x}  + \\sum_j C_j \\int dxV(x) e^{i (k_j - k_i) x} = E \\sum_j C_j \\int dx e^{i (k_j - k_i) x} $$\n",
    "\n",
    "Resolviendo la primera integral se tiene:\n",
    "\n",
    "$$ \\int_{-\\frac{L}{2}}^{\\frac{L}{2}} dx\\ e^{i (k_j - k_i) x} $$ \n",
    "\n",
    "$$\\ si\\ i \\neq j = 0$$\n",
    "$$ para\\ i =j\\  se\\ tiene:$$ \n",
    "\n",
    "$$ \\int_{-\\frac{L}{2}}^{\\frac{L}{2}} dx = L$$\n",
    "\n",
    "$$ \\int_{-\\frac{L}{2}}^{\\frac{L}{2}} dx\\ e^{i(k_j-k_i)x} = L\\delta_{ij}$$\n",
    "\n",
    "Resolviendo la segunda integral, se  obtiene:\n",
    "\n",
    "$$ \\int V_0 e^{i(k_j-k_i )x} dx \n",
    "=  V_0 \\left[ \\int \\cos{[(k_j-k_i)x]} dx + i \\int \\sin{[(k_j-k_i)x]}dx \\right]$$\n",
    "\n",
    "Para $j\\neq i$\n",
    "\n",
    "$$ \\int V_0 e^{i(k_j-k_i )x} dx = V_0 \\left[ \\frac{\\sin{[(k_j-k_i)x]}}{k_j-k_i} -i \\frac{\\cos{[(k_j-k_i)x]}}{k_j-k_i}\\right]\n",
    "$$\n",
    "\n",
    "$$ = V_0 \\left[ \\frac{L}{2 \\pi (j-i)} \\sin{\\frac{2 \\pi }{L} (j-i)x} -i \\frac{L}{2 \\pi (j-i)} \\cos{\\frac{2 \\pi }{L} (j-i)x}\\right] \n",
    "$$\n",
    "\n",
    "Teniendo en cuenta que: $ \\int_{-\\frac{l}{2}}^{\\frac{l}{2}} V_0 e^{i(k_j-k_i )x} dx = 0 $\n",
    "\n",
    "$$ \\int_{-\\frac{L}{2}}^{\\frac{L}{2}} V_0 e^{i(k_j-k_i )x} dx =   \\frac{- V_0L}{2\\pi(j-i)} \\sin{\\left( \\frac{l\\pi}{L}(j-i)\\right)} $$\n",
    "\n",
    "$$ \\int_{-\\frac{L}{2}}^{\\frac{L}{2}} V_0 e^{i(k_j-k_i )x} dx =  \\frac{- V_0}{k_j - k_i } \\sin{\\left( \\frac{l}{2} (k_j - k_i) \\right)} $$\n",
    "\n",
    "\n",
    "Para $i=j$\n",
    "\n",
    "$$ \\int_{-\\frac{L}{2}}^{\\frac{L}{2}} V_0 e^{i(k_j-k_i )x} dx = \n",
    "\\int_{-\\frac{L}{2}}^{-\\frac{l}{2}} V_0 dx + \\int_{\\frac{l}{2}}^{\\frac{L}{2}} V_0 dx \n",
    "$$\n",
    "\n",
    "$$ \\int_{-\\frac{L}{2}}^{\\frac{L}{2}} V_0 e^{i(k_j-k_i )x} dx = \n",
    "V_0 \\left( \\frac{L}{2} - \\frac{l}{2} \\right) + V_0 \\left( \\frac{L}{2} - \\frac{l}{2} \\right)\n",
    "$$\n",
    "\n",
    "$$ \\int_{-\\frac{L}{2}}^{\\frac{L}{2}} V_0 e^{i(k_j-k_i )x} dx = V_0 (L-l) $$\n",
    "\n",
    "\n",
    "Y por tanto:\n",
    "\n",
    "$$ \\frac{\\hbar^2 }{2m} L \\sum_j C_j k_j^2 \\delta_{ij} + \\int_{-\\frac{L}{2}}^{\\frac{L}{2}} V(x) \\sum_j C_j e^{i(k_j-k_i)x} dx = E L \\sum_j C_j \\delta_{ij}$$\n",
    "\n",
    "Adimensionalizando la ecuación  tenemos:\n",
    "\n",
    "$$ \\frac{1}{2} L \\sum_j C_j k_j^2 \\delta_{ij} + \\int_{-\\frac{L}{2}}^{\\frac{L}{2}} V(x) \\sum_j C_j e^{i(k_j-k_i)x} dx = E L \\sum_j C_j \\delta_{ij},$$\n",
    "\n",
    "donde  las  energías  estan  en  Hartrees  y  las  distancias  en  radios de Bohr. "
   ]
  },
  {
   "cell_type": "code",
   "execution_count": 2,
   "metadata": {
    "colab": {
     "base_uri": "https://localhost:8080/",
     "height": 35
    },
    "colab_type": "code",
    "id": "z-pWJnpOD7iy",
    "outputId": "17ea4439-d624-4745-95e4-bfda968e921c"
   },
   "outputs": [
    {
     "data": {
      "text/plain": [
       "[<matplotlib.lines.Line2D at 0x7f5c62e10278>]"
      ]
     },
     "execution_count": 2,
     "metadata": {},
     "output_type": "execute_result"
    },
    {
     "data": {
      "image/png": "[encoded data removed]",
      "text/plain": [
       "<Figure size 432x288 with 1 Axes>"
      ]
     },
     "metadata": {
      "needs_background": "light"
     },
     "output_type": "display_data"
    }
   ],
   "source": [
    "#Importando paquetes\n",
    "import numpy as np\n",
    "import  matplotlib.pyplot  as  plt\n",
    "from scipy.integrate import simps\n",
    "from math import pi, sin,fabs, cos\n",
    "\n",
    "#  Unidades\n",
    "#----------------------------------\n",
    "EH = 27.211    #  eV\n",
    "a0 = 0.529     #  A\n",
    "#----------------------------------\n",
    "\n",
    "# Parametros  del  problema \n",
    "V0 = 30.0 #eV\n",
    "l  = 4. #Longitud de la caja\n",
    "L = 4*l #Longitud del espacio\n",
    "n = 50 # Numero de funciones de onda.\n",
    "\n",
    "k = 2.*pi*np.arange(-n,n+1)/L\n",
    "nn = k.shape[0]\n",
    "\n",
    "# Definiendo funciones potenciales:\n",
    "def V(i,j):\n",
    "    K = k[j]-k[i]\n",
    "    a = sin(K*-L/2)/K - 1j* cos(K*-L/2)/K \n",
    "    b = sin(K*-l/2)/K - 1j* cos(K*-l/2)/K\n",
    "    c = sin(K*l/2)/K  - 1j* cos(K*l/2)/K\n",
    "    d = sin(K*L/2)/K  - 1j* cos(K*L/2)/K\n",
    "    return V0 * ((b-a) + (d-c))\n",
    "\n",
    "# Calculando Matriz Hermitiana\n",
    "H = np.zeros((nn,nn),dtype=np.complex)\n",
    "for i in range(nn):\n",
    "    for j in range(nn):\n",
    "        if i==j:\n",
    "            H[i,j] = 0.5*k[i]**2 + V0*(L-l)/L\n",
    "        else:\n",
    "            H[i,j] = V(i,j)/L\n",
    "\n",
    "lambdaj,C = np.linalg.eigh(H)\n",
    "\n",
    "# Encontrando valor de phi\n",
    "phir, phii=[], []\n",
    "x=np.linspace(-L/2.,L/2.,nn)\n",
    "for xp in x:\n",
    "    aux1, aux2 = 0.0, 0.0\n",
    "    for j in range(nn):\n",
    "        aux1 += C[j,4]*np.cos(k[j]*xp)\n",
    "        aux2 += C[j,4]*np.sin(k[j]*xp)\n",
    "    phir.append(aux1)\n",
    "    phii.append(aux2)\n",
    "phi = np.array(phir)**2+np.array(phii)**2\n",
    "plt.plot(x,phi)"
   ]
  },
  {
   "cell_type": "markdown",
   "metadata": {
    "colab_type": "text",
    "id": "r6JrIqMlgr1y"
   },
   "source": [
    "## Oscilador armónico\n",
    "\n",
    "El oscilador armónico es un sistema físico en el que una masa oscila en torno a una posición de equilibrio sometida a un potencial elástico $V(x)=\\frac{1}{2}m \\omega x^2$.  La oscilación de los átomos de una molécula puede ser estudiada mediante la versión cuántica de este modelo.\n",
    "\n",
    "$$ - \\frac{\\hbar^2}{2m} \\frac{d^2}{dx^2} \\psi(x) + V(x) \\psi(x) = E \\psi(x) $$\n",
    "\n",
    "$$ - \\frac{\\hbar^2}{2m} \\frac{d^2}{dx^2} \\psi(x) + \\frac{1}{2} m \\omega x^2 \\psi(x) = E \\psi(x) $$\n",
    "\n"
   ]
  },
  {
   "cell_type": "code",
   "execution_count": null,
   "metadata": {},
   "outputs": [],
   "source": []
  },
  {
   "cell_type": "markdown",
   "metadata": {
    "colab_type": "text",
    "id": "7d_zZ9uC9_DD"
   },
   "source": [
    "**Referencia:**\n",
    "\n",
    "http://www.quimicafisica.com/mecanica-cuantica-metodo-variacional-lineal.html"
   ]
  }
 ],
 "metadata": {
  "colab": {
   "include_colab_link": true,
   "name": "Tarea 2 - Método Variacional Lineal.ipynb",
   "provenance": [],
   "version": "0.3.2"
  },
  "kernelspec": {
   "display_name": "Python 3",
   "language": "python",
   "name": "python3"
  },
  "language_info": {
   "codemirror_mode": {
    "name": "ipython",
    "version": 3
   },
   "file_extension": ".py",
   "mimetype": "text/x-python",
   "name": "python",
   "nbconvert_exporter": "python",
   "pygments_lexer": "ipython3",
   "version": "3.6.9"
  }
 },
 "nbformat": 4,
 "nbformat_minor": 1
}
