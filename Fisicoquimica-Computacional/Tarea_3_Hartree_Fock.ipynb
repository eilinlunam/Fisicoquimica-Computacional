{
 "cells": [
  {
   "cell_type": "markdown",
   "metadata": {},
   "source": [
    "# TAREA 3\n",
    "\n",
    "Eilin Luna Moreno  \n",
    "15/Agosto/2019  \n",
    "\n",
    "\n",
    "$$ \\hat{H} = -\\frac{1}{2} \\sum_{i=1}^{n} \\nabla_i^2 + \\sum_{i,I} \\frac{Z_I}{|{\\vec{R}_I-\\vec{r}_i}|} + \\frac{1}{2} \\sum_{i,j} \\frac{1}{|\\vec{r}_i - \\vec{r_j} |} $$\n",
    "\n",
    "$$ E, \\psi ( \\vec{r}_1, \\vec{r}_2, ... \\vec{r}_n, \\vec{R}_1,... \\vec{r}_N)  $$\n",
    "\n",
    "# --------------- Aproximación de Hartree-Fock -------------------------\n",
    "\n",
    "¿Cuál es la forma de la función de onda?\n",
    "\n",
    "1) El sistema es un sistema fermiónico.\n",
    "Un ejemplo de sistemas fermiónicos, son los electrones, por tanto, cumplen con el principio de exclusón de Pauli, \"*Dos fenómenos no pueden estar en el mismo estado cuántico*\".\n",
    "\n",
    "**Tarea** Modelo atómico de Bohr.\n",
    "\n",
    "$$ E_n = \\frac{-R_y}{n^2}, \\ n=1,2,3...$$\n",
    "\n",
    "La consecuencia de P.E.P, es que la función de onda del sistema tiene que ser antisimétrica, bajo el intercambio de partículas.\n",
    "\n",
    "$$ \\psi (\\vec{r}_1, \\vec{r}_2, ..., \\vec{r}_i, \\vec{r}_j, ... \\vec{r}_n) = -\\psi (\\vec{r}_1, \\vec{r}_2, ..., \\vec{r}_i, \\vec{r}_j, ... \\vec{r}_n)$$\n",
    "\n",
    "Si eliminamos la interacción, electrón-electrón:\n",
    "$$ \\hat{H} = -\\frac{1}{2} \\sum_{i=1}^{n} \\nabla_i^2 + \\sum_{i,I} \\frac{Z_I}{|{\\vec{R}_I-\\vec{r}_i}|} $$\n",
    "\n",
    "$$ \\hat{H} = \\hat{h}_1 + \\hat{h}_2 + \\hat{h}_3 + ... + \\hat{h}_n, $$\n",
    "\n",
    "donde,\n",
    "\n",
    "$$ \\hat{h}_i = -\\frac{1}{2} \\nabla_i^2 + \\sum_{I} \\frac{Z_I}{|\\vec{r}_i-\\vec{R}_I|} $$\n",
    "\n",
    "Para este caso:\n",
    "\n",
    "$$ \\hat{H} = \\sum_{i=1}^{n} \\hat{h}_i $$\n",
    "\n",
    "$$ \\hat{H}| \\psi \\rangle = E | \\psi \\rangle $$\n",
    "\n",
    "$$ \\sum _{i=1}^{n} \\hat{h}_i \\psi(\\vec{r}_1,  ..., \\vec{r}_n) = E \\psi(\\vec{r}_1) $$\n",
    "\n",
    "$$\\hat{h}_1 \\psi(\\vec{r}_1, ..., \\vec{r}_n ) + \\hat{h}_2 \\psi(\\vec{r}_1, ..., \\vec{r}_n ) + ... + \\hat{h}_n \\psi(\\vec{r}_1, ..., \\vec{r}_n ) = E \\psi(\\vec{r}_1, ..., \\vec{r}_n ) $$\n",
    "\n",
    "+ Como la ecuación es separable:\n",
    "\n",
    "$$ \\psi (\\vec{r}_1, ..., \\vec{r}_n) = \\phi_1(\\vec{r}_1) \\phi_2(\\vec{r}_2) ... \\phi_n(\\vec{r}_n) $$ \n",
    "\n",
    "$$ \\hat{h}_i \\phi_i (\\vec{r}_i) = \\epsilon_i \\phi_i (\\vec{r}_i ) $$\n",
    "\n",
    "$$ E = \\sum_{i=1} \\epsilon_i $$"
   ]
  },
  {
   "cell_type": "markdown",
   "metadata": {},
   "source": [
    "# -----------------------------   Átomo de Helio   -----------------------------\n",
    "\n",
    "$$ \\hat{H} = -\\frac{1}{2} \\nabla_1^2 - \\frac{1}{2} \\nabla_2 ^2 - \\frac{Z}{|\\vec{r}_1 - \\vec{R}|} - \\frac{Z}{|\\vec{r}_2 - \\vec{R}|} + \\frac{1}{|\\vec{r}_1 - \\vec{r}_2|} $$\n",
    "\n",
    "Si tomamos el punto de referencia en el núcleo\n",
    "\n",
    "$$ \\hat{H} = \\left( -\\frac{1}{2} \\nabla_1^2 - \\frac{Z}{|\\vec{r}_1|} \\right) + \\left( -\\frac{1}{2} \\nabla_2^2 - \\frac{Z}{|\\vec{r}_2|} \\right) + \\frac{1}{r_{12}} $$\n",
    "\n",
    "donde $ r_{12} = | \\vec{r}_1 - \\vec{r}_2 | $\n",
    "\n",
    "$$ \\hat{H} = \\hat{h}_1 + \\hat{h}_2 + \\frac{1}{r_{12}} $$\n",
    "\n",
    "Queremos calculat la energía del sistema:\n",
    "\n",
    "$$ \\therefore E = \\langle \\psi | \\hat{H} | \\psi \\rangle $$\n",
    "\n",
    "Suponemos que nuestras funciones de onda,\n",
    "\n",
    "$$ \\psi = \\frac{1}{\\sqrt{2}} \\left| \\begin{matrix}\n",
    "\\chi_a(1) && \\chi_b(1) \\\\\n",
    "\\chi_a(2) && \\chi_b(2) \\\\\n",
    "\\end{matrix} \\right|  $$\n",
    "\n",
    "$$ \\psi = \\frac{1}{\\sqrt{2}} \\left( \\chi_a(1) \\chi_b(2) - \\chi_b(1) \\chi_a(2) \\right) $$\n",
    "\n",
    "cada función,\n",
    "\n",
    "$$ \\chi_a(1) = \\psi(\\vec{r}_1) \\alpha(1) $$\n",
    "$$ \\chi_b(1) = \\psi(\\vec{r}_1) \\beta(1) $$\n",
    "\n",
    "$$ \\langle \\psi(\\vec{r}_1) | \\psi(\\vec{r}_1) \\rangle = \\int \\psi^{*} (\\vec{r}_1) \\psi (\\vec{r}_1) d \\vec{r}_1 = 1 $$\n",
    "\n",
    "Los componentes de spin también son ortonormales,\n",
    "\n",
    "$$ \\langle \\alpha(1) | \\alpha(1) \\rangle = 1 $$\n",
    "$$ \\langle \\beta(1) | \\beta(1) \\rangle = 1 $$\n",
    "$$ \\langle \\alpha(1) | \\beta(1) \\rangle = 0 $$\n",
    "$$ \\langle \\beta(1) | \\alpha(1) \\rangle = 0 $$\n",
    "\n",
    "$$ E = \\langle \\psi | \\hat{H} | \\psi \\rangle = \\langle \\psi | \\hat{h}_1 | \\psi \\rangle + \\langle \\psi | \\hat{h}_2 | \\psi \\rangle + \\left \\langle \\psi \\left| \\frac{1}{r_{12}} \\right| \\psi \\right \\rangle $$\n",
    "\n",
    "$$  \\begin {matrix}\n",
    "h_1 \n",
    "&& = \\frac{1}{2}  \\big \\{ \\langle \\chi_a(1) | \\hat{h}_1 | \\chi_a(1) \\rangle \\langle \\chi_b(2) | \\chi_b(2) \\rangle \\\\\n",
    "&& - \\langle \\chi_a(1) | \\hat{h}_1 | \\chi_b(1) \\rangle \\langle \\chi_b(2) | \\chi_a(2) \\rangle \\\\\n",
    "&& - \\langle \\chi_b(1) | \\hat{h}_1 | \\chi_a(1) \\rangle \\langle \\chi_a(2) | \\chi_b(2) \\rangle \\\\\n",
    "&& + \\langle \\chi_b(1) | \\hat{h}_1 | \\chi_b(1) \\rangle \\langle \\chi_a(2) | \\chi_a(2) \\rangle \\big \\}\n",
    "\\end{matrix}\n",
    "$$ \n",
    "\n",
    "$$ h_1 = \\frac{1}{2} \\big \\{ \\langle \\chi_a(1) | \\hat{h}_1 | \\chi_a(1) \\rangle +\n",
    "\\langle  \\chi_b(1) | \\hat{h}_1 | \\chi_b (1) \\rangle \\big \\} $$\n",
    "\n",
    "como tenemos $\\chi_a(1)=\\psi(\\vec{r}_1) \\alpha(1) $\n",
    "\n",
    "$$ h_1 = \\frac{1}{2} \\big \\{ \\langle \\psi(\\vec{r}_1) | \\hat{h}_1 | \\psi(\\vec{r}_1) \\rangle \\langle \\alpha(1) | \\alpha(1) \\rangle + \\langle \\psi(\\vec{r}_1) | \\hat{h}_1 | \\psi(\\vec{r}_1) \\rangle \\langle \\beta(1) | \\beta(1) \\rangle \\big \\}$$\n",
    "\n",
    "$$ \\therefore h_1 = \\langle \\psi(\\vec{r}_1) | \\hat{h}_1 | \\psi(\\vec{r}_1) \\rangle $$\n",
    "\n",
    "análogamente,\n",
    "\n",
    "$$ h_2 = \\langle \\psi(\\vec{r}_2 ) | \\hat{h}_2 | \\psi(\\vec{r}_2) \\rangle $$\n",
    "\n",
    "solo nos falta calcular,\n",
    "\n",
    "$$ \\left \\langle \\psi \\left| \\frac{1}{r_{12}} \\right| \\psi \\right \\rangle $$   \n",
    "\n",
    "  \n",
    "\n",
    "$$ \\begin {matrix}  \n",
    "\\left \\langle \\psi \\left| \\frac{1}{r_{12}} \\right| \\psi \\right \\rangle \n",
    "&& = \\frac{1}{2} \\big \\{ \n",
    "    \\left \\langle \\chi_a (1) \\chi_b(2) \\left| \\frac{1}{r_{12}} \\right| \\chi_a(1) \\chi_b(2) \\right \\rangle \\\\\n",
    "&& - \\left \\langle \\chi_a(1) \\chi_b(2) \\left| \\frac{1}{r_{12}} \\right| \\chi_a(2) \\chi_b(1) \\right \\rangle \\\\\n",
    "&& - \\left \\langle \\chi_a(2) \\chi_b(1) \\left| \\frac{1}{r_{12}} \\right| \\chi_a(1) \\chi_b(2) \\right \\rangle \\\\\n",
    "&& + \\left \\langle \\chi_a(2) \\chi_b(1) \\left| \\frac{1}{r_{12}} \\right| \\chi_a(2) \\chi_b(1) \\right \\rangle \\big \\} \n",
    "\\end {matrix} $$ \n",
    "\n",
    "El término,\n",
    "\n",
    "$$ \\left \\langle \\chi_a (1) \\chi_b(2) \\left| \\frac{1}{r_{12}} \\right| \\chi_a(1) \\chi_b(2) \\right \\rangle \n",
    "= \\int \\int \\chi^{*}_a (1) \\chi^{*} _b (2) \\frac{1}{r_{12}} \\chi_a (1) \\chi_b(2) d \\vec{r}_1 d\\vec{r}_2 $$\n",
    "\n",
    "Definimos una notación nueva\n",
    "\n",
    "$$ \\left[ ab | cd \\right] = \\int \\int \\chi_a^{*} (1) \\chi_b (1) \\frac{1}{r_{12}} \\chi_c ^{*}(2) \\chi_d (2) d \\vec{r}_1 d \\vec{r}_2 $$ \n",
    "\n",
    "Empleando esta notaciñon reescribimos el siguiente término\n",
    "\n",
    "$$ \\left \\langle \\psi \\left| \\frac{1}{r_{12}} \\right| \\psi \\right \\rangle \n",
    "= \\frac{1}{2} \\big \\{ [aa|bb] - [ab|ba] - [ba|ab] + [bb|aa] \\big \\} $$\n",
    "\n",
    "$$ [aa | bb] = \\int \\int \\chi_a^{*} \\chi_a (1) \\frac{1}{r_{12}} \\chi_b^{*} (2) \\chi_b(2) d\\vec{r}_1 d\\vec{r}_2 = [bb | aa]$$\n",
    "\n",
    "$$ \\left \\langle \\psi \\left| \\frac{1}{r_{12}} \\right| \\psi \\right \\rangle  = [aa|bb] - [ab|ba] $$\n",
    "\n",
    "Finalmente \n",
    "\n",
    "$$ \\left \\langle \\psi \\left| \\frac{1}{r_{12}} \\right| \\psi \\right \\rangle = \\langle \\psi \\psi | \\psi \\psi \\rangle = \\int \\int \\psi^{*} (\\vec{r}_1 ) \\psi (\\vec{r}_1) \\frac{1}{r_{12}} \\psi^{*} (\\vec{r}_2) \\psi (\\vec{r}_2) d\\vec{r}_1 d\\vec{r}_2 $$\n",
    "\n",
    "$$ E = h_1 + h_2 + \\langle \\psi \\psi | \\psi \\psi \\rangle $$\n",
    "\n",
    "Para implementar el cálculo, tomamos un \n",
    "\n",
    "$$ \\phi (\\vec{r}, \\theta, \\phi) = 2 \\zeta ^ {-3/2} e^{-\\zeta r / a_0 } Y_0^0 (\\theta, \\phi) $$\n",
    "\n",
    "Pero nosotros tomaremos,\n",
    "\n",
    "$$ \\phi (\\vec{r}, \\theta, \\phi) = 2 \\zeta ^ {-3/2} e^{-\\zeta r} Y_0^0 (\\theta, \\phi) $$\n",
    "\n",
    "Con:\n",
    "\n",
    "$$ Y_0^0 (\\theta, \\phi) = \\frac{1}{2} \\sqrt{\\frac{1}{\\pi}} $$"
   ]
  },
  {
   "cell_type": "code",
   "execution_count": 1,
   "metadata": {
    "scrolled": true
   },
   "outputs": [],
   "source": [
    "# Importando paquetes\n",
    "from sympy import *\n",
    "init_printing(use_unicode=True)\n",
    "\n",
    "# Estableciendo parámetros.\n",
    "Z = 2.0\n",
    "a0 = 1.0\n",
    "\n",
    "# Estableciendo símbolos de Sympy.\n",
    "zeta = symbols('zeta')\n",
    "r,  theta,  phi  = symbols('r  theta  phi')\n",
    "r1,  theta1,  phi1  = symbols('r1  theta1  phi1')\n",
    "r2,  theta2,  phi2  = symbols('r2  theta2  phi2')\n",
    "\n",
    "# Estableciendo función psi(r,theta,phi).\n",
    "def psi(r,zeta):\n",
    "    Yoo = 1/2 * sqrt(1/pi)\n",
    "    return 2*zeta**(3/2)*exp(-zeta*r)*Yoo\n",
    "\n",
    "# Hallando phi* h phi\n",
    "def psi_h_psi(r,zeta):\n",
    "    nabla2 = 1/r**2 * diff(r**2*diff(psi(r,zeta),r),r)  # Laplaciano de psi\n",
    "    return psi(r,zeta) * (-0.5*nabla2 - Z*psi(r,zeta)/r)\n",
    "\n",
    "# Integrando  phi* h phi en coordenadas esféricas:\n",
    "def integrando(r,zeta):\n",
    "    Idr = integrate(psi_h_psi(r,zeta) * r**2 * sin(phi), (r, 0, oo))\n",
    "    Idphi = integrate( Idr.args[0][0], (phi, 0, pi))\n",
    "    Idtheta = integrate( Idphi, (theta, 0, 2*pi))\n",
    "    return Idtheta\n",
    "    \n",
    "# h1 = h2 = h\n",
    "def h(r,zeta1):\n",
    "    return integrando(r,zeta).subs({zeta:zeta1})\n",
    "\n",
    "# Hallando phi* 1/r12 phi\n",
    "def psi_r12_psi(r1,phi1,theta1,r2,phi2,theta2,zeta):\n",
    "    psi1 = psi(r1,zeta)*psi(r1,zeta)\n",
    "    psi2 = psi(r2,zeta)*psi(r2,zeta)\n",
    "    cosA = cos(theta2)*cos(theta1) + sin(theta1)*sin(theta2)*cos(phi2-phi1)\n",
    "    r12 = sqrt(r1**2 + r2**2 - 2*r1*r2*cosA)\n",
    "    return psi1* 1/r12 * psi2"
   ]
  },
  {
   "cell_type": "markdown",
   "metadata": {},
   "source": [
    "# Mostrando resultados en latex"
   ]
  },
  {
   "cell_type": "code",
   "execution_count": 2,
   "metadata": {},
   "outputs": [
    {
     "data": {
      "text/latex": [
       "$$\\psi(r,\\phi,\\theta) =\\frac{1.0 \\zeta^{1.5} e^{- r \\zeta}}{\\sqrt{\\pi}}$$"
      ],
      "text/plain": [
       "<IPython.core.display.Latex object>"
      ]
     },
     "metadata": {},
     "output_type": "display_data"
    },
    {
     "data": {
      "text/latex": [
       "--------------------------------------------------------------------------------------------------------------------------------------------------------------"
      ],
      "text/plain": [
       "<IPython.core.display.Latex object>"
      ]
     },
     "metadata": {},
     "output_type": "display_data"
    },
    {
     "data": {
      "text/latex": [
       "$$h_1=h_2=\\int_{0}^{2\\pi} \\int_{0}^{\\pi} \\int_{0}^{\\infty}- \\frac{1.0 r \\left(0.5 r \\zeta^{5.0} + 2.0 \\zeta^{3.0} - 1.0 \\zeta^{4.0}\\right) e^{- 2 r \\zeta} \\sin{\\left(\\phi \\right)}}{\\pi}dr d\\phi d\\theta$$"
      ],
      "text/plain": [
       "<IPython.core.display.Latex object>"
      ]
     },
     "metadata": {},
     "output_type": "display_data"
    },
    {
     "data": {
      "text/latex": [
       "$$h_1=h_2=- 2.0 \\zeta^{1.0} + 0.5 \\zeta^{2.0}$$"
      ],
      "text/plain": [
       "<IPython.core.display.Latex object>"
      ]
     },
     "metadata": {},
     "output_type": "display_data"
    },
    {
     "data": {
      "text/latex": [
       "--------------------------------------------------------------------------------------------------------------------------------------------------------------"
      ],
      "text/plain": [
       "<IPython.core.display.Latex object>"
      ]
     },
     "metadata": {},
     "output_type": "display_data"
    },
    {
     "data": {
      "text/latex": [
       "$$\\frac{1}{r_{12}}=\\int_{0}^{2\\pi} \\int_{0}^{\\pi} \\int_{0}^{\\infty}\\int_{0}^{2\\pi} \\int_{0}^{\\pi} \\int_{0}^{\\infty}\\psi(r_1)^{*} \\psi(r_1) \\frac{1}{r_{12}} \\psi(r_2)^{*} \\psi(r_2)r_1^2 r_2^2 sin(\\phi_1) sin(\\phi_2)dr_1 d\\phi_1 d\\theta_1 dr_2 d\\phi_2 d\\theta_2$$"
      ],
      "text/plain": [
       "<IPython.core.display.Latex object>"
      ]
     },
     "metadata": {},
     "output_type": "display_data"
    },
    {
     "data": {
      "text/latex": [
       "$$\\psi(r_1)^{*} \\psi(r_1) \\frac{1}{r_{12}} \\psi(r_2)^{*} \\psi(r_2)=\\frac{1.0 \\zeta^{6.0} e^{- 2 \\zeta \\left(r_{1} + r_{2}\\right)}}{\\pi^{2} \\sqrt{r_{1}^{2} - 2 r_{1} r_{2} \\left(\\sin{\\left(\\theta_{1} \\right)} \\sin{\\left(\\theta_{2} \\right)} \\cos{\\left(\\phi_{1} - \\phi_{2} \\right)} + \\cos{\\left(\\theta_{1} \\right)} \\cos{\\left(\\theta_{2} \\right)}\\right) + r_{2}^{2}}}$$"
      ],
      "text/plain": [
       "<IPython.core.display.Latex object>"
      ]
     },
     "metadata": {},
     "output_type": "display_data"
    }
   ],
   "source": [
    "from IPython.display import display, Latex, Markdown\n",
    "\n",
    "display(Latex('$$\\psi(r,\\phi,\\\\theta) ='+\n",
    "              latex(simplify(psi(r,zeta)))+'$$'))\n",
    "\n",
    "\n",
    "display(Latex('---------------------------------------------------------------------'+\n",
    "             '---------------------------------------------------------------------'+\n",
    "             '--------------------'))\n",
    "\n",
    "display(Latex('$$h_1=h_2=\\int_{0}^{2\\pi} \\int_{0}^{\\pi} \\int_{0}^{\\infty}'\n",
    "              +latex(simplify(psi_h_psi(r,zeta)*r**2*sin(phi)))+\n",
    "              'dr d\\phi d\\\\theta$$'))\n",
    "\n",
    "display(Latex('$$h_1=h_2='+latex(simplify(h(r,zeta)))+'$$'))\n",
    "\n",
    "display(Latex('---------------------------------------------------------------------'+\n",
    "             '---------------------------------------------------------------------'+\n",
    "             '--------------------'))\n",
    "\n",
    "\n",
    "display(Latex('$$\\\\frac{1}{r_{12}}=\\int_{0}^{2\\pi} \\int_{0}^{\\pi} \\int_{0}^{\\infty}'\n",
    "              +'\\int_{0}^{2\\pi} \\int_{0}^{\\pi} \\int_{0}^{\\infty}'\n",
    "              +'\\psi(r_1)^{*} \\psi(r_1) \\\\frac{1}{r_{12}} \\psi(r_2)^{*} \\psi(r_2)'\n",
    "              + 'r_1^2 r_2^2 sin(\\phi_1) sin(\\phi_2)'\n",
    "              +'dr_1 d\\phi_1 d\\\\theta_1 dr_2 d\\phi_2 d\\\\theta_2$$'))\n",
    "              \n",
    "display(Latex('$$\\psi(r_1)^{*} \\psi(r_1) \\\\frac{1}{r_{12}} \\psi(r_2)^{*} \\psi(r_2)='\n",
    "              +latex(simplify(psi_r12_psi(r1,phi1,theta1,r2,phi2,theta2,zeta)))+'$$'))"
   ]
  },
  {
   "cell_type": "code",
   "execution_count": 3,
   "metadata": {},
   "outputs": [
    {
     "data": {
      "text/plain": [
       "''"
      ]
     },
     "execution_count": 3,
     "metadata": {},
     "output_type": "execute_result"
    }
   ],
   "source": [
    "\"\"\"\n",
    "# Intentando realizar la integral sextuple.\n",
    "\n",
    "from scipy import integrate\n",
    "from numpy import exp, sqrt, pi, sin, inf, cos\n",
    "from time import time\n",
    "\n",
    "def f(r1,phi1,theta1,r2,phi2,theta2,zeta):\n",
    "    P = psi_r12_psi(r1,phi1,theta1,r2,phi2,theta2,zeta)\n",
    "    return P*r1**2*r2**2*sin(phi1)*sin(phi2)\n",
    "\n",
    "def integrando_r12(zeta):\n",
    "    return integrate.nquad(f, \n",
    "                           [[0., inf],\n",
    "                            [0., pi],\n",
    "                            [0., 2*pi],\n",
    "                            [1., inf],\n",
    "                            [0., pi],\n",
    "                            [0., 2*pi]], args=[zeta])\n",
    "\"\"\"\n",
    "''"
   ]
  },
  {
   "cell_type": "code",
   "execution_count": null,
   "metadata": {
    "scrolled": true
   },
   "outputs": [],
   "source": []
  }
 ],
 "metadata": {
  "kernelspec": {
   "display_name": "Python 2",
   "language": "python",
   "name": "python2"
  },
  "language_info": {
   "codemirror_mode": {
    "name": "ipython",
    "version": 3
   },
   "file_extension": ".py",
   "mimetype": "text/x-python",
   "name": "python",
   "nbconvert_exporter": "python",
   "pygments_lexer": "ipython3",
   "version": "3.6.9"
  }
 },
 "nbformat": 4,
 "nbformat_minor": 2
}
