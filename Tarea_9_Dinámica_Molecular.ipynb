{
 "cells": [
  {
   "cell_type": "markdown",
   "metadata": {},
   "source": [
    "#  Dinamica  Molecular :\n",
    "\n",
    "\n",
    "La  evolución  clasica de un  sistema de  paticulas  esta  dado  por  las  ecvuaciones  de  Newton \n",
    "\n",
    "$$m_{i}\\frac{d^2\\vec{x}_{i}}{dt^2}=\\sum_{j}\\vec{F}_{j}$$\n",
    "\n",
    "La idea  es  determinar  la  evolución dinamica del  sistema,  es  decir  determinar,  la posición, la  velocidad  y  algunos parametros  macorscopicos  como  la  temperatura.  La  temperatura,  esta relacionada  con  la  energia  cinetica  del  sistema  por  medio  de la  teoria  cinetica  de los  gases.  En el  caso  de  un  sistema  bidimensional,  tenemos :\n",
    "\n",
    "$$ T(t)=\\sum_{i=1}^{N}\\frac{m_{i}|\\vec{v}_{i}(t)|^{2}}{K_{B}N_{f}}$$,\n",
    "\n",
    "donde $N_{f}$  es el  numero de grados de  libertad  del  sistema.\n"
   ]
  },
  {
   "cell_type": "code",
   "execution_count": 1,
   "metadata": {},
   "outputs": [
    {
     "name": "stdout",
     "output_type": "stream",
     "text": [
      "2.786781207773585e-10\n",
      "300.0000000000001\n"
     ]
    },
    {
     "data": {
      "image/png": "[encoded data removed]",
      "text/plain": [
       "<Figure size 432x288 with 1 Axes>"
      ]
     },
     "metadata": {
      "needs_background": "light"
     },
     "output_type": "display_data"
    }
   ],
   "source": [
    "#  System initialization \n",
    "\n",
    "%matplotlib inline\n",
    "import numpy as np\n",
    "import matplotlib.pyplot as plt\n",
    "\n",
    "Kb= 1.3806488e-23\n",
    "T =300\n",
    "mass= 0.1\n",
    "\n",
    "nx = 4\n",
    "ny = 4\n",
    "lx = 5.\n",
    "ly = 5.\n",
    "N  = nx*ny\n",
    "Nf = 2*N-2\n",
    "\n",
    "x= np.linspace(-lx/2,lx/2,nx)\n",
    "y= np.linspace(-ly/2,ly/2,ny)\n",
    "X,Y = np.meshgrid(x,y)\n",
    "\n",
    "# -------------------------------------------------\n",
    "#  setup  initial  conditions\n",
    "# -------------------------------------------------\n",
    "Vx=np.random.uniform(-1.,1., (nx,ny))\n",
    "Vy=np.random.uniform(-1.,1., (nx,ny))\n",
    "\n",
    "# -------------------------------------------------\n",
    "#  Eliminamos  el  movimiento  del  centro  de masa\n",
    "# -------------------------------------------------\n",
    "Vcmx = np.sum(Vx)/N\n",
    "Vcmy = np.sum(Vy)/N\n",
    "\n",
    "Vx=Vx-Vcmx\n",
    "Vy=Vy-Vcmy\n",
    "\n",
    "facnorm =np.sqrt(T*Kb*Nf/(mass*N))\n",
    "norm = np.sqrt(Vx**2+Vy**2)\n",
    "Vx = facnorm*Vx/norm\n",
    "Vy = facnorm*Vy/norm\n",
    "\n",
    "Ttest = np.sum(mass*(Vx**2+Vy**2)/(Kb*Nf))\n",
    "        \n",
    "fig1, ax1 = plt.subplots()\n",
    "ax1.plot(X,Y, \"o\")\n",
    "ax1.quiver(X,Y,Vx,Vy)\n",
    "print(np.sqrt(Vx[0,0]**2+Vy[0,0]**2))\n",
    "print(Ttest)"
   ]
  },
  {
   "cell_type": "code",
   "execution_count": null,
   "metadata": {},
   "outputs": [],
   "source": []
  }
 ],
 "metadata": {
  "kernelspec": {
   "display_name": "Python 3",
   "language": "python",
   "name": "python3"
  },
  "language_info": {
   "codemirror_mode": {
    "name": "ipython",
    "version": 3
   },
   "file_extension": ".py",
   "mimetype": "text/x-python",
   "name": "python",
   "nbconvert_exporter": "python",
   "pygments_lexer": "ipython3",
   "version": "3.6.9"
  }
 },
 "nbformat": 4,
 "nbformat_minor": 2
}
