{
 "cells": [
  {
   "cell_type": "markdown",
   "metadata": {},
   "source": [
    "# TIGHT BINDING"
   ]
  },
  {
   "cell_type": "code",
   "execution_count": 1,
   "metadata": {},
   "outputs": [],
   "source": [
    "# Importando paquetes necesarios\n",
    "%matplotlib inline\n",
    "import numpy as np\n",
    "import pandas as pd\n",
    "from math import sqrt\n",
    "import matplotlib.pyplot as plt"
   ]
  },
  {
   "cell_type": "code",
   "execution_count": 4,
   "metadata": {},
   "outputs": [
    {
     "data": {
      "text/plain": [
       "[<matplotlib.lines.Line2D at 0x7f2c85e4ba90>]"
      ]
     },
     "execution_count": 4,
     "metadata": {},
     "output_type": "execute_result"
    },
    {
     "data": {
      "image/png": "[encoded data removed]",
      "text/plain": [
       "<Figure size 432x288 with 1 Axes>"
      ]
     },
     "metadata": {
      "needs_background": "light"
     },
     "output_type": "display_data"
    }
   ],
   "source": [
    "# Funcion que rota \"x\" y \"y\".\n",
    "def rotacion(x,y, ang):\n",
    "    A = [[np.cos(ang), -np.sin(ang)],\n",
    "         [np.sin(ang), np.cos(ang)]]\n",
    "    r = [x,y]\n",
    "    return np.dot(A,r)\n",
    "\n",
    "# Funcion que genera un punto cuantico triangular \n",
    "# Funcion que genera un punto cuantico triangular \n",
    "# de tamaño n\n",
    "def triangularGraphene(n,d=0.0, ang=0.0):\n",
    "    acc=1.44\n",
    "    t = (0.75*n-0.25)*acc # Traslacion en \"y\" para centrar.\n",
    "    x, y  = [0], [t+acc/2]\n",
    "    for k in range(n):\n",
    "        i=k+1\n",
    "        j = t + k*-1.5*acc  \n",
    "        X = np.arange(-i*sqrt(3)*acc/2, i*sqrt(3)*acc/2+1, sqrt(3)*acc)\n",
    "        Y = np.ones(i+1)*j\n",
    "        x += list(X)+list(X)\n",
    "        y += list(Y)+list(Y-acc)\n",
    "    x += list(X+sqrt(3)/2*acc)\n",
    "    y += list(Y-1.5*acc)\n",
    "    x.pop(-1)\n",
    "    y.pop(-1)\n",
    "    x, y = rotacion(x,y, ang)\n",
    "    z = np.ones(len(x))*d\n",
    "    return [x,y,z]\n",
    "\n",
    "def hexagonalGraphene(n, d=0.0, ang=0.0):\n",
    "    acc=1.44\n",
    "    t = (1.5*n-1.)*acc # Traslacion en \"y\" para centrar.\n",
    "    x, y = [], []\n",
    "    I = list(np.arange(n,n*2-1))+list(np.arange(n*2-1,n-1,-1))\n",
    "    for k in range(n*2-1):\n",
    "        i=I[k]\n",
    "        j = t + k*-1.5*acc    \n",
    "        X = np.arange(-i*sqrt(3)*acc/2, i*sqrt(3)*acc/2+1, sqrt(3)*acc)\n",
    "        Y= np.ones(i+1)*j\n",
    "        x += list(X)+list(X)\n",
    "        y += list(Y)+list(Y-acc)\n",
    "    xx = list(np.arange(-(n-1)*sqrt(3)*acc/2, (n-1)*sqrt(3)*acc/2+1, sqrt(3)*acc))\n",
    "    x += xx+xx\n",
    "    y += list(np.ones(n)*max(y)+0.5*acc)+list(np.ones(n)*min(y)-0.5*acc)\n",
    "    x, y = rotacion(x,y, ang)\n",
    "    z = np.ones(len(x))*d\n",
    "    return [x,y,z]\n",
    "\n",
    "# Generando matriz de distancias entre los Carbonos.\n",
    "def getMatrizDistancias(atom,coords, r=False):\n",
    "    C = pd.DataFrame(coords, columns=['x', 'y', 'z'], index=atom)\n",
    "    Cs = C[C.index==1] \n",
    "    X1, X2 = np.meshgrid(Cs.x,Cs.x)\n",
    "    Y1, Y2 = np.meshgrid(Cs.y,Cs.y)\n",
    "    Z1, Z2 = np.meshgrid(Cs.z,Cs.z)\n",
    "    R = np.sqrt((X2-X1)**2+(Y2-Y1)**2+(Z2-Z1)**2)\n",
    "    if r==True: \n",
    "        return R, Z2-Z1\n",
    "    return R\n",
    "\n",
    "# Funcion que obtiene la matriz T.\n",
    "def getT(t, atom,coords):\n",
    "    D = getMatrizDistancias(atom, coords)\n",
    "    np.fill_diagonal(D, 1000)\n",
    "    D[abs(D-1.44)>0.5]=0.\n",
    "    D[D>0.]=t\n",
    "    return np.array(D)\n",
    "\n",
    "def coords_vecinos(coords):\n",
    "    # Generando energias.\n",
    "    t = -2.8\n",
    "    atom = np.ones(len(coords)) #Etiquetas\n",
    "    T = getT(t, atom, coords)\n",
    "    m,p = T.shape\n",
    "    # Extrayendo carbonos con dos vecinos.\n",
    "    bordes=[]\n",
    "    for i in range(m):\n",
    "        Nvecinos = list(T[i]).count(t)\n",
    "        if Nvecinos==2:\n",
    "            bordes+=[coords[i]]\n",
    "    return bordes\n",
    "\n",
    "\n",
    "def coords_Hydrogens(coords, ang=0.0, acc=1.44):\n",
    "    x,y,z=np.transpose(coords)\n",
    "    x,y=rotacion(x,y,-ang)\n",
    "    bordes = coords_vecinos(np.transpose([x,y,z]))\n",
    "    x, y, z = np.transpose(bordes)\n",
    "    plt.plot(x,y,'*r', ms=12)\n",
    "    Nb = len(bordes)\n",
    "    n = (Nb//3)-1\n",
    "    #------------------------------------\n",
    "    y[0]=y[0]-acc # vértice.\n",
    "    #------------------------------------\n",
    "    r=Nb-n-3 # aristas.\n",
    "    s=np.sign(x[1:r+1])\n",
    "    x[1:r+1]=x[1:r+1]+np.sqrt(3)/2*acc*s\n",
    "    y[1:r]=y[1:r]-0.5*acc\n",
    "    y[r]=y[r]+0.5*acc\n",
    "    #------------------------------------\n",
    "    r = Nb-n-2 # vértice\n",
    "    y[r:Nb-2]=y[r:Nb-2]+acc\n",
    "    #------------------------------------\n",
    "    r=Nb-1 # vértice\n",
    "    x[r]=x[r]+np.sqrt(3)/2*acc\n",
    "    y[r]=y[r]+0.5*acc\n",
    "    #------------------------------------\n",
    "    r=Nb-2 # vértice\n",
    "    x[r] = x[r] + np.sqrt(3)/2*acc\n",
    "    y[r] = y[r] -0.5*acc\n",
    "    #------------------------------------\n",
    "    x, y = rotacion(x,y, ang)\n",
    "    return np.transpose([x,y,z])\n",
    "\n",
    "\n",
    "x,y,z = hexagonalGraphene(5)\n",
    "coords = np.transpose([x,y,z])\n",
    "x1,y1,z1=np.transpose(coords_Hydrogens(coords))\n",
    "\n",
    "plt.plot(x,y,'o')\n",
    "#plt.plot(x1,y1,'o')\n"
   ]
  },
  {
   "cell_type": "code",
   "execution_count": null,
   "metadata": {},
   "outputs": [],
   "source": []
  }
 ],
 "metadata": {
  "kernelspec": {
   "display_name": "Python 3",
   "language": "python",
   "name": "python3"
  },
  "language_info": {
   "codemirror_mode": {
    "name": "ipython",
    "version": 3
   },
   "file_extension": ".py",
   "mimetype": "text/x-python",
   "name": "python",
   "nbconvert_exporter": "python",
   "pygments_lexer": "ipython3",
   "version": "3.6.9"
  }
 },
 "nbformat": 4,
 "nbformat_minor": 2
}
