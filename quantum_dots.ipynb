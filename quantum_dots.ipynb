{
  "nbformat": 4,
  "nbformat_minor": 0,
  "metadata": {
    "colab": {
      "name": "quantum_dots.ipynb",
      "provenance": [],
      "include_colab_link": true
    },
    "kernelspec": {
      "name": "python3",
      "display_name": "Python 3"
    }
  },
  "cells": [
    {
      "cell_type": "markdown",
      "metadata": {
        "id": "view-in-github",
        "colab_type": "text"
      },
      "source": [
        "<a href=\"https://colab.research.google.com/github/eilinlunam/Fisicoquimica-Computacional/blob/master/quantum_dots.ipynb\" target=\"_parent\"><img src=\"https://colab.research.google.com/assets/colab-badge.svg\" alt=\"Open In Colab\"/></a>"
      ]
    },
    {
      "cell_type": "markdown",
      "metadata": {
        "id": "EkG0cR9AzQsg",
        "colab_type": "text"
      },
      "source": [
        "### Ejecutar siguiente celda oculta."
      ]
    },
    {
      "cell_type": "code",
      "metadata": {
        "id": "8C2Q9pMPy5J4",
        "colab_type": "code",
        "colab": {}
      },
      "source": [
        "# Clase que genera un punto cuantico triangular o hexagonal de tamano n.\n",
        "\n",
        "import os\n",
        "import numpy as np\n",
        "from math import sqrt\n",
        "from matplotlib import pylab\n",
        "from google.colab import files\n",
        "import matplotlib.pyplot as plt\n",
        "from google.colab import widgets\n",
        "from mpl_toolkits import mplot3d\n",
        "\n",
        "class punto_cuantico():\n",
        "    def __init__(self, forma, n, d=0.0, ang=0.0, addH=False, \n",
        "                 acc=1.44, CH=1.41, \n",
        "                 calcular_parametros=True):\n",
        "        self.n = n # Tamano punto cuantico.\n",
        "        self.form = forma\n",
        "        self.acc = acc # Distancia entre carbonos: C-C\n",
        "        self.CH = CH # Distancia entre C-H.\n",
        "        self.d = d # Valor en eje Z\n",
        "        self.ang = ang # Angulo de rotacion\n",
        "        self.addH = addH # Booleano que agrega coordenadas de Hidrogenos\n",
        "        self.atomos = None # Vector de atomos: 1='C', 0='H'\n",
        "        self.coords = None # Matriz de Coordenadas [[x],[y],[z]]\n",
        "        self.coordsC = None # Matriz de Coordenadas de Carbonos\n",
        "        self.coordsH = None # Matriz de Coordenadas de Hidrogenos\n",
        "        self.N = None # Cantidad de Carbonos + Hidrogenos\n",
        "        self.nC = None # Cantidad de Carbonos\n",
        "        self.nH = None # Cantidad de Hidrogenos\n",
        "        self.x, self.y, self.z = None, None, None # Coords x,y,z, C+H.\n",
        "        self.Cx, self.Cy, self.Cz = None, None, None # Coords x,y,z, C.\n",
        "        self.Hx, self.Hy, self.Hz = None, None, None # Coords x,y,z, H.\n",
        "        if calcular_parametros:\n",
        "          if self.form == \"Triangular\":\n",
        "            self.Triangular()\n",
        "          else:\n",
        "            self.Hexagonal()\n",
        " \n",
        "    # Generando coordenadas de un punto cuantico triangular de tamano n.\n",
        "    def Triangular(self):\n",
        "        t = (0.75*self.n-0.25)*self.acc  \n",
        "        self.x, self.y  = [0], [t+self.acc/2] \n",
        "        for k in range(self.n):\n",
        "            i = k+1\n",
        "            j = t + k*-1.5*self.acc\n",
        "            X = np.linspace(-i*sqrt(3)*self.acc/2, i*sqrt(3)*self.acc/2, i+1)\n",
        "            Y = np.ones(i+1)*j\n",
        "            self.x += list(X)*2\n",
        "            self.y += list(Y)+list(Y-self.acc)\n",
        "        self.x += list(X+sqrt(3)/2*self.acc)\n",
        "        self.y += list(Y-1.5*self.acc)\n",
        "        self.z = list(np.ones(len(self.x))*self.d)\n",
        "        self.x.pop(-1)\n",
        "        self.y.pop(-1)\n",
        "        self.z.pop(-1)\n",
        "        return self.ParametrosC()\n",
        " \n",
        "    # Generando las coordenadas de un punto cuantico hexagonal de tamano n.\n",
        "    def Hexagonal(self):\n",
        "        t = (1.5*self.n-1)*self.acc \n",
        "        self.x, self.y = [], []\n",
        "        I = (list(np.arange(self.n,self.n*2-1))+\n",
        "             list(np.arange(self.n*2-1,self.n-1,-1)))\n",
        "        for k in range(self.n*2-1):\n",
        "            i=I[k]\n",
        "            j = t + k*-1.5*self.acc    \n",
        "            X = np.arange(-i*sqrt(3)*self.acc/2,\n",
        "                          i*sqrt(3)*self.acc/2+1, sqrt(3)*self.acc)\n",
        "            Y= np.ones(i+1)*j\n",
        "            self.x += list(X)+list(X)\n",
        "            self.y += list(Y)+list(Y-self.acc)\n",
        "        xx = list(np.arange(-(self.n-1)*sqrt(3)*self.acc/2, \n",
        "                             (self.n-1)*sqrt(3)*self.acc/2+1,\n",
        "                              sqrt(3)*self.acc))\n",
        "        self.x += xx*2\n",
        "        self.y += ( list(np.ones(self.n)*max(self.y)+0.5*self.acc)\n",
        "                   +list(np.ones(self.n)*min(self.y)-0.5*self.acc))\n",
        "        self.z = list(np.ones(len(self.x))*self.d)\n",
        "        return self.ParametrosC(True)\n",
        "      \n",
        "    # Guardando informacion de los Carbonos.\n",
        "    def ParametrosC(self, Hex=False):\n",
        "        self.atomos = list(np.ones(len(self.x)))\n",
        "        self.coordsC = [self.x,self.y,self.z]\n",
        "        self.nC = len(self.x)\n",
        "        if self.ang != 0.:\n",
        "            self.x, self.y = self.rotacion(self.x,self.y)\n",
        "        self.Cx, self.Cy, self.Cz = self.x.copy(),self.y.copy(),self.z.copy()\n",
        "        if self.addH == True:\n",
        "            if Hex==False:\n",
        "                return self.addHidrogenosTri()\n",
        "            else:\n",
        "                return self.addHidrogenosHex()\n",
        "        self.N = self.nC\n",
        "        self.coords = [self.x,self.y,self.z]\n",
        "        return self\n",
        "      \n",
        "    # Agregando hidrogenos a coordenadas triangulares.\n",
        "    def addHidrogenosTri(self):\n",
        "        t=(0.75*self.n-0.25)*self.acc\n",
        "        self.Hx, self.Hy  = [0], [t+self.acc/2+self.CH]\n",
        "        for k in range(self.n):\n",
        "            self.Hx += [-sqrt(3)/2*((k+1)*self.acc+self.CH),\n",
        "                         sqrt(3)/2*((k+1)*self.acc+self.CH)]\n",
        "            self.Hy += [t+k*-1.5*self.acc+self.CH/2]*2\n",
        "        self.Hx += (list(np.linspace(-(self.n-1)*sqrt(3)*self.acc/2,\n",
        "                                      (self.n-1)*sqrt(3)*self.acc/2, self.n))\n",
        "                    +[self.Hx[self.n*2]] + [self.Hx[self.n*2-1]])\n",
        "        self.Hy += (list(t+(self.n-1)*-1.5*self.acc*np.ones(self.n)\n",
        "                         -1.5*self.acc-self.CH)\n",
        "                    +[self.Hy[self.n*2]-self.acc-self.CH] \n",
        "                    +[self.Hy[self.n*2]-self.acc-self.CH])\n",
        "        self.Hz = list(np.ones(len(self.Hx))*self.d)\n",
        "        return self.ParametrosH()\n",
        "      \n",
        "    # Agregando hidrogenos a coordenadas hexagonales.\n",
        "    def addHidrogenosHex(self):\n",
        "        t = (1.5*self.n-1.)*self.acc\n",
        "        self.Hx, self.Hy = [], []\n",
        "        I = list(np.arange(self.n,self.n*2))\n",
        "        for k in range(self.n):\n",
        "            i=I[k]\n",
        "            j = t + k*-1.5*self.acc\n",
        "            self.Hx += [-i*sqrt(3)*self.acc/2-sqrt(3)/2*self.CH,\n",
        "                    i*sqrt(3)*self.acc/2+sqrt(3)/2*self.CH]\n",
        "            self.Hy += [j+self.CH/2, j+self.CH/2]\n",
        "        self.Hx += list(np.arange(-(self.n-1)*sqrt(3)*self.acc/2,\n",
        "                              (self.n-1)*sqrt(3)*self.acc/2+1, \n",
        "                               sqrt(3)*self.acc)) \n",
        "        self.Hy += list(np.ones(self.n)*t+self.acc/2+self.CH)\n",
        "        self.Hx += self.Hx\n",
        "        self.Hy += list(np.array(self.Hy)*-1)\n",
        "        self.Hz = list(np.ones(len(self.Hx))*self.d)\n",
        "        return self.ParametrosH()\n",
        "        \n",
        "    # Guardando informacion de los Hidrogenos\n",
        "    def ParametrosH(self):\n",
        "        if self.ang!=0.:\n",
        "            self.Hx, self.Hy = self.rotacion(self.Hx,self.Hy)\n",
        "        self.atomos += list(np.zeros(len(self.Hx)))\n",
        "        self.x += self.Hx\n",
        "        self.y += self.Hy\n",
        "        self.z += self.Hz\n",
        "        self.coords = [self.x, self.y, self.z]\n",
        "        self.coordsH = [self.Hx,self.Hy,self.Hz]\n",
        "        self.nH = len(self.Hx)\n",
        "        self.Hx, self.Hy\n",
        "        self.N = self.nC+self.nH\n",
        "        return self\n",
        "\n",
        "    # Rotando coordenadas x y y alrededor del punto(0,0)\n",
        "    def rotacion(self, x,y):\n",
        "        A = [[np.cos(self.ang), -np.sin(self.ang)],\n",
        "             [np.sin(self.ang), np.cos(self.ang)]]\n",
        "        r = [x,y]\n",
        "        x, y = np.dot(A,r)\n",
        "        return list(x), list(y)\n",
        "    \n",
        "    # Graficando punto cuantico\n",
        "    def graph(self):\n",
        "        pylab.title(\"n=\"+str(qd.n))\n",
        "        pylab.plot(self.Cx,self.Cy,'r.')\n",
        "        if self.addH==True:\n",
        "            pylab.plot(self.Hx,self.Hy,'y.')\n",
        "        \n",
        "    # Escribiendo coordenadas\n",
        "    def write_coords(self, filename):\n",
        "      f = open(filename, \"w\")\n",
        "      f.write(str(self.N)+\"\\n\")\n",
        "      f.write(\"XYZ\"+\"\\n\")\n",
        "      for i in range(self.N):\n",
        "          if self.atomos[i]==1: a=\"C\"\n",
        "          else: a=\"H\"\n",
        "          f.write( a+\"\\t\"\n",
        "                    +str(self.x[i])+\"\\t\"\n",
        "                    +str(self.y[i])+\"\\t\"\n",
        "                    +str(self.z[i])+\"\\n\")\n",
        "      f.close()\n",
        "      return "
      ],
      "execution_count": 0,
      "outputs": []
    },
    {
      "cell_type": "markdown",
      "metadata": {
        "id": "KrI-OCvHzHe3",
        "colab_type": "text"
      },
      "source": [
        "# <font color='red'> QUANTUM DOTS </font> "
      ]
    },
    {
      "cell_type": "code",
      "metadata": {
        "id": "3-LH3KRjzGrV",
        "colab_type": "code",
        "cellView": "form",
        "outputId": "ddf0a6a3-aacb-41ef-8b6d-4b526298faf4",
        "colab": {
          "base_uri": "https://localhost:8080/",
          "height": 369
        }
      },
      "source": [
        "#@title ##  <font color='blue'> Generating a quantum dot. </font> {run: \"auto\"}\n",
        "\n",
        "Form = 'Triangular' #@param [\"Triangular\", \"Hexagonal\"]\n",
        "n_points = 5 #@param {type:\"slider\", min:1, max:50, step:1}\n",
        "add_Hydrogens = False #@param [\"False\", \"True\"] {type:\"raw\"}\n",
        "angle = 0 #@param {type:\"slider\", min:0, max:360, step:5}\n",
        "coord_z = 0 #@param {type:\"slider\", min:0, max:100, step:1}\n",
        "#@markdown ---\n",
        "#@markdown  <font color='blue'> **Options:** </font>\n",
        "#@markdown ---\n",
        "Plot = True #@param {type:\"boolean\"}\n",
        "Save_file_xyz = False #@param {type:\"boolean\"}\n",
        "file_name = \"file.xyz\" #@param {type:\"string\"}\n",
        "#@markdown ---\n",
        "\n",
        "qd = punto_cuantico(Form, n_points, d=coord_z, \n",
        "                    ang=angle, addH=add_Hydrogens)\n",
        "\n",
        "if Plot:\n",
        "  plt.figure(figsize=(5.5,5), dpi=80)\n",
        "  qd.graph()\n",
        "  \n",
        "if Save_file_xyz:\n",
        "  qd.write_coords(file_name)\n",
        "  files.download(file_name)"
      ],
      "execution_count": 2,
      "outputs": [
        {
          "output_type": "display_data",
          "data": {
            "image/png": "[encoded data removed]",
            "text/plain": [
              "<Figure size 440x400 with 1 Axes>"
            ]
          },
          "metadata": {
            "tags": []
          }
        }
      ]
    },
    {
      "cell_type": "code",
      "metadata": {
        "id": "VWwXG4vU8QbY",
        "colab_type": "code",
        "cellView": "form",
        "outputId": "9171fdfd-6637-4470-a004-5d87d014695a",
        "colab": {
          "resources": {
            "http://localhost:8080/nbextensions/google.colab/tabbar.css": {
              "data": "Lmdvb2ctdGFie3Bvc2l0aW9uOnJlbGF0aXZlO3BhZGRpbmc6NHB4IDhweDtjb2xvcjojMDBjO3RleHQtZGVjb3JhdGlvbjp1bmRlcmxpbmU7Y3Vyc29yOmRlZmF1bHR9Lmdvb2ctdGFiLWJhci10b3AgLmdvb2ctdGFie21hcmdpbjoxcHggNHB4IDAgMDtib3JkZXItYm90dG9tOjA7ZmxvYXQ6bGVmdH0uZ29vZy10YWItYmFyLXRvcDphZnRlciwuZ29vZy10YWItYmFyLWJvdHRvbTphZnRlcntjb250ZW50OiIgIjtkaXNwbGF5OmJsb2NrO2hlaWdodDowO2NsZWFyOmJvdGg7dmlzaWJpbGl0eTpoaWRkZW59Lmdvb2ctdGFiLWJhci1ib3R0b20gLmdvb2ctdGFie21hcmdpbjowIDRweCAxcHggMDtib3JkZXItdG9wOjA7ZmxvYXQ6bGVmdH0uZ29vZy10YWItYmFyLXN0YXJ0IC5nb29nLXRhYnttYXJnaW46MCAwIDRweCAxcHg7Ym9yZGVyLXJpZ2h0OjB9Lmdvb2ctdGFiLWJhci1lbmQgLmdvb2ctdGFie21hcmdpbjowIDFweCA0cHggMDtib3JkZXItbGVmdDowfS5nb29nLXRhYi1ob3ZlcntiYWNrZ3JvdW5kOiNlZWV9Lmdvb2ctdGFiLWRpc2FibGVke2NvbG9yOiM2NjZ9Lmdvb2ctdGFiLXNlbGVjdGVke2NvbG9yOiMwMDA7YmFja2dyb3VuZDojZmZmO3RleHQtZGVjb3JhdGlvbjpub25lO2ZvbnQtd2VpZ2h0OmJvbGQ7Ym9yZGVyOjFweCBzb2xpZCAjNmI5MGRhfS5nb29nLXRhYi1iYXItdG9we3BhZGRpbmctdG9wOjVweCFpbXBvcnRhbnQ7cGFkZGluZy1sZWZ0OjVweCFpbXBvcnRhbnQ7Ym9yZGVyLWJvdHRvbToxcHggc29saWQgIzZiOTBkYSFpbXBvcnRhbnR9Lmdvb2ctdGFiLWJhci10b3AgLmdvb2ctdGFiLXNlbGVjdGVke3RvcDoxcHg7bWFyZ2luLXRvcDowO3BhZGRpbmctYm90dG9tOjVweH0uZ29vZy10YWItYmFyLWJvdHRvbSAuZ29vZy10YWItc2VsZWN0ZWR7dG9wOi0xcHg7bWFyZ2luLWJvdHRvbTowO3BhZGRpbmctdG9wOjVweH0uZ29vZy10YWItYmFyLXN0YXJ0IC5nb29nLXRhYi1zZWxlY3RlZHtsZWZ0OjFweDttYXJnaW4tbGVmdDowO3BhZGRpbmctcmlnaHQ6OXB4fS5nb29nLXRhYi1iYXItZW5kIC5nb29nLXRhYi1zZWxlY3RlZHtsZWZ0Oi0xcHg7bWFyZ2luLXJpZ2h0OjA7cGFkZGluZy1sZWZ0OjlweH0uZ29vZy10YWItYmFye21hcmdpbjowO2JvcmRlcjowO3BhZGRpbmc6MDtsaXN0LXN0eWxlOm5vbmU7Y3Vyc29yOmRlZmF1bHQ7b3V0bGluZTpub25lO2JhY2tncm91bmQ6I2ViZWZmOX0uZ29vZy10YWItYmFyLWNsZWFye2NsZWFyOmJvdGg7aGVpZ2h0OjA7b3ZlcmZsb3c6aGlkZGVufS5nb29nLXRhYi1iYXItc3RhcnR7ZmxvYXQ6bGVmdH0uZ29vZy10YWItYmFyLWVuZHtmbG9hdDpyaWdodH0qIGh0bWwgLmdvb2ctdGFiLWJhci1zdGFydHttYXJnaW4tcmlnaHQ6LTNweH0qIGh0bWwgLmdvb2ctdGFiLWJhci1lbmR7bWFyZ2luLWxlZnQ6LTNweH0=",
              "ok": true,
              "headers": [
                [
                  "content-type",
                  "text/css"
                ]
              ],
              "status": 200,
              "status_text": ""
            },
            "http://localhost:8080/nbextensions/google.colab/tabbar_main.min.js": {
              "data": "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",
              "ok": true,
              "headers": [
                [
                  "content-type",
                  "application/javascript"
                ]
              ],
              "status": 200,
              "status_text": ""
            }
          },
          "base_uri": "https://localhost:8080/",
          "height": 409
        }
      },
      "source": [
        "# @title ## <font color='blue'> Generating several quantum dots</font> {run:\"auto\"}\n",
        "Form = 'Triangular' #@param [\"Triangular\", \"Hexagonal\"]\n",
        "n_initial = 5 #@param {type:\"integer\"}\n",
        "n_final = 100 #@param {type:\"integer\"}\n",
        "step = 5 #@param {type:\"integer\"}\n",
        "add_Hydrogens = True #@param [\"False\", \"True\"] {type:\"raw\"}\n",
        "angle = 0 #@param {type:\"slider\", min:0, max:360, step:5}\n",
        "coord_z = 0 #@param {type:\"slider\", min:0, max:100, step:1}\n",
        "#@markdown ---\n",
        "#@markdown <font color='blue'>**Options:**</font> \n",
        "#@markdown ---\n",
        "Plot = True #@param {type:\"boolean\"}\n",
        "Save_file_xyz = False #@param {type:\"boolean\"}\n",
        "file_names = \"file.xyz\" #@param {type:\"string\"}\n",
        "show_axis = True #@param {type:\"boolean\"}\n",
        "#@markdown ---\n",
        "\n",
        "x = range(n_initial, n_final+1, step)\n",
        "\n",
        "if Plot:\n",
        "  tb = widgets.TabBar([str(i) for i in x])\n",
        "  for i in range(len(x)):\n",
        "    qd = punto_cuantico(Form, x[i], d=coord_z, \n",
        "                      ang=angle, addH=add_Hydrogens) \n",
        "    with tb.output_to(i, select=(i < 1)):\n",
        "      pylab.figure(figsize=(5.5,5), dpi=80)\n",
        "      qd.graph()\n",
        "      if show_axis == False:\n",
        "        pylab.axis('off')\n",
        "      pylab.show()\n",
        "\n",
        "if Save_file_xyz:\n",
        "  if os.path.isdir('coords/'):\n",
        "    ! rm -rf coords\n",
        "  if os.path.isfile('coords.zip'):\n",
        "    ! rm coords.zip\n",
        "  ! mkdir coords\n",
        "  r = file_names.split('.')\n",
        "  for i in range(len(x)):\n",
        "    qd.write_coords('coords/'+r[0]+'-n'+str(x[i])+'.'+r[1]) \n",
        "  !zip -r coords.zip coords/\n",
        "  files.download('coords.zip')"
      ],
      "execution_count": 5,
      "outputs": [
        {
          "output_type": "display_data",
          "data": {
            "text/html": [
              "<link rel=stylesheet type=text/css href='/nbextensions/google.colab/tabbar.css'></link>"
            ],
            "text/plain": [
              "<IPython.core.display.HTML object>"
            ]
          },
          "metadata": {
            "tags": [
              "outputarea_id3"
            ]
          }
        },
        {
          "output_type": "display_data",
          "data": {
            "text/html": [
              "<script src='/nbextensions/google.colab/tabbar_main.min.js'></script>"
            ],
            "text/plain": [
              "<IPython.core.display.HTML object>"
            ]
          },
          "metadata": {
            "tags": [
              "outputarea_id3"
            ]
          }
        },
        {
          "output_type": "display_data",
          "data": {
            "text/html": [
              "<div id=\"id3\"></div>"
            ],
            "text/plain": [
              "<IPython.core.display.HTML object>"
            ]
          },
          "metadata": {
            "tags": [
              "outputarea_id3"
            ]
          }
        },
        {
          "output_type": "display_data",
          "data": {
            "application/javascript": [
              "window[\"e74c227e-ecf3-11e9-bfaf-0242ac1c0002\"] = colab_lib.createTabBar({\"location\": \"top\", \"elementId\": \"id3\", \"tabNames\": [\"5\", \"10\", \"15\", \"20\", \"25\", \"30\", \"35\", \"40\", \"45\", \"50\", \"55\", \"60\", \"65\", \"70\", \"75\", \"80\", \"85\", \"90\", \"95\", \"100\"], \"initialSelection\": 0, \"contentBorder\": [\"0px\"], \"contentHeight\": [\"initial\"], \"borderColor\": [\"#a7a7a7\"]});\n",
              "//# sourceURL=js_2590fa7c90"
            ],
            "text/plain": [
              "<IPython.core.display.Javascript object>"
            ]
          },
          "metadata": {
            "tags": [
              "outputarea_id3"
            ]
          }
        },
        {
          "output_type": "display_data",
          "data": {
            "application/javascript": [
              "window[\"e74c7d64-ecf3-11e9-bfaf-0242ac1c0002\"] = window[\"id3\"].setSelectedTabIndex(0);\n",
              "//# sourceURL=js_ee742e5da0"
            ],
            "text/plain": [
              "<IPython.core.display.Javascript object>"
            ]
          },
          "metadata": {
            "tags": [
              "outputarea_id3"
            ]
          }
        },
        {
          "output_type": "display_data",
          "data": {
            "application/javascript": [
              "window[\"e74e97b6-ecf3-11e9-bfaf-0242ac1c0002\"] = google.colab.output.getActiveOutputArea();\n",
              "//# sourceURL=js_1e61623a9e"
            ],
            "text/plain": [
              "<IPython.core.display.Javascript object>"
            ]
          },
          "metadata": {
            "tags": [
              "id3_content_0",
              "outputarea_id3"
            ]
          }
        },
        {
          "output_type": "display_data",
          "data": {
            "application/javascript": [
              "window[\"e74ee9be-ecf3-11e9-bfaf-0242ac1c0002\"] = document.querySelector(\"#id3_content_0\");\n",
              "//# sourceURL=js_a6060a1aa3"
            ],
            "text/plain": [
              "<IPython.core.display.Javascript object>"
            ]
          },
          "metadata": {
            "tags": [
              "id3_content_0",
              "outputarea_id3"
            ]
          }
        },
        {
          "output_type": "display_data",
          "data": {
            "application/javascript": [
              "window[\"e74f64f2-ecf3-11e9-bfaf-0242ac1c0002\"] = google.colab.output.setActiveOutputArea(window[\"e74ee9be-ecf3-11e9-bfaf-0242ac1c0002\"]);\n",
              "//# sourceURL=js_dcede72b29"
            ],
            "text/plain": [
              "<IPython.core.display.Javascript object>"
            ]
          },
          "metadata": {
            "tags": [
              "id3_content_0",
              "outputarea_id3"
            ]
          }
        },
        {
          "output_type": "display_data",
          "data": {
            "application/javascript": [
              "window[\"e75036c0-ecf3-11e9-bfaf-0242ac1c0002\"] = window[\"id3\"].setSelectedTabIndex(0);\n",
              "//# sourceURL=js_c477bdb46e"
            ],
            "text/plain": [
              "<IPython.core.display.Javascript object>"
            ]
          },
          "metadata": {
            "tags": [
              "id3_content_0",
              "outputarea_id3"
            ]
          }
        },
        {
          "output_type": "display_data",
          "data": {
            "image/png": "[encoded data removed]",
            "text/plain": [
              "<Figure size 440x400 with 1 Axes>"
            ]
          },
          "metadata": {
            "tags": [
              "id3_content_0",
              "outputarea_id3",
              "user_output"
            ]
          }
        },
        {
          "output_type": "display_data",
          "data": {
            "application/javascript": [
              "window[\"e77c0c6e-ecf3-11e9-bfaf-0242ac1c0002\"] = google.colab.output.setActiveOutputArea(window[\"e74e97b6-ecf3-11e9-bfaf-0242ac1c0002\"]);\n",
              "//# sourceURL=js_18614613a2"
            ],
            "text/plain": [
              "<IPython.core.display.Javascript object>"
            ]
          },
          "metadata": {
            "tags": [
              "id3_content_0",
              "outputarea_id3"
            ]
          }
        },
        {
          "output_type": "display_data",
          "data": {
            "application/javascript": [
              "window[\"e77ebce8-ecf3-11e9-bfaf-0242ac1c0002\"] = google.colab.output.getActiveOutputArea();\n",
              "//# sourceURL=js_3565037e3b"
            ],
            "text/plain": [
              "<IPython.core.display.Javascript object>"
            ]
          },
          "metadata": {
            "tags": [
              "id3_content_1",
              "outputarea_id3"
            ]
          }
        },
        {
          "output_type": "display_data",
          "data": {
            "application/javascript": [
              "window[\"e7805abc-ecf3-11e9-bfaf-0242ac1c0002\"] = document.querySelector(\"#id3_content_1\");\n",
              "//# sourceURL=js_3e9428ed28"
            ],
            "text/plain": [
              "<IPython.core.display.Javascript object>"
            ]
          },
          "metadata": {
            "tags": [
              "id3_content_1",
              "outputarea_id3"
            ]
          }
        },
        {
          "output_type": "display_data",
          "data": {
            "application/javascript": [
              "window[\"e780f8b4-ecf3-11e9-bfaf-0242ac1c0002\"] = google.colab.output.setActiveOutputArea(window[\"e7805abc-ecf3-11e9-bfaf-0242ac1c0002\"]);\n",
              "//# sourceURL=js_4554334d6d"
            ],
            "text/plain": [
              "<IPython.core.display.Javascript object>"
            ]
          },
          "metadata": {
            "tags": [
              "id3_content_1",
              "outputarea_id3"
            ]
          }
        },
        {
          "output_type": "display_data",
          "data": {
            "image/png": "[encoded data removed]",
            "text/plain": [
              "<Figure size 440x400 with 1 Axes>"
            ]
          },
          "metadata": {
            "tags": [
              "id3_content_1",
              "outputarea_id3",
              "user_output"
            ]
          }
        },
        {
          "output_type": "display_data",
          "data": {
            "application/javascript": [
              "window[\"e7a9a016-ecf3-11e9-bfaf-0242ac1c0002\"] = google.colab.output.setActiveOutputArea(window[\"e77ebce8-ecf3-11e9-bfaf-0242ac1c0002\"]);\n",
              "//# sourceURL=js_99d5a8582b"
            ],
            "text/plain": [
              "<IPython.core.display.Javascript object>"
            ]
          },
          "metadata": {
            "tags": [
              "id3_content_1",
              "outputarea_id3"
            ]
          }
        },
        {
          "output_type": "display_data",
          "data": {
            "application/javascript": [
              "window[\"e7adf83c-ecf3-11e9-bfaf-0242ac1c0002\"] = google.colab.output.getActiveOutputArea();\n",
              "//# sourceURL=js_341df54e60"
            ],
            "text/plain": [
              "<IPython.core.display.Javascript object>"
            ]
          },
          "metadata": {
            "tags": [
              "id3_content_2",
              "outputarea_id3"
            ]
          }
        },
        {
          "output_type": "display_data",
          "data": {
            "application/javascript": [
              "window[\"e7aef8e0-ecf3-11e9-bfaf-0242ac1c0002\"] = document.querySelector(\"#id3_content_2\");\n",
              "//# sourceURL=js_cee7a960c3"
            ],
            "text/plain": [
              "<IPython.core.display.Javascript object>"
            ]
          },
          "metadata": {
            "tags": [
              "id3_content_2",
              "outputarea_id3"
            ]
          }
        },
        {
          "output_type": "display_data",
          "data": {
            "application/javascript": [
              "window[\"e7b03692-ecf3-11e9-bfaf-0242ac1c0002\"] = google.colab.output.setActiveOutputArea(window[\"e7aef8e0-ecf3-11e9-bfaf-0242ac1c0002\"]);\n",
              "//# sourceURL=js_5bb1f76eca"
            ],
            "text/plain": [
              "<IPython.core.display.Javascript object>"
            ]
          },
          "metadata": {
            "tags": [
              "id3_content_2",
              "outputarea_id3"
            ]
          }
        },
        {
          "output_type": "display_data",
          "data": {
            "image/png": "[encoded data removed]",
            "text/plain": [
              "<Figure size 440x400 with 1 Axes>"
            ]
          },
          "metadata": {
            "tags": [
              "id3_content_2",
              "outputarea_id3",
              "user_output"
            ]
          }
        },
        {
          "output_type": "display_data",
          "data": {
            "application/javascript": [
              "window[\"e7d91dfa-ecf3-11e9-bfaf-0242ac1c0002\"] = google.colab.output.setActiveOutputArea(window[\"e7adf83c-ecf3-11e9-bfaf-0242ac1c0002\"]);\n",
              "//# sourceURL=js_05395b36d2"
            ],
            "text/plain": [
              "<IPython.core.display.Javascript object>"
            ]
          },
          "metadata": {
            "tags": [
              "id3_content_2",
              "outputarea_id3"
            ]
          }
        },
        {
          "output_type": "display_data",
          "data": {
            "application/javascript": [
              "window[\"e7dd9344-ecf3-11e9-bfaf-0242ac1c0002\"] = google.colab.output.getActiveOutputArea();\n",
              "//# sourceURL=js_1337ee6e0a"
            ],
            "text/plain": [
              "<IPython.core.display.Javascript object>"
            ]
          },
          "metadata": {
            "tags": [
              "id3_content_3",
              "outputarea_id3"
            ]
          }
        },
        {
          "output_type": "display_data",
          "data": {
            "application/javascript": [
              "window[\"e7de0b1c-ecf3-11e9-bfaf-0242ac1c0002\"] = document.querySelector(\"#id3_content_3\");\n",
              "//# sourceURL=js_65a183500a"
            ],
            "text/plain": [
              "<IPython.core.display.Javascript object>"
            ]
          },
          "metadata": {
            "tags": [
              "id3_content_3",
              "outputarea_id3"
            ]
          }
        },
        {
          "output_type": "display_data",
          "data": {
            "application/javascript": [
              "window[\"e7dea59a-ecf3-11e9-bfaf-0242ac1c0002\"] = google.colab.output.setActiveOutputArea(window[\"e7de0b1c-ecf3-11e9-bfaf-0242ac1c0002\"]);\n",
              "//# sourceURL=js_1db4d9d89c"
            ],
            "text/plain": [
              "<IPython.core.display.Javascript object>"
            ]
          },
          "metadata": {
            "tags": [
              "id3_content_3",
              "outputarea_id3"
            ]
          }
        },
        {
          "output_type": "display_data",
          "data": {
            "image/png": "[encoded data removed]",
            "text/plain": [
              "<Figure size 440x400 with 1 Axes>"
            ]
          },
          "metadata": {
            "tags": [
              "id3_content_3",
              "outputarea_id3",
              "user_output"
            ]
          }
        },
        {
          "output_type": "display_data",
          "data": {
            "application/javascript": [
              "window[\"e8028884-ecf3-11e9-bfaf-0242ac1c0002\"] = google.colab.output.setActiveOutputArea(window[\"e7dd9344-ecf3-11e9-bfaf-0242ac1c0002\"]);\n",
              "//# sourceURL=js_c8ae233eb7"
            ],
            "text/plain": [
              "<IPython.core.display.Javascript object>"
            ]
          },
          "metadata": {
            "tags": [
              "id3_content_3",
              "outputarea_id3"
            ]
          }
        },
        {
          "output_type": "display_data",
          "data": {
            "application/javascript": [
              "window[\"e8057792-ecf3-11e9-bfaf-0242ac1c0002\"] = google.colab.output.getActiveOutputArea();\n",
              "//# sourceURL=js_33b4dbcf3c"
            ],
            "text/plain": [
              "<IPython.core.display.Javascript object>"
            ]
          },
          "metadata": {
            "tags": [
              "id3_content_4",
              "outputarea_id3"
            ]
          }
        },
        {
          "output_type": "display_data",
          "data": {
            "application/javascript": [
              "window[\"e805ba9a-ecf3-11e9-bfaf-0242ac1c0002\"] = document.querySelector(\"#id3_content_4\");\n",
              "//# sourceURL=js_5929b68199"
            ],
            "text/plain": [
              "<IPython.core.display.Javascript object>"
            ]
          },
          "metadata": {
            "tags": [
              "id3_content_4",
              "outputarea_id3"
            ]
          }
        },
        {
          "output_type": "display_data",
          "data": {
            "application/javascript": [
              "window[\"e8063574-ecf3-11e9-bfaf-0242ac1c0002\"] = google.colab.output.setActiveOutputArea(window[\"e805ba9a-ecf3-11e9-bfaf-0242ac1c0002\"]);\n",
              "//# sourceURL=js_4110cef17a"
            ],
            "text/plain": [
              "<IPython.core.display.Javascript object>"
            ]
          },
          "metadata": {
            "tags": [
              "id3_content_4",
              "outputarea_id3"
            ]
          }
        },
        {
          "output_type": "display_data",
          "data": {
            "image/png": "[encoded data removed]",
            "text/plain": [
              "<Figure size 440x400 with 1 Axes>"
            ]
          },
          "metadata": {
            "tags": [
              "id3_content_4",
              "outputarea_id3",
              "user_output"
            ]
          }
        },
        {
          "output_type": "display_data",
          "data": {
            "application/javascript": [
              "window[\"e8308b62-ecf3-11e9-bfaf-0242ac1c0002\"] = google.colab.output.setActiveOutputArea(window[\"e8057792-ecf3-11e9-bfaf-0242ac1c0002\"]);\n",
              "//# sourceURL=js_b5d8307f1e"
            ],
            "text/plain": [
              "<IPython.core.display.Javascript object>"
            ]
          },
          "metadata": {
            "tags": [
              "id3_content_4",
              "outputarea_id3"
            ]
          }
        },
        {
          "output_type": "display_data",
          "data": {
            "application/javascript": [
              "window[\"e8338484-ecf3-11e9-bfaf-0242ac1c0002\"] = google.colab.output.getActiveOutputArea();\n",
              "//# sourceURL=js_161a40f768"
            ],
            "text/plain": [
              "<IPython.core.display.Javascript object>"
            ]
          },
          "metadata": {
            "tags": [
              "id3_content_5",
              "outputarea_id3"
            ]
          }
        },
        {
          "output_type": "display_data",
          "data": {
            "application/javascript": [
              "window[\"e833e2b2-ecf3-11e9-bfaf-0242ac1c0002\"] = document.querySelector(\"#id3_content_5\");\n",
              "//# sourceURL=js_04cc5e8b98"
            ],
            "text/plain": [
              "<IPython.core.display.Javascript object>"
            ]
          },
          "metadata": {
            "tags": [
              "id3_content_5",
              "outputarea_id3"
            ]
          }
        },
        {
          "output_type": "display_data",
          "data": {
            "application/javascript": [
              "window[\"e83430e6-ecf3-11e9-bfaf-0242ac1c0002\"] = google.colab.output.setActiveOutputArea(window[\"e833e2b2-ecf3-11e9-bfaf-0242ac1c0002\"]);\n",
              "//# sourceURL=js_7e419bf61c"
            ],
            "text/plain": [
              "<IPython.core.display.Javascript object>"
            ]
          },
          "metadata": {
            "tags": [
              "id3_content_5",
              "outputarea_id3"
            ]
          }
        },
        {
          "output_type": "display_data",
          "data": {
            "image/png": "[encoded data removed]",
            "text/plain": [
              "<Figure size 440x400 with 1 Axes>"
            ]
          },
          "metadata": {
            "tags": [
              "id3_content_5",
              "outputarea_id3",
              "user_output"
            ]
          }
        },
        {
          "output_type": "display_data",
          "data": {
            "application/javascript": [
              "window[\"e85e879c-ecf3-11e9-bfaf-0242ac1c0002\"] = google.colab.output.setActiveOutputArea(window[\"e8338484-ecf3-11e9-bfaf-0242ac1c0002\"]);\n",
              "//# sourceURL=js_d8a1c2b497"
            ],
            "text/plain": [
              "<IPython.core.display.Javascript object>"
            ]
          },
          "metadata": {
            "tags": [
              "id3_content_5",
              "outputarea_id3"
            ]
          }
        },
        {
          "output_type": "display_data",
          "data": {
            "application/javascript": [
              "window[\"e861a12a-ecf3-11e9-bfaf-0242ac1c0002\"] = google.colab.output.getActiveOutputArea();\n",
              "//# sourceURL=js_9521ac0f4b"
            ],
            "text/plain": [
              "<IPython.core.display.Javascript object>"
            ]
          },
          "metadata": {
            "tags": [
              "id3_content_6",
              "outputarea_id3"
            ]
          }
        },
        {
          "output_type": "display_data",
          "data": {
            "application/javascript": [
              "window[\"e861ecac-ecf3-11e9-bfaf-0242ac1c0002\"] = document.querySelector(\"#id3_content_6\");\n",
              "//# sourceURL=js_c5e7b37cf5"
            ],
            "text/plain": [
              "<IPython.core.display.Javascript object>"
            ]
          },
          "metadata": {
            "tags": [
              "id3_content_6",
              "outputarea_id3"
            ]
          }
        },
        {
          "output_type": "display_data",
          "data": {
            "application/javascript": [
              "window[\"e8624f3a-ecf3-11e9-bfaf-0242ac1c0002\"] = google.colab.output.setActiveOutputArea(window[\"e861ecac-ecf3-11e9-bfaf-0242ac1c0002\"]);\n",
              "//# sourceURL=js_29d01b94bf"
            ],
            "text/plain": [
              "<IPython.core.display.Javascript object>"
            ]
          },
          "metadata": {
            "tags": [
              "id3_content_6",
              "outputarea_id3"
            ]
          }
        },
        {
          "output_type": "display_data",
          "data": {
            "image/png": "[encoded data removed]",
            "text/plain": [
              "<Figure size 440x400 with 1 Axes>"
            ]
          },
          "metadata": {
            "tags": [
              "id3_content_6",
              "outputarea_id3",
              "user_output"
            ]
          }
        },
        {
          "output_type": "display_data",
          "data": {
            "application/javascript": [
              "window[\"e88bbf00-ecf3-11e9-bfaf-0242ac1c0002\"] = google.colab.output.setActiveOutputArea(window[\"e861a12a-ecf3-11e9-bfaf-0242ac1c0002\"]);\n",
              "//# sourceURL=js_4c22f34b0a"
            ],
            "text/plain": [
              "<IPython.core.display.Javascript object>"
            ]
          },
          "metadata": {
            "tags": [
              "id3_content_6",
              "outputarea_id3"
            ]
          }
        },
        {
          "output_type": "display_data",
          "data": {
            "application/javascript": [
              "window[\"e88e4734-ecf3-11e9-bfaf-0242ac1c0002\"] = google.colab.output.getActiveOutputArea();\n",
              "//# sourceURL=js_1d27b55008"
            ],
            "text/plain": [
              "<IPython.core.display.Javascript object>"
            ]
          },
          "metadata": {
            "tags": [
              "id3_content_7",
              "outputarea_id3"
            ]
          }
        },
        {
          "output_type": "display_data",
          "data": {
            "application/javascript": [
              "window[\"e88e8fdc-ecf3-11e9-bfaf-0242ac1c0002\"] = document.querySelector(\"#id3_content_7\");\n",
              "//# sourceURL=js_548d0344e7"
            ],
            "text/plain": [
              "<IPython.core.display.Javascript object>"
            ]
          },
          "metadata": {
            "tags": [
              "id3_content_7",
              "outputarea_id3"
            ]
          }
        },
        {
          "output_type": "display_data",
          "data": {
            "application/javascript": [
              "window[\"e88ed988-ecf3-11e9-bfaf-0242ac1c0002\"] = google.colab.output.setActiveOutputArea(window[\"e88e8fdc-ecf3-11e9-bfaf-0242ac1c0002\"]);\n",
              "//# sourceURL=js_0cd4baec84"
            ],
            "text/plain": [
              "<IPython.core.display.Javascript object>"
            ]
          },
          "metadata": {
            "tags": [
              "id3_content_7",
              "outputarea_id3"
            ]
          }
        },
        {
          "output_type": "display_data",
          "data": {
            "image/png": "[encoded data removed]",
            "text/plain": [
              "<Figure size 440x400 with 1 Axes>"
            ]
          },
          "metadata": {
            "tags": [
              "id3_content_7",
              "outputarea_id3",
              "user_output"
            ]
          }
        },
        {
          "output_type": "display_data",
          "data": {
            "application/javascript": [
              "window[\"e8b76308-ecf3-11e9-bfaf-0242ac1c0002\"] = google.colab.output.setActiveOutputArea(window[\"e88e4734-ecf3-11e9-bfaf-0242ac1c0002\"]);\n",
              "//# sourceURL=js_91214f1af3"
            ],
            "text/plain": [
              "<IPython.core.display.Javascript object>"
            ]
          },
          "metadata": {
            "tags": [
              "id3_content_7",
              "outputarea_id3"
            ]
          }
        },
        {
          "output_type": "display_data",
          "data": {
            "application/javascript": [
              "window[\"e8bbb8fe-ecf3-11e9-bfaf-0242ac1c0002\"] = google.colab.output.getActiveOutputArea();\n",
              "//# sourceURL=js_35beeb7649"
            ],
            "text/plain": [
              "<IPython.core.display.Javascript object>"
            ]
          },
          "metadata": {
            "tags": [
              "id3_content_8",
              "outputarea_id3"
            ]
          }
        },
        {
          "output_type": "display_data",
          "data": {
            "application/javascript": [
              "window[\"e8bc87f2-ecf3-11e9-bfaf-0242ac1c0002\"] = document.querySelector(\"#id3_content_8\");\n",
              "//# sourceURL=js_075f5c9bdc"
            ],
            "text/plain": [
              "<IPython.core.display.Javascript object>"
            ]
          },
          "metadata": {
            "tags": [
              "id3_content_8",
              "outputarea_id3"
            ]
          }
        },
        {
          "output_type": "display_data",
          "data": {
            "application/javascript": [
              "window[\"e8bcdb76-ecf3-11e9-bfaf-0242ac1c0002\"] = google.colab.output.setActiveOutputArea(window[\"e8bc87f2-ecf3-11e9-bfaf-0242ac1c0002\"]);\n",
              "//# sourceURL=js_c359b08a76"
            ],
            "text/plain": [
              "<IPython.core.display.Javascript object>"
            ]
          },
          "metadata": {
            "tags": [
              "id3_content_8",
              "outputarea_id3"
            ]
          }
        },
        {
          "output_type": "display_data",
          "data": {
            "image/png": "[encoded data removed]",
            "text/plain": [
              "<Figure size 440x400 with 1 Axes>"
            ]
          },
          "metadata": {
            "tags": [
              "id3_content_8",
              "outputarea_id3",
              "user_output"
            ]
          }
        },
        {
          "output_type": "display_data",
          "data": {
            "application/javascript": [
              "window[\"e8f0be32-ecf3-11e9-bfaf-0242ac1c0002\"] = google.colab.output.setActiveOutputArea(window[\"e8bbb8fe-ecf3-11e9-bfaf-0242ac1c0002\"]);\n",
              "//# sourceURL=js_daf5ba55bc"
            ],
            "text/plain": [
              "<IPython.core.display.Javascript object>"
            ]
          },
          "metadata": {
            "tags": [
              "id3_content_8",
              "outputarea_id3"
            ]
          }
        },
        {
          "output_type": "display_data",
          "data": {
            "application/javascript": [
              "window[\"e8f2f6e8-ecf3-11e9-bfaf-0242ac1c0002\"] = google.colab.output.getActiveOutputArea();\n",
              "//# sourceURL=js_3837978155"
            ],
            "text/plain": [
              "<IPython.core.display.Javascript object>"
            ]
          },
          "metadata": {
            "tags": [
              "id3_content_9",
              "outputarea_id3"
            ]
          }
        },
        {
          "output_type": "display_data",
          "data": {
            "application/javascript": [
              "window[\"e8f344b8-ecf3-11e9-bfaf-0242ac1c0002\"] = document.querySelector(\"#id3_content_9\");\n",
              "//# sourceURL=js_2799560f81"
            ],
            "text/plain": [
              "<IPython.core.display.Javascript object>"
            ]
          },
          "metadata": {
            "tags": [
              "id3_content_9",
              "outputarea_id3"
            ]
          }
        },
        {
          "output_type": "display_data",
          "data": {
            "application/javascript": [
              "window[\"e8f38f4a-ecf3-11e9-bfaf-0242ac1c0002\"] = google.colab.output.setActiveOutputArea(window[\"e8f344b8-ecf3-11e9-bfaf-0242ac1c0002\"]);\n",
              "//# sourceURL=js_22e7a8f341"
            ],
            "text/plain": [
              "<IPython.core.display.Javascript object>"
            ]
          },
          "metadata": {
            "tags": [
              "id3_content_9",
              "outputarea_id3"
            ]
          }
        },
        {
          "output_type": "display_data",
          "data": {
            "image/png": "[encoded data removed]",
            "text/plain": [
              "<Figure size 440x400 with 1 Axes>"
            ]
          },
          "metadata": {
            "tags": [
              "id3_content_9",
              "outputarea_id3",
              "user_output"
            ]
          }
        },
        {
          "output_type": "display_data",
          "data": {
            "application/javascript": [
              "window[\"e91e0108-ecf3-11e9-bfaf-0242ac1c0002\"] = google.colab.output.setActiveOutputArea(window[\"e8f2f6e8-ecf3-11e9-bfaf-0242ac1c0002\"]);\n",
              "//# sourceURL=js_64542e5336"
            ],
            "text/plain": [
              "<IPython.core.display.Javascript object>"
            ]
          },
          "metadata": {
            "tags": [
              "id3_content_9",
              "outputarea_id3"
            ]
          }
        },
        {
          "output_type": "display_data",
          "data": {
            "application/javascript": [
              "window[\"e9219f52-ecf3-11e9-bfaf-0242ac1c0002\"] = google.colab.output.getActiveOutputArea();\n",
              "//# sourceURL=js_a37288a410"
            ],
            "text/plain": [
              "<IPython.core.display.Javascript object>"
            ]
          },
          "metadata": {
            "tags": [
              "id3_content_10",
              "outputarea_id3"
            ]
          }
        },
        {
          "output_type": "display_data",
          "data": {
            "application/javascript": [
              "window[\"e921df4e-ecf3-11e9-bfaf-0242ac1c0002\"] = document.querySelector(\"#id3_content_10\");\n",
              "//# sourceURL=js_b27809293c"
            ],
            "text/plain": [
              "<IPython.core.display.Javascript object>"
            ]
          },
          "metadata": {
            "tags": [
              "id3_content_10",
              "outputarea_id3"
            ]
          }
        },
        {
          "output_type": "display_data",
          "data": {
            "application/javascript": [
              "window[\"e92216c6-ecf3-11e9-bfaf-0242ac1c0002\"] = google.colab.output.setActiveOutputArea(window[\"e921df4e-ecf3-11e9-bfaf-0242ac1c0002\"]);\n",
              "//# sourceURL=js_89b9b32bba"
            ],
            "text/plain": [
              "<IPython.core.display.Javascript object>"
            ]
          },
          "metadata": {
            "tags": [
              "id3_content_10",
              "outputarea_id3"
            ]
          }
        },
        {
          "output_type": "display_data",
          "data": {
            "image/png": "[encoded data removed]",
            "text/plain": [
              "<Figure size 440x400 with 1 Axes>"
            ]
          },
          "metadata": {
            "tags": [
              "id3_content_10",
              "outputarea_id3",
              "user_output"
            ]
          }
        },
        {
          "output_type": "display_data",
          "data": {
            "application/javascript": [
              "window[\"e94e30ee-ecf3-11e9-bfaf-0242ac1c0002\"] = google.colab.output.setActiveOutputArea(window[\"e9219f52-ecf3-11e9-bfaf-0242ac1c0002\"]);\n",
              "//# sourceURL=js_034e731b29"
            ],
            "text/plain": [
              "<IPython.core.display.Javascript object>"
            ]
          },
          "metadata": {
            "tags": [
              "id3_content_10",
              "outputarea_id3"
            ]
          }
        },
        {
          "output_type": "display_data",
          "data": {
            "application/javascript": [
              "window[\"e950d43e-ecf3-11e9-bfaf-0242ac1c0002\"] = google.colab.output.getActiveOutputArea();\n",
              "//# sourceURL=js_11b80c4010"
            ],
            "text/plain": [
              "<IPython.core.display.Javascript object>"
            ]
          },
          "metadata": {
            "tags": [
              "id3_content_11",
              "outputarea_id3"
            ]
          }
        },
        {
          "output_type": "display_data",
          "data": {
            "application/javascript": [
              "window[\"e951198a-ecf3-11e9-bfaf-0242ac1c0002\"] = document.querySelector(\"#id3_content_11\");\n",
              "//# sourceURL=js_0569f659ba"
            ],
            "text/plain": [
              "<IPython.core.display.Javascript object>"
            ]
          },
          "metadata": {
            "tags": [
              "id3_content_11",
              "outputarea_id3"
            ]
          }
        },
        {
          "output_type": "display_data",
          "data": {
            "application/javascript": [
              "window[\"e9516778-ecf3-11e9-bfaf-0242ac1c0002\"] = google.colab.output.setActiveOutputArea(window[\"e951198a-ecf3-11e9-bfaf-0242ac1c0002\"]);\n",
              "//# sourceURL=js_8b32870589"
            ],
            "text/plain": [
              "<IPython.core.display.Javascript object>"
            ]
          },
          "metadata": {
            "tags": [
              "id3_content_11",
              "outputarea_id3"
            ]
          }
        },
        {
          "output_type": "display_data",
          "data": {
            "image/png": "[encoded data removed]",
            "text/plain": [
              "<Figure size 440x400 with 1 Axes>"
            ]
          },
          "metadata": {
            "tags": [
              "id3_content_11",
              "outputarea_id3",
              "user_output"
            ]
          }
        },
        {
          "output_type": "display_data",
          "data": {
            "application/javascript": [
              "window[\"e97dea46-ecf3-11e9-bfaf-0242ac1c0002\"] = google.colab.output.setActiveOutputArea(window[\"e950d43e-ecf3-11e9-bfaf-0242ac1c0002\"]);\n",
              "//# sourceURL=js_4cb343606b"
            ],
            "text/plain": [
              "<IPython.core.display.Javascript object>"
            ]
          },
          "metadata": {
            "tags": [
              "id3_content_11",
              "outputarea_id3"
            ]
          }
        },
        {
          "output_type": "display_data",
          "data": {
            "application/javascript": [
              "window[\"e980a90c-ecf3-11e9-bfaf-0242ac1c0002\"] = google.colab.output.getActiveOutputArea();\n",
              "//# sourceURL=js_8d19aa773a"
            ],
            "text/plain": [
              "<IPython.core.display.Javascript object>"
            ]
          },
          "metadata": {
            "tags": [
              "id3_content_12",
              "outputarea_id3"
            ]
          }
        },
        {
          "output_type": "display_data",
          "data": {
            "application/javascript": [
              "window[\"e980f97a-ecf3-11e9-bfaf-0242ac1c0002\"] = document.querySelector(\"#id3_content_12\");\n",
              "//# sourceURL=js_717bea746d"
            ],
            "text/plain": [
              "<IPython.core.display.Javascript object>"
            ]
          },
          "metadata": {
            "tags": [
              "id3_content_12",
              "outputarea_id3"
            ]
          }
        },
        {
          "output_type": "display_data",
          "data": {
            "application/javascript": [
              "window[\"e9814286-ecf3-11e9-bfaf-0242ac1c0002\"] = google.colab.output.setActiveOutputArea(window[\"e980f97a-ecf3-11e9-bfaf-0242ac1c0002\"]);\n",
              "//# sourceURL=js_a76b111d51"
            ],
            "text/plain": [
              "<IPython.core.display.Javascript object>"
            ]
          },
          "metadata": {
            "tags": [
              "id3_content_12",
              "outputarea_id3"
            ]
          }
        },
        {
          "output_type": "display_data",
          "data": {
            "image/png": "[encoded data removed]",
            "text/plain": [
              "<Figure size 440x400 with 1 Axes>"
            ]
          },
          "metadata": {
            "tags": [
              "id3_content_12",
              "outputarea_id3",
              "user_output"
            ]
          }
        },
        {
          "output_type": "display_data",
          "data": {
            "application/javascript": [
              "window[\"e9adc02c-ecf3-11e9-bfaf-0242ac1c0002\"] = google.colab.output.setActiveOutputArea(window[\"e980a90c-ecf3-11e9-bfaf-0242ac1c0002\"]);\n",
              "//# sourceURL=js_8bd11638c2"
            ],
            "text/plain": [
              "<IPython.core.display.Javascript object>"
            ]
          },
          "metadata": {
            "tags": [
              "id3_content_12",
              "outputarea_id3"
            ]
          }
        },
        {
          "output_type": "display_data",
          "data": {
            "application/javascript": [
              "window[\"e9b08ee2-ecf3-11e9-bfaf-0242ac1c0002\"] = google.colab.output.getActiveOutputArea();\n",
              "//# sourceURL=js_373f77e90a"
            ],
            "text/plain": [
              "<IPython.core.display.Javascript object>"
            ]
          },
          "metadata": {
            "tags": [
              "id3_content_13",
              "outputarea_id3"
            ]
          }
        },
        {
          "output_type": "display_data",
          "data": {
            "application/javascript": [
              "window[\"e9b0d834-ecf3-11e9-bfaf-0242ac1c0002\"] = document.querySelector(\"#id3_content_13\");\n",
              "//# sourceURL=js_8f90a92d11"
            ],
            "text/plain": [
              "<IPython.core.display.Javascript object>"
            ]
          },
          "metadata": {
            "tags": [
              "id3_content_13",
              "outputarea_id3"
            ]
          }
        },
        {
          "output_type": "display_data",
          "data": {
            "application/javascript": [
              "window[\"e9b114f2-ecf3-11e9-bfaf-0242ac1c0002\"] = google.colab.output.setActiveOutputArea(window[\"e9b0d834-ecf3-11e9-bfaf-0242ac1c0002\"]);\n",
              "//# sourceURL=js_02483b4a3d"
            ],
            "text/plain": [
              "<IPython.core.display.Javascript object>"
            ]
          },
          "metadata": {
            "tags": [
              "id3_content_13",
              "outputarea_id3"
            ]
          }
        },
        {
          "output_type": "display_data",
          "data": {
            "image/png": "[encoded data removed]",
            "text/plain": [
              "<Figure size 440x400 with 1 Axes>"
            ]
          },
          "metadata": {
            "tags": [
              "id3_content_13",
              "outputarea_id3",
              "user_output"
            ]
          }
        },
        {
          "output_type": "display_data",
          "data": {
            "application/javascript": [
              "window[\"e9dc9cbc-ecf3-11e9-bfaf-0242ac1c0002\"] = google.colab.output.setActiveOutputArea(window[\"e9b08ee2-ecf3-11e9-bfaf-0242ac1c0002\"]);\n",
              "//# sourceURL=js_7fd2c75ad0"
            ],
            "text/plain": [
              "<IPython.core.display.Javascript object>"
            ]
          },
          "metadata": {
            "tags": [
              "id3_content_13",
              "outputarea_id3"
            ]
          }
        },
        {
          "output_type": "display_data",
          "data": {
            "application/javascript": [
              "window[\"e9df9336-ecf3-11e9-bfaf-0242ac1c0002\"] = google.colab.output.getActiveOutputArea();\n",
              "//# sourceURL=js_783a0cb040"
            ],
            "text/plain": [
              "<IPython.core.display.Javascript object>"
            ]
          },
          "metadata": {
            "tags": [
              "id3_content_14",
              "outputarea_id3"
            ]
          }
        },
        {
          "output_type": "display_data",
          "data": {
            "application/javascript": [
              "window[\"e9dfdd78-ecf3-11e9-bfaf-0242ac1c0002\"] = document.querySelector(\"#id3_content_14\");\n",
              "//# sourceURL=js_7cb6602573"
            ],
            "text/plain": [
              "<IPython.core.display.Javascript object>"
            ]
          },
          "metadata": {
            "tags": [
              "id3_content_14",
              "outputarea_id3"
            ]
          }
        },
        {
          "output_type": "display_data",
          "data": {
            "application/javascript": [
              "window[\"e9e025f8-ecf3-11e9-bfaf-0242ac1c0002\"] = google.colab.output.setActiveOutputArea(window[\"e9dfdd78-ecf3-11e9-bfaf-0242ac1c0002\"]);\n",
              "//# sourceURL=js_659c6cf15d"
            ],
            "text/plain": [
              "<IPython.core.display.Javascript object>"
            ]
          },
          "metadata": {
            "tags": [
              "id3_content_14",
              "outputarea_id3"
            ]
          }
        },
        {
          "output_type": "display_data",
          "data": {
            "image/png": "[encoded data removed]",
            "text/plain": [
              "<Figure size 440x400 with 1 Axes>"
            ]
          },
          "metadata": {
            "tags": [
              "id3_content_14",
              "outputarea_id3",
              "user_output"
            ]
          }
        },
        {
          "output_type": "display_data",
          "data": {
            "application/javascript": [
              "window[\"ea0c7310-ecf3-11e9-bfaf-0242ac1c0002\"] = google.colab.output.setActiveOutputArea(window[\"e9df9336-ecf3-11e9-bfaf-0242ac1c0002\"]);\n",
              "//# sourceURL=js_c9563eca9b"
            ],
            "text/plain": [
              "<IPython.core.display.Javascript object>"
            ]
          },
          "metadata": {
            "tags": [
              "id3_content_14",
              "outputarea_id3"
            ]
          }
        },
        {
          "output_type": "display_data",
          "data": {
            "application/javascript": [
              "window[\"ea0fa490-ecf3-11e9-bfaf-0242ac1c0002\"] = google.colab.output.getActiveOutputArea();\n",
              "//# sourceURL=js_1b5afb4bc3"
            ],
            "text/plain": [
              "<IPython.core.display.Javascript object>"
            ]
          },
          "metadata": {
            "tags": [
              "id3_content_15",
              "outputarea_id3"
            ]
          }
        },
        {
          "output_type": "display_data",
          "data": {
            "application/javascript": [
              "window[\"ea0ff0a8-ecf3-11e9-bfaf-0242ac1c0002\"] = document.querySelector(\"#id3_content_15\");\n",
              "//# sourceURL=js_b412f093b5"
            ],
            "text/plain": [
              "<IPython.core.display.Javascript object>"
            ]
          },
          "metadata": {
            "tags": [
              "id3_content_15",
              "outputarea_id3"
            ]
          }
        },
        {
          "output_type": "display_data",
          "data": {
            "application/javascript": [
              "window[\"ea1035a4-ecf3-11e9-bfaf-0242ac1c0002\"] = google.colab.output.setActiveOutputArea(window[\"ea0ff0a8-ecf3-11e9-bfaf-0242ac1c0002\"]);\n",
              "//# sourceURL=js_7dfc492d55"
            ],
            "text/plain": [
              "<IPython.core.display.Javascript object>"
            ]
          },
          "metadata": {
            "tags": [
              "id3_content_15",
              "outputarea_id3"
            ]
          }
        },
        {
          "output_type": "display_data",
          "data": {
            "image/png": "[encoded data removed]",
            "text/plain": [
              "<Figure size 440x400 with 1 Axes>"
            ]
          },
          "metadata": {
            "tags": [
              "id3_content_15",
              "outputarea_id3",
              "user_output"
            ]
          }
        },
        {
          "output_type": "display_data",
          "data": {
            "application/javascript": [
              "window[\"ea3d3ee6-ecf3-11e9-bfaf-0242ac1c0002\"] = google.colab.output.setActiveOutputArea(window[\"ea0fa490-ecf3-11e9-bfaf-0242ac1c0002\"]);\n",
              "//# sourceURL=js_b890a76705"
            ],
            "text/plain": [
              "<IPython.core.display.Javascript object>"
            ]
          },
          "metadata": {
            "tags": [
              "id3_content_15",
              "outputarea_id3"
            ]
          }
        },
        {
          "output_type": "display_data",
          "data": {
            "application/javascript": [
              "window[\"ea406f08-ecf3-11e9-bfaf-0242ac1c0002\"] = google.colab.output.getActiveOutputArea();\n",
              "//# sourceURL=js_2c67326175"
            ],
            "text/plain": [
              "<IPython.core.display.Javascript object>"
            ]
          },
          "metadata": {
            "tags": [
              "id3_content_16",
              "outputarea_id3"
            ]
          }
        },
        {
          "output_type": "display_data",
          "data": {
            "application/javascript": [
              "window[\"ea40b8dc-ecf3-11e9-bfaf-0242ac1c0002\"] = document.querySelector(\"#id3_content_16\");\n",
              "//# sourceURL=js_e9fa99464f"
            ],
            "text/plain": [
              "<IPython.core.display.Javascript object>"
            ]
          },
          "metadata": {
            "tags": [
              "id3_content_16",
              "outputarea_id3"
            ]
          }
        },
        {
          "output_type": "display_data",
          "data": {
            "application/javascript": [
              "window[\"ea40f504-ecf3-11e9-bfaf-0242ac1c0002\"] = google.colab.output.setActiveOutputArea(window[\"ea40b8dc-ecf3-11e9-bfaf-0242ac1c0002\"]);\n",
              "//# sourceURL=js_a0a061c2dc"
            ],
            "text/plain": [
              "<IPython.core.display.Javascript object>"
            ]
          },
          "metadata": {
            "tags": [
              "id3_content_16",
              "outputarea_id3"
            ]
          }
        },
        {
          "output_type": "display_data",
          "data": {
            "image/png": "[encoded data removed]",
            "text/plain": [
              "<Figure size 440x400 with 1 Axes>"
            ]
          },
          "metadata": {
            "tags": [
              "id3_content_16",
              "outputarea_id3",
              "user_output"
            ]
          }
        },
        {
          "output_type": "display_data",
          "data": {
            "application/javascript": [
              "window[\"ea6d7f70-ecf3-11e9-bfaf-0242ac1c0002\"] = google.colab.output.setActiveOutputArea(window[\"ea406f08-ecf3-11e9-bfaf-0242ac1c0002\"]);\n",
              "//# sourceURL=js_b8d7f6485d"
            ],
            "text/plain": [
              "<IPython.core.display.Javascript object>"
            ]
          },
          "metadata": {
            "tags": [
              "id3_content_16",
              "outputarea_id3"
            ]
          }
        },
        {
          "output_type": "display_data",
          "data": {
            "application/javascript": [
              "window[\"ea70bfc8-ecf3-11e9-bfaf-0242ac1c0002\"] = google.colab.output.getActiveOutputArea();\n",
              "//# sourceURL=js_9d20bbffd7"
            ],
            "text/plain": [
              "<IPython.core.display.Javascript object>"
            ]
          },
          "metadata": {
            "tags": [
              "id3_content_17",
              "outputarea_id3"
            ]
          }
        },
        {
          "output_type": "display_data",
          "data": {
            "application/javascript": [
              "window[\"ea7106f4-ecf3-11e9-bfaf-0242ac1c0002\"] = document.querySelector(\"#id3_content_17\");\n",
              "//# sourceURL=js_dc04a5af24"
            ],
            "text/plain": [
              "<IPython.core.display.Javascript object>"
            ]
          },
          "metadata": {
            "tags": [
              "id3_content_17",
              "outputarea_id3"
            ]
          }
        },
        {
          "output_type": "display_data",
          "data": {
            "application/javascript": [
              "window[\"ea714b3c-ecf3-11e9-bfaf-0242ac1c0002\"] = google.colab.output.setActiveOutputArea(window[\"ea7106f4-ecf3-11e9-bfaf-0242ac1c0002\"]);\n",
              "//# sourceURL=js_d00c103199"
            ],
            "text/plain": [
              "<IPython.core.display.Javascript object>"
            ]
          },
          "metadata": {
            "tags": [
              "id3_content_17",
              "outputarea_id3"
            ]
          }
        },
        {
          "output_type": "display_data",
          "data": {
            "image/png": "[encoded data removed]",
            "text/plain": [
              "<Figure size 440x400 with 1 Axes>"
            ]
          },
          "metadata": {
            "tags": [
              "id3_content_17",
              "outputarea_id3",
              "user_output"
            ]
          }
        },
        {
          "output_type": "display_data",
          "data": {
            "application/javascript": [
              "window[\"ea9c075a-ecf3-11e9-bfaf-0242ac1c0002\"] = google.colab.output.setActiveOutputArea(window[\"ea70bfc8-ecf3-11e9-bfaf-0242ac1c0002\"]);\n",
              "//# sourceURL=js_7552e5f2ec"
            ],
            "text/plain": [
              "<IPython.core.display.Javascript object>"
            ]
          },
          "metadata": {
            "tags": [
              "id3_content_17",
              "outputarea_id3"
            ]
          }
        },
        {
          "output_type": "display_data",
          "data": {
            "application/javascript": [
              "window[\"ea9f7e94-ecf3-11e9-bfaf-0242ac1c0002\"] = google.colab.output.getActiveOutputArea();\n",
              "//# sourceURL=js_27d5613ee9"
            ],
            "text/plain": [
              "<IPython.core.display.Javascript object>"
            ]
          },
          "metadata": {
            "tags": [
              "id3_content_18",
              "outputarea_id3"
            ]
          }
        },
        {
          "output_type": "display_data",
          "data": {
            "application/javascript": [
              "window[\"ea9fc156-ecf3-11e9-bfaf-0242ac1c0002\"] = document.querySelector(\"#id3_content_18\");\n",
              "//# sourceURL=js_131ad63115"
            ],
            "text/plain": [
              "<IPython.core.display.Javascript object>"
            ]
          },
          "metadata": {
            "tags": [
              "id3_content_18",
              "outputarea_id3"
            ]
          }
        },
        {
          "output_type": "display_data",
          "data": {
            "application/javascript": [
              "window[\"eaa003c8-ecf3-11e9-bfaf-0242ac1c0002\"] = google.colab.output.setActiveOutputArea(window[\"ea9fc156-ecf3-11e9-bfaf-0242ac1c0002\"]);\n",
              "//# sourceURL=js_76bcf793f1"
            ],
            "text/plain": [
              "<IPython.core.display.Javascript object>"
            ]
          },
          "metadata": {
            "tags": [
              "id3_content_18",
              "outputarea_id3"
            ]
          }
        },
        {
          "output_type": "display_data",
          "data": {
            "image/png": "[encoded data removed]",
            "text/plain": [
              "<Figure size 440x400 with 1 Axes>"
            ]
          },
          "metadata": {
            "tags": [
              "id3_content_18",
              "outputarea_id3",
              "user_output"
            ]
          }
        },
        {
          "output_type": "display_data",
          "data": {
            "application/javascript": [
              "window[\"eac9859a-ecf3-11e9-bfaf-0242ac1c0002\"] = google.colab.output.setActiveOutputArea(window[\"ea9f7e94-ecf3-11e9-bfaf-0242ac1c0002\"]);\n",
              "//# sourceURL=js_ac35ee94b2"
            ],
            "text/plain": [
              "<IPython.core.display.Javascript object>"
            ]
          },
          "metadata": {
            "tags": [
              "id3_content_18",
              "outputarea_id3"
            ]
          }
        },
        {
          "output_type": "display_data",
          "data": {
            "application/javascript": [
              "window[\"eacd39a6-ecf3-11e9-bfaf-0242ac1c0002\"] = google.colab.output.getActiveOutputArea();\n",
              "//# sourceURL=js_4048797f0f"
            ],
            "text/plain": [
              "<IPython.core.display.Javascript object>"
            ]
          },
          "metadata": {
            "tags": [
              "id3_content_19",
              "outputarea_id3"
            ]
          }
        },
        {
          "output_type": "display_data",
          "data": {
            "application/javascript": [
              "window[\"eacd891a-ecf3-11e9-bfaf-0242ac1c0002\"] = document.querySelector(\"#id3_content_19\");\n",
              "//# sourceURL=js_84943a1850"
            ],
            "text/plain": [
              "<IPython.core.display.Javascript object>"
            ]
          },
          "metadata": {
            "tags": [
              "id3_content_19",
              "outputarea_id3"
            ]
          }
        },
        {
          "output_type": "display_data",
          "data": {
            "application/javascript": [
              "window[\"eacdc4ca-ecf3-11e9-bfaf-0242ac1c0002\"] = google.colab.output.setActiveOutputArea(window[\"eacd891a-ecf3-11e9-bfaf-0242ac1c0002\"]);\n",
              "//# sourceURL=js_a1e691fe64"
            ],
            "text/plain": [
              "<IPython.core.display.Javascript object>"
            ]
          },
          "metadata": {
            "tags": [
              "id3_content_19",
              "outputarea_id3"
            ]
          }
        },
        {
          "output_type": "display_data",
          "data": {
            "image/png": "[encoded data removed]",
            "text/plain": [
              "<Figure size 440x400 with 1 Axes>"
            ]
          },
          "metadata": {
            "tags": [
              "id3_content_19",
              "outputarea_id3",
              "user_output"
            ]
          }
        },
        {
          "output_type": "display_data",
          "data": {
            "application/javascript": [
              "window[\"eaf7333c-ecf3-11e9-bfaf-0242ac1c0002\"] = google.colab.output.setActiveOutputArea(window[\"eacd39a6-ecf3-11e9-bfaf-0242ac1c0002\"]);\n",
              "//# sourceURL=js_68431f66ec"
            ],
            "text/plain": [
              "<IPython.core.display.Javascript object>"
            ]
          },
          "metadata": {
            "tags": [
              "id3_content_19",
              "outputarea_id3"
            ]
          }
        }
      ]
    },
    {
      "cell_type": "code",
      "metadata": {
        "id": "yNTGfmgX8-UO",
        "colab_type": "code",
        "colab": {}
      },
      "source": [
        ""
      ],
      "execution_count": 0,
      "outputs": []
    }
  ]
}