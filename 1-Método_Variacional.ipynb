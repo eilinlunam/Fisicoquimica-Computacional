{
 "cells": [
  {
   "cell_type": "markdown",
   "metadata": {
    "colab_type": "text",
    "id": "view-in-github"
   },
   "source": [
    "<a href=\"https://colab.research.google.com/github/eilinluna16/Fisicoquimica-Computacional/blob/master/Tarea_1_M%C3%A9todo_Variacional.ipynb\" target=\"_parent\"><img src=\"https://colab.research.google.com/assets/colab-badge.svg\" alt=\"Open In Colab\"/></a>"
   ]
  },
  {
   "cell_type": "markdown",
   "metadata": {
    "colab_type": "text",
    "id": "bUwvPUR1lCIa"
   },
   "source": [
    "# Método Variacional"
   ]
  },
  {
   "cell_type": "markdown",
   "metadata": {
    "colab_type": "text",
    "id": "NApO_iQTlCIq"
   },
   "source": [
    "La solución analítica exacta de la ecuación de Schrödinger es posible en pocos casos. Incluso, la solución numérica directa por integración a menudo no es factible en la práctica, especialmente en sistemas con más de una partícula. Sin embargo, existen métodos aproximados extremadamente útiles que, en muchos casos, pueden reducir el problema a uno mucho más simple. A continuación se considera el método variacional el cual constituye, junto con aproximaciones adecuadas para las interacciones electrón-electrón, la base para la mayoría de los enfoques prácticos para la solución de la ecuación de Schrödinger en la física de la materia condensada tales como Partículas en una caja (PIB), Oscilador armónico (HO), Rotor rígido (RR) y el átomo de hidrógeno.\n",
    "\n",
    "El método variacional es una forma de encontrar aproximaciones al estado propio o estado más bajo de energía y algunos estados excitados de baja altitud. Esto permite calcular funciones de onda aproximadas, como los orbitales moleculares. La base de este método es el principio variacional, el cuál afirma que la energía de una funcion de prueba es una cota superior a la energía exacta del sistema: \n",
    "\n",
    "$$ E_\\phi = \\frac{\\int \\phi^* H \\phi d\\tau}{\\int \\phi^* \\phi d\\tau} \\geq E_0 $$\n",
    "\n",
    "\n",
    "El método consiste en elegir una \"función de onda de prueba\" en función de uno o más parámetros, y encontrar los valores de estos para los cuales la energía es la más baja posible. La función de onda obtenida al fijar los parámetros a dichos valores es entonces, una aproximación a la función de onda del estado fundamental (el estado de equilibrio de energía más bajo),  y el valor de expectativa de la energía en ese estado es un límite superior a la energía del estado fundamental."
   ]
  },
  {
   "cell_type": "markdown",
   "metadata": {
    "colab_type": "text",
    "id": "cuRofu8XlCIu"
   },
   "source": [
    "## El átomo de hidrógeno"
   ]
  },
  {
   "cell_type": "markdown",
   "metadata": {
    "colab_type": "text",
    "id": "gIj-ZW_4lCIw"
   },
   "source": [
    "Dado que el átomo de hidrógeno contiene un núcleo y un electrón, la mecánica cuántica permite predecir la probabilidad de encontrar el electrón a cualquier distancia radial dada. Está dada por el cuadrado de la *función de onda*, que es una solución de la ecuación de Schrödinger. La función de onda del estado fundamental se conoce como la función de onda $1s$.\n",
    "\n",
    "La función de onda puede ser separada en parámetros angulares y radiales. Por lo tanto, la función de onda radial, R(r), satisface la ecuación de Schrödinger radial:\n",
    "\n",
    "$$ - \\frac{\\hbar^2}{2 \\mu} \\left( \\frac {d^2 R(r)}{dr^2} + \\frac{2}{r} \\frac{d R(r)}{dr}  \\right) + \\frac{l(l+1)\\hbar^2}{2 \\mu ^2} R(r) - \\frac {Z e^2}{4 \\pi \\epsilon_0 r } R(r) = E R(r)$$\n",
    "\n",
    "Donde $r$ es la distancia radial desde el núcleo (va desde cero a infinito) y $l$ es el número cuántico angular. La masa reducida del sistema protón-electrón, $\\mu$, es aproximadamente igual a la masa del electrón $m_e$, así que, para simplificar, se establece en las soluciones posteriores. Para el átomo de hidrógeno, Z=1.\n",
    "\n",
    "La solución o función variacional, $\\Psi(r)$ debe satisfacer las condiciones de frontera del problema, específicamente $\\Psi(r=\\infty)=0$  y  $\\Psi(r=0)\\ es\\ finito$ (Este podría ser cero, o diferente de cero). ¿Qué tipo de funciones podría ser esta?. Una función exponencial de $r$ podría tener la forma correcta siempre y cuando el exponencial solo tenga valores negativos. Así, una función de prueba razonable podría ser:\n",
    "\n",
    "$$ \\Psi(r) \\approx e^{-\\alpha r / a_0}$$\n",
    "\n",
    "Donde $\\alpha$ es el parámetro variacional y $a_0=\\frac{4 \\pi \\epsilon_0 \\hbar^2}{m_e^2}$ es el radio de Bohr."
   ]
  },
  {
   "cell_type": "markdown",
   "metadata": {
    "colab_type": "text",
    "id": "WQViGViylCJV"
   },
   "source": [
    "### Implementación en Python"
   ]
  },
  {
   "cell_type": "markdown",
   "metadata": {
    "colab_type": "text",
    "id": "_hHWDiuUlCJm"
   },
   "source": [
    "Ahora, se implementará una solución variacional usando esta función para el átomo de Hidrógeno ($Z=1$) con el número cuántico angular $l=0$. Se trabajarán con unidades atómicas donde, $\\hbar=1$ , $m_e=1$, y $4 \\pi \\epsilon_0 = 1 $ y conociendo estos datos se descartarán en el algoritmo. De modo que:\n",
    "\n",
    "$$ \\hat{H} = - \\frac{1}{2 \\mu} \\left( \\frac{d^2}{dr^2} + \\frac{2}{r} \\frac{d}{dr} \\right)+ \\frac{l(l+l)}{2 \\mu^2} - \\frac{Z}{r} $$\n"
   ]
  },
  {
   "cell_type": "code",
   "execution_count": 0,
   "metadata": {
    "colab": {},
    "colab_type": "code",
    "id": "iuV9BsNqlCJx"
   },
   "outputs": [],
   "source": [
    "from sympy import *\n",
    "init_printing(use_unicode=True)"
   ]
  },
  {
   "cell_type": "code",
   "execution_count": 0,
   "metadata": {
    "colab": {},
    "colab_type": "code",
    "id": "Rvqn1zwAlCKT"
   },
   "outputs": [],
   "source": [
    "mu = 1.0  # Masa reducida\n",
    "l = 0.0 # Numero cuantico angular\n",
    "Z = 1.0 # Masa atómica\n",
    "\n",
    "FunPrueba = lambda r,alpha: exp(-alpha*r)\n",
    "\n",
    "def Energia_variacional(alpha):\n",
    "    \n",
    "    r = symbols('r')\n",
    "    \n",
    "    # Funcion de prueba\n",
    "    R = FunPrueba(r, alpha)\n",
    "\n",
    "    # Primera derivada de la funcion de prueba.\n",
    "    d1R = diff(FunPrueba(r,alpha),r)\n",
    "    \n",
    "    # Segunda derivada de la funcion de prueba.\n",
    "    d2R = diff(FunPrueba(r,alpha),r,2)\n",
    "    \n",
    "    RHR = r**2 *, R*(-1/(2*mu)*(d2R+2/r*d1R) + l*(l+1)/(2*mu*r**2)*R - Z/r*R)\n",
    "    I1 = integrate(RHR, (r, 1e-6, oo))\n",
    "    \n",
    "    RR =  r**2 * R**2\n",
    "    I2 = integrate(RR, (r, 1e-6, oo))\n",
    "    \n",
    "    return (4*pi*I1)/(4*pi*I2)"
   ]
  },
  {
   "cell_type": "markdown",
   "metadata": {
    "colab_type": "text",
    "id": "J3Qj2IdulCKf"
   },
   "source": [
    "Tener en cuenta:\n",
    "\n",
    "+ El límite inferior de integración no es 0 como en el caso exacto, sino un número muy pequeño debido a que los cálculos numéricos pueden generar errores cuando se divide por cero (en términos como 1/r).  \n",
    "\n",
    "\n",
    "+ La multiplicación por $r^2$ en las integrales tanto del numerador como del denoinador; desde el término de integración polar esférica, la integración sobre las porciones angulares se realiza analíticamente, produciendo los términos de 4pi en el numerador y el denominador. Los he incluido aquí como un recordatorio para usted acerca de la integración, pero en la práctica podrían ser omitidos del cálculo numérico.  \n",
    "\n",
    "\n",
    "+ El ejemplo aquí es algo ineficaz, ya que la Energía_variacional($\\alpha$) genera los derivados de la FunciónPrueba cada vez que se llama a i. Para problemas más exigentes, se desea evaluarlos solo una vez, pero para el caso no es necesario y el código es más sencillo."
   ]
  },
  {
   "cell_type": "markdown",
   "metadata": {
    "colab_type": "text",
    "id": "X_crmEHslCKk"
   },
   "source": [
    "## Minimización del parámetro variacional"
   ]
  },
  {
   "cell_type": "markdown",
   "metadata": {
    "colab_type": "text",
    "id": "skPoCRmrlCKo"
   },
   "source": [
    "Dado que $\\alpha$ es el único parámetro variacional, una forma sencilla de encontrar el valor óptimo del parámetro es trazar la energía_variacional como una función del parámetro alfa y luego observar el resultado para determinar un aproximado del mínimo:"
   ]
  },
  {
   "cell_type": "code",
   "execution_count": 0,
   "metadata": {
    "colab": {},
    "colab_type": "code",
    "id": "-5SobJOklCKs",
    "outputId": "84f947e4-0b0d-47b8-fb08-9cff2af72494"
   },
   "outputs": [
    {
     "data": {
      "image/png": "[encoded data removed]",
      "text/plain": [
       "<Figure size 432x324 with 1 Axes>"
      ]
     },
     "metadata": {
      "needs_background": "light",
      "tags": []
     },
     "output_type": "display_data"
    }
   ],
   "source": [
    "%matplotlib inline\n",
    "import numpy as np\n",
    "import matplotlib.pyplot as plt\n",
    "\n",
    "x = np.linspace(0.1,3.0,10)\n",
    "y= [Energia_variacional(i) for i in x]\n",
    "\n",
    "plt.figure(figsize=(6,4.5))\n",
    "plt.plot(x,y)\n",
    "plt.xlabel('alpha', fontsize=12)\n",
    "plt.ylabel('Energía de Prueba', fontsize=12)\n",
    "plt.grid()\n",
    "plt.show()"
   ]
  },
  {
   "cell_type": "markdown",
   "metadata": {
    "colab_type": "text",
    "id": "HsJqD_YklCK4"
   },
   "source": [
    "El mínimo parece ser aproximadamente a = 1, pero se puede determinar el valor de manera más precisa utilizando el siguiente código. El gráfico indica que el mínimo está entre $0.5<\\alpha<11.5$; y esto especifica un rango de búsqueda que acelera el proceso de minimización."
   ]
  },
  {
   "cell_type": "code",
   "execution_count": 0,
   "metadata": {
    "colab": {},
    "colab_type": "code",
    "id": "MdC6hHyolCK7",
    "outputId": "32b4bd70-1bca-4b2c-9b42-c59ea186fa57"
   },
   "outputs": [
    {
     "name": "stdout",
     "output_type": "stream",
     "text": [
      "alpha=1.00000000000200 Etrial=-0.500000000000000\n"
     ]
    }
   ],
   "source": [
    "alpha = symbols('alpha')\n",
    "f = Energia_variacional(alpha)\n",
    "r = solve(f.diff(alpha), alpha)\n",
    "f = f.subs(alpha, r[0])\n",
    "print(\"alpha=\"+str(r[0]), \"Etrial=\"+str(f))"
   ]
  },
  {
   "cell_type": "markdown",
   "metadata": {
    "colab_type": "text",
    "id": "hmEdB1nElCLO"
   },
   "source": [
    "Esto da el resultado exacto $\\alpha = Z = 1$ y la energía exacta (-0.5 hartree); la primera conjetura \"para la secuencia de prueba fue la solución de estado fundamental exacto."
   ]
  },
  {
   "cell_type": "code",
   "execution_count": 0,
   "metadata": {
    "colab": {},
    "colab_type": "code",
    "id": "suWOdHMRlCLR"
   },
   "outputs": [],
   "source": []
  }
 ],
 "metadata": {
  "colab": {
   "include_colab_link": true,
   "name": "Tarea 1 - Método Variacional.ipynb",
   "provenance": [],
   "version": "0.3.2"
  },
  "kernelspec": {
   "display_name": "Python 2",
   "language": "python",
   "name": "python2"
  },
  "language_info": {
   "codemirror_mode": {
    "name": "ipython",
    "version": 3
   },
   "file_extension": ".py",
   "mimetype": "text/x-python",
   "name": "python",
   "nbconvert_exporter": "python",
   "pygments_lexer": "ipython3",
   "version": "3.6.7"
  }
 },
 "nbformat": 4,
 "nbformat_minor": 1
}
