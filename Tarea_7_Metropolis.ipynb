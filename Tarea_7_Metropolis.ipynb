{
 "cells": [
  {
   "cell_type": "markdown",
   "metadata": {},
   "source": [
    "## Metropolis"
   ]
  },
  {
   "cell_type": "code",
   "execution_count": 1,
   "metadata": {},
   "outputs": [],
   "source": [
    "%matplotlib inline\n",
    "import numpy as np\n",
    "import matplotlib.pyplot as plt"
   ]
  },
  {
   "cell_type": "code",
   "execution_count": 2,
   "metadata": {},
   "outputs": [],
   "source": [
    "#------------ METROPOLIS ------------------------------\n",
    "def p(r, alpha):\n",
    "    return phi(r,alpha)*phi(r,alpha)\n",
    "\n",
    "def MCMC(N, alpha,step=0.01):\n",
    "    r = []\n",
    "    r1=np.array([0.,0.,0.])\n",
    "    for i in range(N):\n",
    "        r2 = np.random.random([3])\n",
    "        r2 = r1+step*r2/np.linalg.norm(r2)\n",
    "        P = p(np.linalg.norm(r2), alpha)/p(np.linalg.norm(r1), alpha) \n",
    "        if P >= 1.:\n",
    "            r.append(np.linalg.norm(r2))\n",
    "            r1=r2.copy()\n",
    "        else:\n",
    "            R = np.random.uniform(0,1)\n",
    "            if P >= R:\n",
    "                r.append(np.linalg.norm(r2))\n",
    "                r1=r2.copy()\n",
    "    return np.array(r)"
   ]
  },
  {
   "cell_type": "markdown",
   "metadata": {},
   "source": [
    "## Caso 1:\n",
    "\n",
    "Solución variacional para el átomo de Hidrógeno (en unidades atómicas) con:\n",
    "\n",
    "$$ \\Psi(r) \\approx e^{-\\alpha r / a_0}$$\n",
    "  \n",
    "$$ \\hat{H} = - \\frac{1}{2 \\mu} \\left( \\frac{d^2}{dr^2} + \\frac{2}{r} \\frac{d}{dr} \\right)+ \\frac{l(l+l)}{2 \\mu^2} - \\frac{Z}{r} $$\n",
    "\n",
    "Con:\n",
    "+ $\\alpha$, el parámetro variacional\n",
    "+ $a_0=\\frac{4 \\pi \\epsilon_0 \\hbar^2}{m_e^2}$, el radio de Bohr.\n",
    "+ $Z=1$\n",
    "+ $l=0$, el número cuántico angular. \n",
    "+ $\\hbar=1$\n",
    "+ $m_e=1$\n",
    "+ $4 \\pi \\epsilon_0 = 1 $"
   ]
  },
  {
   "cell_type": "code",
   "execution_count": 3,
   "metadata": {},
   "outputs": [],
   "source": [
    "mu = 1.0  # Masa reducida\n",
    "l = 0.0 # Numero cuantico angular\n",
    "Z = 1.0 # Masa atómica\n",
    "n_samples = 10000\n",
    "\n",
    "def phi(r, alpha):\n",
    "    return np.exp(-alpha*r)\n",
    "\n",
    "# Implementando montecarlo.\n",
    "def Et(alpha, n_samples=n_samples, ls=5.):\n",
    "    \n",
    "    # Integral R*R\n",
    "    r=MCMC(n_samples, alpha)\n",
    "    f= r**2 * np.exp(-2*alpha*r)\n",
    "    fmed=np.sum(f)/len(r)/n_samples\n",
    "    int1 = fmed*(ls-0.0)\n",
    "    \n",
    "    # Integral RHR\n",
    "    R = np.exp(-alpha*r)\n",
    "    d1R = -alpha*np.exp(-alpha*r)\n",
    "    d2R = alpha**2 * np.exp(-alpha*r)\n",
    "    RHR = r**2 * R * (-1/(2*mu)*(d2R + 2/r*d1R) + l*(l+l)/(2*mu**2)*R - Z/r*R)\n",
    "    fmed=np.sum(RHR)*len(r)/n_samples\n",
    "    int2 = fmed*(ls-0.0)\n",
    "    \n",
    "    return int2/int1"
   ]
  },
  {
   "cell_type": "code",
   "execution_count": 4,
   "metadata": {},
   "outputs": [
    {
     "name": "stdout",
     "output_type": "stream",
     "text": [
      "alpha=1.000000 da la mínima energía: -48383284.500000\n"
     ]
    },
    {
     "data": {
      "image/png": "[encoded data removed]",
      "text/plain": [
       "<Figure size 432x324 with 1 Axes>"
      ]
     },
     "metadata": {
      "needs_background": "light"
     },
     "output_type": "display_data"
    }
   ],
   "source": [
    "alphas = np.linspace(0.1,1.5,15)\n",
    "Ets = [Et(alpha) for alpha in alphas]\n",
    "\n",
    "pos = Ets.index(min(Ets))\n",
    "print(\"alpha=%f da la mínima energía: %f\"%(np.round(alphas[pos], 3),\n",
    "                                           np.round(Ets[pos], 3)))\n",
    "plt.figure(figsize=(6,4.5))\n",
    "plt.plot(alphas,Ets, 'r')\n",
    "plt.xlabel('alpha', fontsize=12)\n",
    "plt.ylabel('Energía de Prueba', fontsize=12)\n",
    "plt.grid()\n",
    "plt.show()"
   ]
  },
  {
   "cell_type": "markdown",
   "metadata": {},
   "source": [
    "## Caso 2\n",
    "\n",
    "Consider one particle in one-dimensional Morse potential,\n",
    "\n",
    "$$ V(x) = D_e \\left(1-e^{-\\beta(x-x_0)} \\right)^2$$\n",
    "\n",
    "For concreteness, consider $D_e = 2 E_h$, $\\beta = 1/2 a_0 ^{-1}$, and $m=1 m_e$. Plot the potential and sketch your guess for the wavefunction.  \n",
    "(a) Using a trial function of the form $\\Psi(x)=\\exp(-\\alpha x^2)$, determine the optimal value of $\\alpha$ and find the ground state energyand wavefunction using the Metropolis VMC method."
   ]
  },
  {
   "cell_type": "markdown",
   "metadata": {},
   "source": [
    "**Solución**:\n",
    "\n",
    "+ Se tiene que:\n",
    "\n",
    "$$ \\hat{H} = -\\frac{\\hbar^2}{2 m} \\nabla^2 + V(x) $$\n",
    "\n",
    "+ Por lo tanto:\n",
    "\n",
    "$$ \\hat{H} = - \\frac{1}{2 m} \\left( \\frac{d^2}{dr^2} + \\frac{2}{r} \\frac{d}{dr} \\right) + D_e \\left(1-e^{-\\beta(x-x_0)} \\right)^2 $$"
   ]
  },
  {
   "cell_type": "code",
   "execution_count": 18,
   "metadata": {},
   "outputs": [
    {
     "data": {
      "image/png": "[encoded data removed]",
      "text/plain": [
       "<Figure size 432x324 with 1 Axes>"
      ]
     },
     "metadata": {
      "needs_background": "light"
     },
     "output_type": "display_data"
    }
   ],
   "source": [
    "De = 2 # Eh\n",
    "beta = 0.5 # a0^(-1)\n",
    "m = 1.0  # Masa reducida\n",
    "r0 = 0.\n",
    "n_samples=10000\n",
    "\n",
    "def phi(r, alpha):\n",
    "    return np.exp(-alpha*r**2)\n",
    "\n",
    "def V(r):\n",
    "    return De*(1-np.exp(-beta*(r-r0)))**2\n",
    "    \n",
    "# Implementando montecarlo.\n",
    "def Et(alpha, n_samples=n_samples, ls=5.):\n",
    "    \n",
    "    # Integral R*R\n",
    "    r=MCMC(n_samples, alpha)\n",
    "    f= r**2 * np.exp(-2*alpha*r**2)\n",
    "    fmed=np.sum(f)/len(r)/n_samples\n",
    "    int1 = fmed*(ls-0.0)\n",
    "    \n",
    "    # Integral RHR\n",
    "    R = np.exp(-alpha*r**2)\n",
    "    d1R = -2*alpha*r*np.exp(-alpha*r**2)\n",
    "    d2R = (4 * alpha**2 * r**2 - 2*alpha)*np.exp(-alpha*r**2)\n",
    "    RHR = r**2 * R * (-1/(2*mu)*(d2R + 2/r*d1R) + V(r)*R)\n",
    "    fmed=np.sum(RHR)*len(r)/n_samples\n",
    "    int2 = fmed*(ls-0.0)\n",
    "    \n",
    "    return int2/int1\n",
    "\n",
    "x = np.linspace(-10,5,100)\n",
    "y =  V(x)\n",
    "plt.figure(figsize=(6,4.5))\n",
    "plt.plot(x,y)\n",
    "plt.xlabel('x', fontsize=12)\n",
    "plt.ylabel('V(x)', fontsize=12)\n",
    "plt.grid()\n",
    "plt.show()"
   ]
  },
  {
   "cell_type": "code",
   "execution_count": 22,
   "metadata": {},
   "outputs": [
    {
     "name": "stdout",
     "output_type": "stream",
     "text": [
      "alpha=97.982000 da la mínima energía: 4889362.772000\n"
     ]
    },
    {
     "data": {
      "image/png": "[encoded data removed]",
      "text/plain": [
       "<Figure size 432x324 with 1 Axes>"
      ]
     },
     "metadata": {
      "needs_background": "light"
     },
     "output_type": "display_data"
    }
   ],
   "source": [
    "alphas = np.linspace(0.1,100,100)\n",
    "Ets = [Et(alpha) for alpha in alphas]\n",
    "\n",
    "pos = Ets.index(min(Ets))\n",
    "print(\"alpha=%f da la mínima energía: %f\"%(np.round(alphas[pos], 3),\n",
    "                                           np.round(Ets[pos], 3)))\n",
    "plt.figure(figsize=(6,4.5))\n",
    "plt.plot(alphas,Ets, 'r')\n",
    "plt.xlabel('alpha', fontsize=12)\n",
    "plt.ylabel('Energía de Prueba', fontsize=12)\n",
    "plt.grid()\n",
    "plt.show()"
   ]
  },
  {
   "cell_type": "code",
   "execution_count": null,
   "metadata": {},
   "outputs": [],
   "source": []
  }
 ],
 "metadata": {
  "kernelspec": {
   "display_name": "Python 3",
   "language": "python",
   "name": "python3"
  },
  "language_info": {
   "codemirror_mode": {
    "name": "ipython",
    "version": 3
   },
   "file_extension": ".py",
   "mimetype": "text/x-python",
   "name": "python",
   "nbconvert_exporter": "python",
   "pygments_lexer": "ipython3",
   "version": "3.6.9"
  }
 },
 "nbformat": 4,
 "nbformat_minor": 2
}
